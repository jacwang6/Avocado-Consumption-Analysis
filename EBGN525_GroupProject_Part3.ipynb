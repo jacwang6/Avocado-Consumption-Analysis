{
 "cells": [
  {
   "cell_type": "markdown",
   "metadata": {},
   "source": [
    "## Group Project Part II\n",
    "### Group Number: 4\n",
    "### Team Members: Nataly Chacon, Eric Dong, Juan Jerez, Islah Mohd Nadiman, and Jacky Wang."
   ]
  },
  {
   "cell_type": "code",
   "execution_count": 144,
   "metadata": {
    "id": "dDJnVbJksP8V"
   },
   "outputs": [],
   "source": [
    "import pandas as pd\n",
    "import numpy as np\n",
    "import matplotlib.pyplot as plt\n",
    "import seaborn as sns\n",
    "import datetime\n",
    "\n",
    "from sklearn.model_selection import train_test_split\n",
    "from sklearn.metrics import confusion_matrix, classification_report, accuracy_score\n",
    "from sklearn.preprocessing import StandardScaler\n",
    "from sklearn.linear_model import LinearRegression\n",
    "from sklearn import metrics"
   ]
  },
  {
   "cell_type": "markdown",
   "metadata": {},
   "source": [
    "# Data Cleaning"
   ]
  },
  {
   "cell_type": "markdown",
   "metadata": {},
   "source": [
    "## Fill in Missing Values"
   ]
  },
  {
   "cell_type": "code",
   "execution_count": 145,
   "metadata": {
    "id": "lWJenpVjsP8Z"
   },
   "outputs": [],
   "source": [
    "dirtydf=pd.read_csv('dirty-avocado.csv',  parse_dates = ['Date'])"
   ]
  },
  {
   "cell_type": "code",
   "execution_count": 146,
   "metadata": {
    "id": "KdHd00FnsP8Z",
    "outputId": "a8b078b1-4772-4044-c061-7237db34f322"
   },
   "outputs": [
    {
     "data": {
      "text/html": [
       "<div>\n",
       "<style scoped>\n",
       "    .dataframe tbody tr th:only-of-type {\n",
       "        vertical-align: middle;\n",
       "    }\n",
       "\n",
       "    .dataframe tbody tr th {\n",
       "        vertical-align: top;\n",
       "    }\n",
       "\n",
       "    .dataframe thead th {\n",
       "        text-align: right;\n",
       "    }\n",
       "</style>\n",
       "<table border=\"1\" class=\"dataframe\">\n",
       "  <thead>\n",
       "    <tr style=\"text-align: right;\">\n",
       "      <th></th>\n",
       "      <th>Unnamed: 0</th>\n",
       "      <th>AveragePrice</th>\n",
       "      <th>Total Volume</th>\n",
       "      <th>4046</th>\n",
       "      <th>4225</th>\n",
       "      <th>4770</th>\n",
       "      <th>Total Bags</th>\n",
       "      <th>Small Bags</th>\n",
       "      <th>Large Bags</th>\n",
       "      <th>XLarge Bags</th>\n",
       "      <th>year</th>\n",
       "    </tr>\n",
       "  </thead>\n",
       "  <tbody>\n",
       "    <tr>\n",
       "      <th>count</th>\n",
       "      <td>18249.000000</td>\n",
       "      <td>18249.000000</td>\n",
       "      <td>1.822200e+04</td>\n",
       "      <td>1.820300e+04</td>\n",
       "      <td>1.821800e+04</td>\n",
       "      <td>1.820600e+04</td>\n",
       "      <td>1.822600e+04</td>\n",
       "      <td>1.822400e+04</td>\n",
       "      <td>1.822500e+04</td>\n",
       "      <td>18209.000000</td>\n",
       "      <td>18249.000000</td>\n",
       "    </tr>\n",
       "    <tr>\n",
       "      <th>mean</th>\n",
       "      <td>24.232232</td>\n",
       "      <td>1.405978</td>\n",
       "      <td>8.516726e+05</td>\n",
       "      <td>2.930055e+05</td>\n",
       "      <td>2.954834e+05</td>\n",
       "      <td>2.288559e+04</td>\n",
       "      <td>2.398580e+05</td>\n",
       "      <td>1.823160e+05</td>\n",
       "      <td>5.437999e+04</td>\n",
       "      <td>3111.206721</td>\n",
       "      <td>2016.147899</td>\n",
       "    </tr>\n",
       "    <tr>\n",
       "      <th>std</th>\n",
       "      <td>15.481045</td>\n",
       "      <td>0.402677</td>\n",
       "      <td>3.455983e+06</td>\n",
       "      <td>1.263907e+06</td>\n",
       "      <td>1.205090e+06</td>\n",
       "      <td>1.075821e+05</td>\n",
       "      <td>9.868292e+05</td>\n",
       "      <td>7.466333e+05</td>\n",
       "      <td>2.441115e+05</td>\n",
       "      <td>17711.429099</td>\n",
       "      <td>0.939938</td>\n",
       "    </tr>\n",
       "    <tr>\n",
       "      <th>min</th>\n",
       "      <td>0.000000</td>\n",
       "      <td>0.440000</td>\n",
       "      <td>8.456000e+01</td>\n",
       "      <td>0.000000e+00</td>\n",
       "      <td>0.000000e+00</td>\n",
       "      <td>0.000000e+00</td>\n",
       "      <td>0.000000e+00</td>\n",
       "      <td>0.000000e+00</td>\n",
       "      <td>0.000000e+00</td>\n",
       "      <td>0.000000</td>\n",
       "      <td>2015.000000</td>\n",
       "    </tr>\n",
       "    <tr>\n",
       "      <th>25%</th>\n",
       "      <td>10.000000</td>\n",
       "      <td>1.100000</td>\n",
       "      <td>1.085037e+04</td>\n",
       "      <td>8.547250e+02</td>\n",
       "      <td>3.010383e+03</td>\n",
       "      <td>0.000000e+00</td>\n",
       "      <td>5.089083e+03</td>\n",
       "      <td>2.860057e+03</td>\n",
       "      <td>1.280700e+02</td>\n",
       "      <td>0.000000</td>\n",
       "      <td>2015.000000</td>\n",
       "    </tr>\n",
       "    <tr>\n",
       "      <th>50%</th>\n",
       "      <td>24.000000</td>\n",
       "      <td>1.370000</td>\n",
       "      <td>1.076544e+05</td>\n",
       "      <td>8.689450e+03</td>\n",
       "      <td>2.909868e+04</td>\n",
       "      <td>1.872250e+02</td>\n",
       "      <td>3.979057e+04</td>\n",
       "      <td>2.640419e+04</td>\n",
       "      <td>2.649830e+03</td>\n",
       "      <td>0.000000</td>\n",
       "      <td>2016.000000</td>\n",
       "    </tr>\n",
       "    <tr>\n",
       "      <th>75%</th>\n",
       "      <td>38.000000</td>\n",
       "      <td>1.660000</td>\n",
       "      <td>4.335570e+05</td>\n",
       "      <td>1.112340e+05</td>\n",
       "      <td>1.502919e+05</td>\n",
       "      <td>6.259002e+03</td>\n",
       "      <td>1.108758e+05</td>\n",
       "      <td>8.335586e+04</td>\n",
       "      <td>2.205457e+04</td>\n",
       "      <td>133.330000</td>\n",
       "      <td>2017.000000</td>\n",
       "    </tr>\n",
       "    <tr>\n",
       "      <th>max</th>\n",
       "      <td>52.000000</td>\n",
       "      <td>3.250000</td>\n",
       "      <td>6.250565e+07</td>\n",
       "      <td>2.274362e+07</td>\n",
       "      <td>2.047057e+07</td>\n",
       "      <td>2.546439e+06</td>\n",
       "      <td>1.937313e+07</td>\n",
       "      <td>1.338459e+07</td>\n",
       "      <td>5.719097e+06</td>\n",
       "      <td>551693.650000</td>\n",
       "      <td>2018.000000</td>\n",
       "    </tr>\n",
       "  </tbody>\n",
       "</table>\n",
       "</div>"
      ],
      "text/plain": [
       "         Unnamed: 0  AveragePrice  Total Volume          4046          4225  \\\n",
       "count  18249.000000  18249.000000  1.822200e+04  1.820300e+04  1.821800e+04   \n",
       "mean      24.232232      1.405978  8.516726e+05  2.930055e+05  2.954834e+05   \n",
       "std       15.481045      0.402677  3.455983e+06  1.263907e+06  1.205090e+06   \n",
       "min        0.000000      0.440000  8.456000e+01  0.000000e+00  0.000000e+00   \n",
       "25%       10.000000      1.100000  1.085037e+04  8.547250e+02  3.010383e+03   \n",
       "50%       24.000000      1.370000  1.076544e+05  8.689450e+03  2.909868e+04   \n",
       "75%       38.000000      1.660000  4.335570e+05  1.112340e+05  1.502919e+05   \n",
       "max       52.000000      3.250000  6.250565e+07  2.274362e+07  2.047057e+07   \n",
       "\n",
       "               4770    Total Bags    Small Bags    Large Bags    XLarge Bags  \\\n",
       "count  1.820600e+04  1.822600e+04  1.822400e+04  1.822500e+04   18209.000000   \n",
       "mean   2.288559e+04  2.398580e+05  1.823160e+05  5.437999e+04    3111.206721   \n",
       "std    1.075821e+05  9.868292e+05  7.466333e+05  2.441115e+05   17711.429099   \n",
       "min    0.000000e+00  0.000000e+00  0.000000e+00  0.000000e+00       0.000000   \n",
       "25%    0.000000e+00  5.089083e+03  2.860057e+03  1.280700e+02       0.000000   \n",
       "50%    1.872250e+02  3.979057e+04  2.640419e+04  2.649830e+03       0.000000   \n",
       "75%    6.259002e+03  1.108758e+05  8.335586e+04  2.205457e+04     133.330000   \n",
       "max    2.546439e+06  1.937313e+07  1.338459e+07  5.719097e+06  551693.650000   \n",
       "\n",
       "               year  \n",
       "count  18249.000000  \n",
       "mean    2016.147899  \n",
       "std        0.939938  \n",
       "min     2015.000000  \n",
       "25%     2015.000000  \n",
       "50%     2016.000000  \n",
       "75%     2017.000000  \n",
       "max     2018.000000  "
      ]
     },
     "execution_count": 146,
     "metadata": {},
     "output_type": "execute_result"
    }
   ],
   "source": [
    "dirtydf.describe()"
   ]
  },
  {
   "cell_type": "code",
   "execution_count": 147,
   "metadata": {
    "id": "oHVM4FRzsP8a",
    "outputId": "2e5a576e-e2f8-4dd5-8f6f-935249e80b0d"
   },
   "outputs": [
    {
     "data": {
      "text/html": [
       "<div>\n",
       "<style scoped>\n",
       "    .dataframe tbody tr th:only-of-type {\n",
       "        vertical-align: middle;\n",
       "    }\n",
       "\n",
       "    .dataframe tbody tr th {\n",
       "        vertical-align: top;\n",
       "    }\n",
       "\n",
       "    .dataframe thead th {\n",
       "        text-align: right;\n",
       "    }\n",
       "</style>\n",
       "<table border=\"1\" class=\"dataframe\">\n",
       "  <thead>\n",
       "    <tr style=\"text-align: right;\">\n",
       "      <th></th>\n",
       "      <th>Unnamed: 0</th>\n",
       "      <th>Date</th>\n",
       "      <th>AveragePrice</th>\n",
       "      <th>Total Volume</th>\n",
       "      <th>4046</th>\n",
       "      <th>4225</th>\n",
       "      <th>4770</th>\n",
       "      <th>Total Bags</th>\n",
       "      <th>Small Bags</th>\n",
       "      <th>Large Bags</th>\n",
       "      <th>XLarge Bags</th>\n",
       "      <th>type</th>\n",
       "      <th>year</th>\n",
       "      <th>region</th>\n",
       "    </tr>\n",
       "  </thead>\n",
       "  <tbody>\n",
       "    <tr>\n",
       "      <th>0</th>\n",
       "      <td>0</td>\n",
       "      <td>2015-12-27</td>\n",
       "      <td>1.33</td>\n",
       "      <td>64236.62</td>\n",
       "      <td>1036.74</td>\n",
       "      <td>54454.85</td>\n",
       "      <td>48.16</td>\n",
       "      <td>8696.87</td>\n",
       "      <td>8603.62</td>\n",
       "      <td>93.25</td>\n",
       "      <td>0.0</td>\n",
       "      <td>conventional</td>\n",
       "      <td>2015</td>\n",
       "      <td>Albany</td>\n",
       "    </tr>\n",
       "    <tr>\n",
       "      <th>1</th>\n",
       "      <td>1</td>\n",
       "      <td>2015-12-20</td>\n",
       "      <td>1.35</td>\n",
       "      <td>54876.98</td>\n",
       "      <td>674.28</td>\n",
       "      <td>44638.81</td>\n",
       "      <td>58.33</td>\n",
       "      <td>9505.56</td>\n",
       "      <td>9408.07</td>\n",
       "      <td>97.49</td>\n",
       "      <td>0.0</td>\n",
       "      <td>conventional</td>\n",
       "      <td>2015</td>\n",
       "      <td>Albany</td>\n",
       "    </tr>\n",
       "    <tr>\n",
       "      <th>2</th>\n",
       "      <td>2</td>\n",
       "      <td>2015-12-13</td>\n",
       "      <td>0.93</td>\n",
       "      <td>118220.22</td>\n",
       "      <td>794.70</td>\n",
       "      <td>109149.67</td>\n",
       "      <td>130.50</td>\n",
       "      <td>8145.35</td>\n",
       "      <td>8042.21</td>\n",
       "      <td>103.14</td>\n",
       "      <td>0.0</td>\n",
       "      <td>conventional</td>\n",
       "      <td>2015</td>\n",
       "      <td>Albany</td>\n",
       "    </tr>\n",
       "    <tr>\n",
       "      <th>3</th>\n",
       "      <td>3</td>\n",
       "      <td>2015-12-06</td>\n",
       "      <td>1.08</td>\n",
       "      <td>78992.15</td>\n",
       "      <td>1132.00</td>\n",
       "      <td>71976.41</td>\n",
       "      <td>72.58</td>\n",
       "      <td>5811.16</td>\n",
       "      <td>5677.40</td>\n",
       "      <td>133.76</td>\n",
       "      <td>0.0</td>\n",
       "      <td>conventional</td>\n",
       "      <td>2015</td>\n",
       "      <td>Albany</td>\n",
       "    </tr>\n",
       "    <tr>\n",
       "      <th>4</th>\n",
       "      <td>4</td>\n",
       "      <td>2015-11-29</td>\n",
       "      <td>1.28</td>\n",
       "      <td>51039.60</td>\n",
       "      <td>941.48</td>\n",
       "      <td>43838.39</td>\n",
       "      <td>75.78</td>\n",
       "      <td>6183.95</td>\n",
       "      <td>5986.26</td>\n",
       "      <td>197.69</td>\n",
       "      <td>0.0</td>\n",
       "      <td>conventional</td>\n",
       "      <td>2015</td>\n",
       "      <td>Albany</td>\n",
       "    </tr>\n",
       "  </tbody>\n",
       "</table>\n",
       "</div>"
      ],
      "text/plain": [
       "   Unnamed: 0       Date  AveragePrice  Total Volume     4046       4225  \\\n",
       "0           0 2015-12-27          1.33      64236.62  1036.74   54454.85   \n",
       "1           1 2015-12-20          1.35      54876.98   674.28   44638.81   \n",
       "2           2 2015-12-13          0.93     118220.22   794.70  109149.67   \n",
       "3           3 2015-12-06          1.08      78992.15  1132.00   71976.41   \n",
       "4           4 2015-11-29          1.28      51039.60   941.48   43838.39   \n",
       "\n",
       "     4770  Total Bags  Small Bags  Large Bags  XLarge Bags          type  \\\n",
       "0   48.16     8696.87     8603.62       93.25          0.0  conventional   \n",
       "1   58.33     9505.56     9408.07       97.49          0.0  conventional   \n",
       "2  130.50     8145.35     8042.21      103.14          0.0  conventional   \n",
       "3   72.58     5811.16     5677.40      133.76          0.0  conventional   \n",
       "4   75.78     6183.95     5986.26      197.69          0.0  conventional   \n",
       "\n",
       "   year  region  \n",
       "0  2015  Albany  \n",
       "1  2015  Albany  \n",
       "2  2015  Albany  \n",
       "3  2015  Albany  \n",
       "4  2015  Albany  "
      ]
     },
     "execution_count": 147,
     "metadata": {},
     "output_type": "execute_result"
    }
   ],
   "source": [
    "dirtydf.head()"
   ]
  },
  {
   "cell_type": "code",
   "execution_count": 148,
   "metadata": {
    "id": "O1RhFPwasP8a",
    "outputId": "b206d7a2-9068-4eb9-9ab3-d05d7e4bb4fb"
   },
   "outputs": [
    {
     "data": {
      "text/plain": [
       "Unnamed: 0       0\n",
       "Date             0\n",
       "AveragePrice     0\n",
       "Total Volume    27\n",
       "4046            46\n",
       "4225            31\n",
       "4770            43\n",
       "Total Bags      23\n",
       "Small Bags      25\n",
       "Large Bags      24\n",
       "XLarge Bags     40\n",
       "type            40\n",
       "year             0\n",
       "region           0\n",
       "dtype: int64"
      ]
     },
     "execution_count": 148,
     "metadata": {},
     "output_type": "execute_result"
    }
   ],
   "source": [
    "dirtydf.isnull().sum(axis=0)"
   ]
  },
  {
   "cell_type": "code",
   "execution_count": 149,
   "metadata": {
    "id": "TLQpN-qvsP8b",
    "outputId": "9d0330f2-aedf-4bf4-c543-439158b51bc9"
   },
   "outputs": [
    {
     "name": "stdout",
     "output_type": "stream",
     "text": [
      "Unnamed: 0 53\n",
      "Date 169\n",
      "AveragePrice 259\n",
      "Total Volume 18210\n",
      "4046 17662\n",
      "4225 18073\n",
      "4770 12061\n",
      "Total Bags 18074\n",
      "Small Bags 17297\n",
      "Large Bags 15065\n",
      "XLarge Bags 5581\n",
      "type 2\n",
      "year 4\n",
      "region 54\n"
     ]
    }
   ],
   "source": [
    "for col in dirtydf: #find number of unique values. Only applies to the type, year, region (discrete vals).\n",
    "    print(col, dirtydf[col].nunique())\n"
   ]
  },
  {
   "cell_type": "code",
   "execution_count": 150,
   "metadata": {
    "id": "4w74nTGnsP8b",
    "outputId": "60308700-6075-432f-97aa-8f1b0003c18d"
   },
   "outputs": [
    {
     "data": {
      "text/plain": [
       "Unnamed: 0               int64\n",
       "Date            datetime64[ns]\n",
       "AveragePrice           float64\n",
       "Total Volume           float64\n",
       "4046                   float64\n",
       "4225                   float64\n",
       "4770                   float64\n",
       "Total Bags             float64\n",
       "Small Bags             float64\n",
       "Large Bags             float64\n",
       "XLarge Bags            float64\n",
       "type                    object\n",
       "year                     int64\n",
       "region                  object\n",
       "dtype: object"
      ]
     },
     "execution_count": 150,
     "metadata": {},
     "output_type": "execute_result"
    }
   ],
   "source": [
    "dirtydf.dtypes"
   ]
  },
  {
   "cell_type": "code",
   "execution_count": 151,
   "metadata": {
    "id": "3ZaEfLFpsP8c",
    "outputId": "114d2f4a-a2a6-4e3b-8281-f9c546111982"
   },
   "outputs": [
    {
     "data": {
      "text/plain": [
       "conventional    9116\n",
       "organic         9093\n",
       "Name: type, dtype: int64"
      ]
     },
     "execution_count": 151,
     "metadata": {},
     "output_type": "execute_result"
    }
   ],
   "source": [
    "dirtydf['type'].value_counts() "
   ]
  },
  {
   "cell_type": "code",
   "execution_count": 152,
   "metadata": {
    "id": "iOGbw0yYsP8d",
    "outputId": "416c5a6b-62c6-4a06-a229-485e22194f9d"
   },
   "outputs": [
    {
     "data": {
      "text/plain": [
       "[2017, 2016, 2015, 2018]"
      ]
     },
     "execution_count": 152,
     "metadata": {},
     "output_type": "execute_result"
    }
   ],
   "source": [
    "s=dirtydf['region'].value_counts()\n",
    "regions = s.index.tolist()\n",
    "\n",
    "d=dirtydf['year'].value_counts()\n",
    "years = d.index.tolist()\n",
    "\n",
    "years"
   ]
  },
  {
   "cell_type": "code",
   "execution_count": 153,
   "metadata": {
    "id": "yPFy8iHlsP8d",
    "outputId": "0b439405-ca9b-4a1c-9ee5-eec0a7828763"
   },
   "outputs": [
    {
     "name": "stderr",
     "output_type": "stream",
     "text": [
      "C:\\Users\\Clash\\Anaconda3\\lib\\site-packages\\ipykernel_launcher.py:14: SettingWithCopyWarning: \n",
      "A value is trying to be set on a copy of a slice from a DataFrame.\n",
      "Try using .loc[row_indexer,col_indexer] = value instead\n",
      "\n",
      "See the caveats in the documentation: https://pandas.pydata.org/pandas-docs/stable/user_guide/indexing.html#returning-a-view-versus-a-copy\n",
      "  \n",
      "C:\\Users\\Clash\\Anaconda3\\lib\\site-packages\\ipykernel_launcher.py:17: SettingWithCopyWarning: \n",
      "A value is trying to be set on a copy of a slice from a DataFrame.\n",
      "Try using .loc[row_indexer,col_indexer] = value instead\n",
      "\n",
      "See the caveats in the documentation: https://pandas.pydata.org/pandas-docs/stable/user_guide/indexing.html#returning-a-view-versus-a-copy\n"
     ]
    }
   ],
   "source": [
    "cleandf = pd.DataFrame(columns=dirtydf.columns.values.tolist())\n",
    "#print(cleandf)\n",
    "\n",
    "valuestofill = ['Total Volume', '4046', '4225', '4770','Total Bags', 'Small Bags', 'Large Bags', 'XLarge Bags']\n",
    "\n",
    "#fill na based on average of region and year\n",
    "#fill type based on most common\n",
    "for region in regions: \n",
    "    tempdf = dirtydf[dirtydf['region']==region]\n",
    "    for year in years:\n",
    "        newtempdf = tempdf[tempdf['year']==year]\n",
    "        for col in valuestofill:\n",
    "            if newtempdf[col].isnull().sum() > 0:\n",
    "                newtempdf[col]=newtempdf[col].fillna(newtempdf[col].mean())\n",
    "        if newtempdf['type'].isnull().sum() > 0:\n",
    "            mode = newtempdf['type'].mode()[0]\n",
    "            newtempdf['type']=newtempdf['type'].fillna(mode)\n",
    "        cleandf = cleandf.append(newtempdf)\n",
    "\n",
    "    "
   ]
  },
  {
   "cell_type": "code",
   "execution_count": 154,
   "metadata": {
    "id": "8ETIbKNssP8e",
    "outputId": "92563e84-c917-4eac-b247-ed27a24f0c8b"
   },
   "outputs": [
    {
     "data": {
      "text/plain": [
       "Unnamed: 0      0\n",
       "Date            0\n",
       "AveragePrice    0\n",
       "Total Volume    0\n",
       "4046            0\n",
       "4225            0\n",
       "4770            0\n",
       "Total Bags      0\n",
       "Small Bags      0\n",
       "Large Bags      0\n",
       "XLarge Bags     0\n",
       "type            0\n",
       "year            0\n",
       "region          0\n",
       "dtype: int64"
      ]
     },
     "execution_count": 154,
     "metadata": {},
     "output_type": "execute_result"
    }
   ],
   "source": [
    "cleandf.isnull().sum(axis=0)"
   ]
  },
  {
   "cell_type": "markdown",
   "metadata": {},
   "source": [
    "## Changing the conventional/organic column to 0/1"
   ]
  },
  {
   "cell_type": "code",
   "execution_count": 155,
   "metadata": {
    "id": "P0j-JmxTsP8e"
   },
   "outputs": [],
   "source": [
    "dummy_columns = pd.get_dummies(cleandf['type'], drop_first=True)\n",
    "cleandf=pd.concat([cleandf, dummy_columns], axis=1)"
   ]
  },
  {
   "cell_type": "code",
   "execution_count": 156,
   "metadata": {
    "id": "z9vyD0hNsP8f",
    "outputId": "6cca8461-cade-4266-f59c-b4142706cfd7"
   },
   "outputs": [
    {
     "data": {
      "text/html": [
       "<div>\n",
       "<style scoped>\n",
       "    .dataframe tbody tr th:only-of-type {\n",
       "        vertical-align: middle;\n",
       "    }\n",
       "\n",
       "    .dataframe tbody tr th {\n",
       "        vertical-align: top;\n",
       "    }\n",
       "\n",
       "    .dataframe thead th {\n",
       "        text-align: right;\n",
       "    }\n",
       "</style>\n",
       "<table border=\"1\" class=\"dataframe\">\n",
       "  <thead>\n",
       "    <tr style=\"text-align: right;\">\n",
       "      <th></th>\n",
       "      <th>Unnamed: 0</th>\n",
       "      <th>Date</th>\n",
       "      <th>AveragePrice</th>\n",
       "      <th>Total Volume</th>\n",
       "      <th>4046</th>\n",
       "      <th>4225</th>\n",
       "      <th>4770</th>\n",
       "      <th>Total Bags</th>\n",
       "      <th>Small Bags</th>\n",
       "      <th>Large Bags</th>\n",
       "      <th>XLarge Bags</th>\n",
       "      <th>type</th>\n",
       "      <th>year</th>\n",
       "      <th>region</th>\n",
       "      <th>organic</th>\n",
       "    </tr>\n",
       "  </thead>\n",
       "  <tbody>\n",
       "    <tr>\n",
       "      <th>5616</th>\n",
       "      <td>0</td>\n",
       "      <td>2017-12-31</td>\n",
       "      <td>1.47</td>\n",
       "      <td>113514.42</td>\n",
       "      <td>2622.70</td>\n",
       "      <td>101135.53</td>\n",
       "      <td>20.25</td>\n",
       "      <td>9735.94</td>\n",
       "      <td>5556.98</td>\n",
       "      <td>4178.96</td>\n",
       "      <td>0.0</td>\n",
       "      <td>conventional</td>\n",
       "      <td>2017</td>\n",
       "      <td>Albany</td>\n",
       "      <td>0</td>\n",
       "    </tr>\n",
       "    <tr>\n",
       "      <th>5617</th>\n",
       "      <td>1</td>\n",
       "      <td>2017-12-24</td>\n",
       "      <td>1.45</td>\n",
       "      <td>77039.09</td>\n",
       "      <td>2811.71</td>\n",
       "      <td>58592.23</td>\n",
       "      <td>19.06</td>\n",
       "      <td>15616.09</td>\n",
       "      <td>6863.18</td>\n",
       "      <td>8752.91</td>\n",
       "      <td>0.0</td>\n",
       "      <td>conventional</td>\n",
       "      <td>2017</td>\n",
       "      <td>Albany</td>\n",
       "      <td>0</td>\n",
       "    </tr>\n",
       "    <tr>\n",
       "      <th>5618</th>\n",
       "      <td>2</td>\n",
       "      <td>2017-12-17</td>\n",
       "      <td>1.43</td>\n",
       "      <td>70677.56</td>\n",
       "      <td>2578.95</td>\n",
       "      <td>50811.52</td>\n",
       "      <td>79.18</td>\n",
       "      <td>17207.91</td>\n",
       "      <td>8914.13</td>\n",
       "      <td>8293.78</td>\n",
       "      <td>0.0</td>\n",
       "      <td>conventional</td>\n",
       "      <td>2017</td>\n",
       "      <td>Albany</td>\n",
       "      <td>0</td>\n",
       "    </tr>\n",
       "    <tr>\n",
       "      <th>5619</th>\n",
       "      <td>3</td>\n",
       "      <td>2017-12-10</td>\n",
       "      <td>1.29</td>\n",
       "      <td>92325.53</td>\n",
       "      <td>3220.05</td>\n",
       "      <td>75147.56</td>\n",
       "      <td>104.36</td>\n",
       "      <td>13853.56</td>\n",
       "      <td>7268.21</td>\n",
       "      <td>6585.35</td>\n",
       "      <td>0.0</td>\n",
       "      <td>conventional</td>\n",
       "      <td>2017</td>\n",
       "      <td>Albany</td>\n",
       "      <td>0</td>\n",
       "    </tr>\n",
       "    <tr>\n",
       "      <th>5620</th>\n",
       "      <td>4</td>\n",
       "      <td>2017-12-03</td>\n",
       "      <td>1.39</td>\n",
       "      <td>139970.00</td>\n",
       "      <td>3772.00</td>\n",
       "      <td>126551.00</td>\n",
       "      <td>136.00</td>\n",
       "      <td>9511.00</td>\n",
       "      <td>7061.00</td>\n",
       "      <td>2450.00</td>\n",
       "      <td>0.0</td>\n",
       "      <td>conventional</td>\n",
       "      <td>2017</td>\n",
       "      <td>Albany</td>\n",
       "      <td>0</td>\n",
       "    </tr>\n",
       "  </tbody>\n",
       "</table>\n",
       "</div>"
      ],
      "text/plain": [
       "     Unnamed: 0       Date  AveragePrice  Total Volume     4046       4225  \\\n",
       "5616          0 2017-12-31          1.47     113514.42  2622.70  101135.53   \n",
       "5617          1 2017-12-24          1.45      77039.09  2811.71   58592.23   \n",
       "5618          2 2017-12-17          1.43      70677.56  2578.95   50811.52   \n",
       "5619          3 2017-12-10          1.29      92325.53  3220.05   75147.56   \n",
       "5620          4 2017-12-03          1.39     139970.00  3772.00  126551.00   \n",
       "\n",
       "        4770  Total Bags  Small Bags  Large Bags  XLarge Bags          type  \\\n",
       "5616   20.25     9735.94     5556.98     4178.96          0.0  conventional   \n",
       "5617   19.06    15616.09     6863.18     8752.91          0.0  conventional   \n",
       "5618   79.18    17207.91     8914.13     8293.78          0.0  conventional   \n",
       "5619  104.36    13853.56     7268.21     6585.35          0.0  conventional   \n",
       "5620  136.00     9511.00     7061.00     2450.00          0.0  conventional   \n",
       "\n",
       "      year  region  organic  \n",
       "5616  2017  Albany        0  \n",
       "5617  2017  Albany        0  \n",
       "5618  2017  Albany        0  \n",
       "5619  2017  Albany        0  \n",
       "5620  2017  Albany        0  "
      ]
     },
     "execution_count": 156,
     "metadata": {},
     "output_type": "execute_result"
    }
   ],
   "source": [
    "cleandf.head()"
   ]
  },
  {
   "cell_type": "markdown",
   "metadata": {},
   "source": [
    "## Remove unneeded columns, which are 'Total Volume', 'Total Bags', 'Unnamed: 0', and 'type'."
   ]
  },
  {
   "cell_type": "code",
   "execution_count": 157,
   "metadata": {
    "id": "0JQmjPrYsP8f",
    "outputId": "c9ff9629-3e89-41f7-8fa6-a685d9b0dc5e"
   },
   "outputs": [
    {
     "data": {
      "text/html": [
       "<div>\n",
       "<style scoped>\n",
       "    .dataframe tbody tr th:only-of-type {\n",
       "        vertical-align: middle;\n",
       "    }\n",
       "\n",
       "    .dataframe tbody tr th {\n",
       "        vertical-align: top;\n",
       "    }\n",
       "\n",
       "    .dataframe thead th {\n",
       "        text-align: right;\n",
       "    }\n",
       "</style>\n",
       "<table border=\"1\" class=\"dataframe\">\n",
       "  <thead>\n",
       "    <tr style=\"text-align: right;\">\n",
       "      <th></th>\n",
       "      <th>Date</th>\n",
       "      <th>AveragePrice</th>\n",
       "      <th>4046</th>\n",
       "      <th>4225</th>\n",
       "      <th>4770</th>\n",
       "      <th>Small Bags</th>\n",
       "      <th>Large Bags</th>\n",
       "      <th>XLarge Bags</th>\n",
       "      <th>year</th>\n",
       "      <th>region</th>\n",
       "      <th>organic</th>\n",
       "    </tr>\n",
       "  </thead>\n",
       "  <tbody>\n",
       "    <tr>\n",
       "      <th>5616</th>\n",
       "      <td>2017-12-31</td>\n",
       "      <td>1.47</td>\n",
       "      <td>2622.70</td>\n",
       "      <td>101135.53</td>\n",
       "      <td>20.25</td>\n",
       "      <td>5556.98</td>\n",
       "      <td>4178.96</td>\n",
       "      <td>0.0</td>\n",
       "      <td>2017</td>\n",
       "      <td>Albany</td>\n",
       "      <td>0</td>\n",
       "    </tr>\n",
       "    <tr>\n",
       "      <th>5617</th>\n",
       "      <td>2017-12-24</td>\n",
       "      <td>1.45</td>\n",
       "      <td>2811.71</td>\n",
       "      <td>58592.23</td>\n",
       "      <td>19.06</td>\n",
       "      <td>6863.18</td>\n",
       "      <td>8752.91</td>\n",
       "      <td>0.0</td>\n",
       "      <td>2017</td>\n",
       "      <td>Albany</td>\n",
       "      <td>0</td>\n",
       "    </tr>\n",
       "    <tr>\n",
       "      <th>5618</th>\n",
       "      <td>2017-12-17</td>\n",
       "      <td>1.43</td>\n",
       "      <td>2578.95</td>\n",
       "      <td>50811.52</td>\n",
       "      <td>79.18</td>\n",
       "      <td>8914.13</td>\n",
       "      <td>8293.78</td>\n",
       "      <td>0.0</td>\n",
       "      <td>2017</td>\n",
       "      <td>Albany</td>\n",
       "      <td>0</td>\n",
       "    </tr>\n",
       "    <tr>\n",
       "      <th>5619</th>\n",
       "      <td>2017-12-10</td>\n",
       "      <td>1.29</td>\n",
       "      <td>3220.05</td>\n",
       "      <td>75147.56</td>\n",
       "      <td>104.36</td>\n",
       "      <td>7268.21</td>\n",
       "      <td>6585.35</td>\n",
       "      <td>0.0</td>\n",
       "      <td>2017</td>\n",
       "      <td>Albany</td>\n",
       "      <td>0</td>\n",
       "    </tr>\n",
       "    <tr>\n",
       "      <th>5620</th>\n",
       "      <td>2017-12-03</td>\n",
       "      <td>1.39</td>\n",
       "      <td>3772.00</td>\n",
       "      <td>126551.00</td>\n",
       "      <td>136.00</td>\n",
       "      <td>7061.00</td>\n",
       "      <td>2450.00</td>\n",
       "      <td>0.0</td>\n",
       "      <td>2017</td>\n",
       "      <td>Albany</td>\n",
       "      <td>0</td>\n",
       "    </tr>\n",
       "  </tbody>\n",
       "</table>\n",
       "</div>"
      ],
      "text/plain": [
       "           Date  AveragePrice     4046       4225    4770  Small Bags  \\\n",
       "5616 2017-12-31          1.47  2622.70  101135.53   20.25     5556.98   \n",
       "5617 2017-12-24          1.45  2811.71   58592.23   19.06     6863.18   \n",
       "5618 2017-12-17          1.43  2578.95   50811.52   79.18     8914.13   \n",
       "5619 2017-12-10          1.29  3220.05   75147.56  104.36     7268.21   \n",
       "5620 2017-12-03          1.39  3772.00  126551.00  136.00     7061.00   \n",
       "\n",
       "      Large Bags  XLarge Bags  year  region  organic  \n",
       "5616     4178.96          0.0  2017  Albany        0  \n",
       "5617     8752.91          0.0  2017  Albany        0  \n",
       "5618     8293.78          0.0  2017  Albany        0  \n",
       "5619     6585.35          0.0  2017  Albany        0  \n",
       "5620     2450.00          0.0  2017  Albany        0  "
      ]
     },
     "execution_count": 157,
     "metadata": {},
     "output_type": "execute_result"
    }
   ],
   "source": [
    "colstodrop=['Total Volume', 'Total Bags', 'Unnamed: 0', 'type'] #Volume is add 3 types and total bags. #bags are total of bags\n",
    "df = cleandf.drop(colstodrop, axis = 1)\n",
    "\n",
    "\n",
    "df.head()"
   ]
  },
  {
   "cell_type": "code",
   "execution_count": 158,
   "metadata": {
    "id": "vBdZQvgVsP8g"
   },
   "outputs": [],
   "source": [
    "import datetime\n",
    "month= df['Date'].dt.month\n",
    "\n",
    "df.insert(1, 'Month' ,month) \n",
    "#TODO: convert to actual numbers to include year"
   ]
  },
  {
   "cell_type": "code",
   "execution_count": 159,
   "metadata": {
    "id": "uY9Pk5kesP8g",
    "outputId": "da9c0a47-56f2-439e-aed8-894f75fe8369"
   },
   "outputs": [
    {
     "data": {
      "text/html": [
       "<div>\n",
       "<style scoped>\n",
       "    .dataframe tbody tr th:only-of-type {\n",
       "        vertical-align: middle;\n",
       "    }\n",
       "\n",
       "    .dataframe tbody tr th {\n",
       "        vertical-align: top;\n",
       "    }\n",
       "\n",
       "    .dataframe thead th {\n",
       "        text-align: right;\n",
       "    }\n",
       "</style>\n",
       "<table border=\"1\" class=\"dataframe\">\n",
       "  <thead>\n",
       "    <tr style=\"text-align: right;\">\n",
       "      <th></th>\n",
       "      <th>Date</th>\n",
       "      <th>Month</th>\n",
       "      <th>AveragePrice</th>\n",
       "      <th>4046</th>\n",
       "      <th>4225</th>\n",
       "      <th>4770</th>\n",
       "      <th>Small Bags</th>\n",
       "      <th>Large Bags</th>\n",
       "      <th>XLarge Bags</th>\n",
       "      <th>year</th>\n",
       "      <th>region</th>\n",
       "      <th>organic</th>\n",
       "    </tr>\n",
       "  </thead>\n",
       "  <tbody>\n",
       "    <tr>\n",
       "      <th>5616</th>\n",
       "      <td>2017-12-31</td>\n",
       "      <td>12</td>\n",
       "      <td>1.47</td>\n",
       "      <td>2622.70</td>\n",
       "      <td>101135.53</td>\n",
       "      <td>20.25</td>\n",
       "      <td>5556.98</td>\n",
       "      <td>4178.96</td>\n",
       "      <td>0.0</td>\n",
       "      <td>2017</td>\n",
       "      <td>Albany</td>\n",
       "      <td>0</td>\n",
       "    </tr>\n",
       "    <tr>\n",
       "      <th>5617</th>\n",
       "      <td>2017-12-24</td>\n",
       "      <td>12</td>\n",
       "      <td>1.45</td>\n",
       "      <td>2811.71</td>\n",
       "      <td>58592.23</td>\n",
       "      <td>19.06</td>\n",
       "      <td>6863.18</td>\n",
       "      <td>8752.91</td>\n",
       "      <td>0.0</td>\n",
       "      <td>2017</td>\n",
       "      <td>Albany</td>\n",
       "      <td>0</td>\n",
       "    </tr>\n",
       "    <tr>\n",
       "      <th>5618</th>\n",
       "      <td>2017-12-17</td>\n",
       "      <td>12</td>\n",
       "      <td>1.43</td>\n",
       "      <td>2578.95</td>\n",
       "      <td>50811.52</td>\n",
       "      <td>79.18</td>\n",
       "      <td>8914.13</td>\n",
       "      <td>8293.78</td>\n",
       "      <td>0.0</td>\n",
       "      <td>2017</td>\n",
       "      <td>Albany</td>\n",
       "      <td>0</td>\n",
       "    </tr>\n",
       "    <tr>\n",
       "      <th>5619</th>\n",
       "      <td>2017-12-10</td>\n",
       "      <td>12</td>\n",
       "      <td>1.29</td>\n",
       "      <td>3220.05</td>\n",
       "      <td>75147.56</td>\n",
       "      <td>104.36</td>\n",
       "      <td>7268.21</td>\n",
       "      <td>6585.35</td>\n",
       "      <td>0.0</td>\n",
       "      <td>2017</td>\n",
       "      <td>Albany</td>\n",
       "      <td>0</td>\n",
       "    </tr>\n",
       "    <tr>\n",
       "      <th>5620</th>\n",
       "      <td>2017-12-03</td>\n",
       "      <td>12</td>\n",
       "      <td>1.39</td>\n",
       "      <td>3772.00</td>\n",
       "      <td>126551.00</td>\n",
       "      <td>136.00</td>\n",
       "      <td>7061.00</td>\n",
       "      <td>2450.00</td>\n",
       "      <td>0.0</td>\n",
       "      <td>2017</td>\n",
       "      <td>Albany</td>\n",
       "      <td>0</td>\n",
       "    </tr>\n",
       "  </tbody>\n",
       "</table>\n",
       "</div>"
      ],
      "text/plain": [
       "           Date  Month  AveragePrice     4046       4225    4770  Small Bags  \\\n",
       "5616 2017-12-31     12          1.47  2622.70  101135.53   20.25     5556.98   \n",
       "5617 2017-12-24     12          1.45  2811.71   58592.23   19.06     6863.18   \n",
       "5618 2017-12-17     12          1.43  2578.95   50811.52   79.18     8914.13   \n",
       "5619 2017-12-10     12          1.29  3220.05   75147.56  104.36     7268.21   \n",
       "5620 2017-12-03     12          1.39  3772.00  126551.00  136.00     7061.00   \n",
       "\n",
       "      Large Bags  XLarge Bags  year  region  organic  \n",
       "5616     4178.96          0.0  2017  Albany        0  \n",
       "5617     8752.91          0.0  2017  Albany        0  \n",
       "5618     8293.78          0.0  2017  Albany        0  \n",
       "5619     6585.35          0.0  2017  Albany        0  \n",
       "5620     2450.00          0.0  2017  Albany        0  "
      ]
     },
     "execution_count": 159,
     "metadata": {},
     "output_type": "execute_result"
    }
   ],
   "source": [
    "df.head()"
   ]
  },
  {
   "cell_type": "code",
   "execution_count": 160,
   "metadata": {
    "id": "J9WGLiPisP8g",
    "outputId": "a711a034-0749-42c4-beff-5ade7e724fee"
   },
   "outputs": [
    {
     "name": "stderr",
     "output_type": "stream",
     "text": [
      "C:\\Users\\Clash\\Anaconda3\\lib\\site-packages\\seaborn\\distributions.py:2619: FutureWarning: `distplot` is a deprecated function and will be removed in a future version. Please adapt your code to use either `displot` (a figure-level function with similar flexibility) or `histplot` (an axes-level function for histograms).\n",
      "  warnings.warn(msg, FutureWarning)\n"
     ]
    },
    {
     "data": {
      "text/plain": [
       "<AxesSubplot:xlabel='4046', ylabel='Density'>"
      ]
     },
     "execution_count": 160,
     "metadata": {},
     "output_type": "execute_result"
    },
    {
     "data": {
      "image/png": "[encoded data removed]",
      "text/plain": [
       "<Figure size 432x288 with 1 Axes>"
      ]
     },
     "metadata": {},
     "output_type": "display_data"
    }
   ],
   "source": [
    "#Visualize data\n",
    "valuestofill = [ '4046', '4225', '4770', 'Small Bags', 'Large Bags', 'XLarge Bags']\n",
    "sns.set_palette(\"Purples_d\")\n",
    "sns.set_style('whitegrid')\n",
    "\n",
    "sns.distplot(df['4046'])"
   ]
  },
  {
   "cell_type": "markdown",
   "metadata": {},
   "source": [
    "## Remove regions that are duplicates of other terms. \n",
    "### For example, 'TotalUS' is the aggregate of all other columns and the values are considered outliers due to being much larger compared to the other columns."
   ]
  },
  {
   "cell_type": "code",
   "execution_count": 161,
   "metadata": {
    "id": "17mW2EbVsP8h"
   },
   "outputs": [],
   "source": [
    "df = df[(df['region']!= 'TotalUS') &\n",
    "          (df['region']!= 'SouthCentral') &\n",
    "          (df['region']!= 'California') &\n",
    "          (df['region']!= 'West') &\n",
    "          (df['region']!= 'Southeast') &\n",
    "          (df['region']!= 'Plains') &\n",
    "          (df['region']!= 'Midsouth') &\n",
    "          (df['region']!= 'Northeast') &\n",
    "          (df['region']!= 'Plains') &\n",
    "          (df['region']!= 'GreatLakes')\n",
    "         ]"
   ]
  },
  {
   "cell_type": "code",
   "execution_count": 162,
   "metadata": {
    "id": "cVoKY0TwsP8h",
    "outputId": "0eaa89c5-a797-479e-e4c7-75d88e1e649f"
   },
   "outputs": [
    {
     "data": {
      "text/plain": [
       "Albany                 338\n",
       "BaltimoreWashington    338\n",
       "Boston                 338\n",
       "BuffaloRochester       338\n",
       "Charlotte              338\n",
       "Chicago                338\n",
       "CincinnatiDayton       338\n",
       "Columbus               338\n",
       "DallasFtWorth          338\n",
       "Denver                 338\n",
       "Detroit                338\n",
       "GrandRapids            338\n",
       "HarrisburgScranton     338\n",
       "HartfordSpringfield    338\n",
       "Houston                338\n",
       "Indianapolis           338\n",
       "Jacksonville           338\n",
       "LasVegas               338\n",
       "LosAngeles             338\n",
       "Louisville             338\n",
       "MiamiFtLauderdale      338\n",
       "Boise                  338\n",
       "Nashville              338\n",
       "Sacramento             338\n",
       "NewOrleansMobile       338\n",
       "NorthernNewEngland     338\n",
       "Orlando                338\n",
       "Philadelphia           338\n",
       "PhoenixTucson          338\n",
       "Pittsburgh             338\n",
       "Portland               338\n",
       "RaleighGreensboro      338\n",
       "RichmondNorfolk        338\n",
       "Roanoke                338\n",
       "SanDiego               338\n",
       "Atlanta                338\n",
       "SanFrancisco           338\n",
       "Seattle                338\n",
       "SouthCarolina          338\n",
       "Spokane                338\n",
       "StLouis                338\n",
       "Syracuse               338\n",
       "Tampa                  338\n",
       "NewYork                338\n",
       "WestTexNewMexico       335\n",
       "Name: region, dtype: int64"
      ]
     },
     "execution_count": 162,
     "metadata": {},
     "output_type": "execute_result"
    }
   ],
   "source": [
    "df['region'].value_counts()"
   ]
  },
  {
   "cell_type": "code",
   "execution_count": 163,
   "metadata": {
    "id": "GsBuK258sP8i"
   },
   "outputs": [
    {
     "data": {
      "text/plain": [
       "45"
      ]
     },
     "execution_count": 163,
     "metadata": {},
     "output_type": "execute_result"
    }
   ],
   "source": [
    "df['region'].nunique()"
   ]
  },
  {
   "cell_type": "markdown",
   "metadata": {},
   "source": [
    "## Take 500 data points from the data for the \"black market\" avocados"
   ]
  },
  {
   "cell_type": "code",
   "execution_count": 164,
   "metadata": {},
   "outputs": [],
   "source": [
    "black_market_avocados = df.sample(n=500,random_state=100)"
   ]
  },
  {
   "cell_type": "code",
   "execution_count": 165,
   "metadata": {},
   "outputs": [
    {
     "data": {
      "text/plain": [
       "Pittsburgh             19\n",
       "Columbus               17\n",
       "Sacramento             17\n",
       "Albany                 17\n",
       "Philadelphia           17\n",
       "SanFrancisco           16\n",
       "HarrisburgScranton     15\n",
       "NewOrleansMobile       15\n",
       "MiamiFtLauderdale      15\n",
       "SouthCarolina          15\n",
       "Spokane                15\n",
       "Portland               13\n",
       "DallasFtWorth          13\n",
       "LosAngeles             13\n",
       "WestTexNewMexico       13\n",
       "Nashville              12\n",
       "Detroit                12\n",
       "Charlotte              12\n",
       "Boise                  11\n",
       "StLouis                11\n",
       "RichmondNorfolk        11\n",
       "Jacksonville           10\n",
       "BuffaloRochester       10\n",
       "Roanoke                10\n",
       "Boston                 10\n",
       "Chicago                 9\n",
       "RaleighGreensboro       9\n",
       "PhoenixTucson           9\n",
       "GrandRapids             9\n",
       "NewYork                 9\n",
       "CincinnatiDayton        9\n",
       "NorthernNewEngland      9\n",
       "LasVegas                9\n",
       "Houston                 9\n",
       "Seattle                 8\n",
       "BaltimoreWashington     8\n",
       "Atlanta                 8\n",
       "Denver                  8\n",
       "Tampa                   8\n",
       "Louisville              8\n",
       "Syracuse                7\n",
       "Indianapolis            7\n",
       "Orlando                 6\n",
       "SanDiego                6\n",
       "HartfordSpringfield     6\n",
       "Name: region, dtype: int64"
      ]
     },
     "execution_count": 165,
     "metadata": {},
     "output_type": "execute_result"
    }
   ],
   "source": [
    "black_market_avocados['region'].value_counts()"
   ]
  },
  {
   "cell_type": "code",
   "execution_count": 166,
   "metadata": {},
   "outputs": [
    {
     "data": {
      "text/plain": [
       "45"
      ]
     },
     "execution_count": 166,
     "metadata": {},
     "output_type": "execute_result"
    }
   ],
   "source": [
    "black_market_avocados['region'].nunique()"
   ]
  },
  {
   "cell_type": "code",
   "execution_count": 167,
   "metadata": {},
   "outputs": [],
   "source": [
    "index = black_market_avocados.index\n",
    "\n",
    "df.drop(index,inplace=True)"
   ]
  },
  {
   "cell_type": "code",
   "execution_count": 168,
   "metadata": {},
   "outputs": [
    {
     "data": {
      "text/plain": [
       "HartfordSpringfield    332\n",
       "Orlando                332\n",
       "SanDiego               332\n",
       "Syracuse               331\n",
       "Indianapolis           331\n",
       "Tampa                  330\n",
       "Denver                 330\n",
       "Louisville             330\n",
       "BaltimoreWashington    330\n",
       "Atlanta                330\n",
       "Seattle                330\n",
       "GrandRapids            329\n",
       "CincinnatiDayton       329\n",
       "Chicago                329\n",
       "LasVegas               329\n",
       "NewYork                329\n",
       "Houston                329\n",
       "RaleighGreensboro      329\n",
       "NorthernNewEngland     329\n",
       "PhoenixTucson          329\n",
       "Roanoke                328\n",
       "Boston                 328\n",
       "BuffaloRochester       328\n",
       "Jacksonville           328\n",
       "StLouis                327\n",
       "RichmondNorfolk        327\n",
       "Boise                  327\n",
       "Detroit                326\n",
       "Charlotte              326\n",
       "Nashville              326\n",
       "Portland               325\n",
       "DallasFtWorth          325\n",
       "LosAngeles             325\n",
       "Spokane                323\n",
       "NewOrleansMobile       323\n",
       "MiamiFtLauderdale      323\n",
       "HarrisburgScranton     323\n",
       "SouthCarolina          323\n",
       "WestTexNewMexico       322\n",
       "SanFrancisco           322\n",
       "Columbus               321\n",
       "Sacramento             321\n",
       "Philadelphia           321\n",
       "Albany                 321\n",
       "Pittsburgh             319\n",
       "Name: region, dtype: int64"
      ]
     },
     "execution_count": 168,
     "metadata": {},
     "output_type": "execute_result"
    }
   ],
   "source": [
    "df['region'].value_counts()"
   ]
  },
  {
   "cell_type": "markdown",
   "metadata": {},
   "source": [
    "## Finding the Sum of the Avocados Sold for organic and conventional."
   ]
  },
  {
   "cell_type": "code",
   "execution_count": 169,
   "metadata": {},
   "outputs": [
    {
     "data": {
      "text/plain": [
       "56525613.46174358"
      ]
     },
     "execution_count": 169,
     "metadata": {},
     "output_type": "execute_result"
    }
   ],
   "source": [
    "organic = df[df['organic']==1]\n",
    "organic_total = organic['4046'].sum() + organic['4225'].sum() + organic['4770'].sum()\n",
    "organic_total"
   ]
  },
  {
   "cell_type": "code",
   "execution_count": 170,
   "metadata": {},
   "outputs": [
    {
     "data": {
      "text/plain": [
       "2546969096.4426475"
      ]
     },
     "execution_count": 170,
     "metadata": {},
     "output_type": "execute_result"
    }
   ],
   "source": [
    "conventional = df[df['organic']==0]\n",
    "conventional_total = conventional['4046'].sum() + conventional['4225'].sum() + conventional['4770'].sum()\n",
    "conventional_total"
   ]
  },
  {
   "cell_type": "code",
   "execution_count": 172,
   "metadata": {},
   "outputs": [
    {
     "name": "stdout",
     "output_type": "stream",
     "text": [
      "The organic avocados percentage by volume:\n",
      "2.1711437801930233 %\n"
     ]
    }
   ],
   "source": [
    "organic_percentage = 100*(organic_total)/(organic_total+conventional_total)\n",
    "print('The organic avocados percentage by volume:')\n",
    "print(organic_percentage,'%')"
   ]
  },
  {
   "cell_type": "markdown",
   "metadata": {},
   "source": [
    "## Remove Outliers"
   ]
  },
  {
   "cell_type": "markdown",
   "metadata": {},
   "source": [
    "### Average price"
   ]
  },
  {
   "cell_type": "code",
   "execution_count": 28,
   "metadata": {},
   "outputs": [
    {
     "data": {
      "text/plain": [
       "<seaborn.axisgrid.FacetGrid at 0x14eb8f341c8>"
      ]
     },
     "execution_count": 28,
     "metadata": {},
     "output_type": "execute_result"
    },
    {
     "data": {
      "image/png": "[encoded data removed]",
      "text/plain": [
       "<Figure size 360x360 with 1 Axes>"
      ]
     },
     "metadata": {},
     "output_type": "display_data"
    }
   ],
   "source": [
    "sns.set_palette(\"Purples_d\")\n",
    "sns.set_style('whitegrid')\n",
    "\n",
    "sns.displot(df['AveragePrice']) #No outliers"
   ]
  },
  {
   "cell_type": "markdown",
   "metadata": {},
   "source": [
    "### 4046"
   ]
  },
  {
   "cell_type": "code",
   "execution_count": 29,
   "metadata": {},
   "outputs": [
    {
     "data": {
      "text/plain": [
       "<seaborn.axisgrid.FacetGrid at 0x14ea1778d88>"
      ]
     },
     "execution_count": 29,
     "metadata": {},
     "output_type": "execute_result"
    },
    {
     "data": {
      "image/png": "[encoded data removed]",
      "text/plain": [
       "<Figure size 360x360 with 1 Axes>"
      ]
     },
     "metadata": {},
     "output_type": "display_data"
    }
   ],
   "source": [
    "sns.displot(df['4046'])"
   ]
  },
  {
   "cell_type": "code",
   "execution_count": 30,
   "metadata": {},
   "outputs": [
    {
     "data": {
      "text/plain": [
       "<AxesSubplot:xlabel='4046'>"
      ]
     },
     "execution_count": 30,
     "metadata": {},
     "output_type": "execute_result"
    },
    {
     "data": {
      "image/png": "[encoded data removed]",
      "text/plain": [
       "<Figure size 432x288 with 1 Axes>"
      ]
     },
     "metadata": {},
     "output_type": "display_data"
    }
   ],
   "source": [
    "sns.boxplot(x=df['4046'])"
   ]
  },
  {
   "cell_type": "code",
   "execution_count": 31,
   "metadata": {},
   "outputs": [
    {
     "data": {
      "text/plain": [
       "(0.0, 976868.390400001)"
      ]
     },
     "execution_count": 31,
     "metadata": {},
     "output_type": "execute_result"
    }
   ],
   "source": [
    "#Remove outliers\n",
    "UB = df['4046'].quantile(0.99)\n",
    "LB = df['4046'].quantile(0.01)\n",
    "LB, UB"
   ]
  },
  {
   "cell_type": "code",
   "execution_count": 32,
   "metadata": {},
   "outputs": [
    {
     "data": {
      "text/plain": [
       "(541.485,\n",
       " 76403.305,\n",
       " 75861.81999999999,\n",
       " -113251.24499999998,\n",
       " 190196.03499999997)"
      ]
     },
     "execution_count": 32,
     "metadata": {},
     "output_type": "execute_result"
    }
   ],
   "source": [
    "Q3 = df['4046'].quantile(0.75)\n",
    "Q1 = df['4046'].quantile(0.25)\n",
    "IQR = Q3 - Q1\n",
    "IQR_min = Q1 - 1.5*IQR\n",
    "IQR_max = Q3 + 1.5*IQR\n",
    "Q1, Q3, IQR, IQR_min, IQR_max"
   ]
  },
  {
   "cell_type": "code",
   "execution_count": 33,
   "metadata": {},
   "outputs": [
    {
     "data": {
      "text/plain": [
       "(197352.76900077704, -511179.6346646976, 672936.9793399647)"
      ]
     },
     "execution_count": 33,
     "metadata": {},
     "output_type": "execute_result"
    }
   ],
   "source": [
    "STD = df['4046'].std()\n",
    "STD_UB = df['4046'].mean() + 3 * STD\n",
    "STD_LB = np.mean(df['4046']) - 3 * STD\n",
    "STD, STD_LB, STD_UB"
   ]
  },
  {
   "cell_type": "code",
   "execution_count": 34,
   "metadata": {},
   "outputs": [
    {
     "data": {
      "text/plain": [
       "148"
      ]
     },
     "execution_count": 34,
     "metadata": {},
     "output_type": "execute_result"
    }
   ],
   "source": [
    "#Count the number of outliers\n",
    "(df['4046']<min(LB, IQR_min,STD_LB)).sum() +  (df['4046']>max(UB, IQR_max,STD_UB)).sum()"
   ]
  },
  {
   "cell_type": "code",
   "execution_count": 35,
   "metadata": {},
   "outputs": [
    {
     "data": {
      "text/plain": [
       "148"
      ]
     },
     "execution_count": 35,
     "metadata": {},
     "output_type": "execute_result"
    }
   ],
   "source": [
    "(df['4046']>max(UB, IQR_max,STD_UB)).sum()"
   ]
  },
  {
   "cell_type": "markdown",
   "metadata": {},
   "source": [
    "Since all outlier values occurred by exceeding the upper bound of the obtained range, we replace all outlier values of 4046 by the upper bound of the range-1, so that these values are still high but not high enough to be identified as outliers."
   ]
  },
  {
   "cell_type": "code",
   "execution_count": 36,
   "metadata": {},
   "outputs": [
    {
     "data": {
      "text/plain": [
       "5616     2622.70\n",
       "5617     2811.71\n",
       "5618     2578.95\n",
       "5620     3772.00\n",
       "5621     2413.00\n",
       "          ...   \n",
       "18244    2046.96\n",
       "18245    1191.70\n",
       "18246    1191.92\n",
       "18247    1527.63\n",
       "18248    2894.77\n",
       "Name: 4046, Length: 14707, dtype: float64"
      ]
     },
     "execution_count": 36,
     "metadata": {},
     "output_type": "execute_result"
    }
   ],
   "source": [
    "df['4046'].apply(lambda x: df['4046'].replace(x, max(UB, IQR_max,STD_UB)-1, inplace =True) if (x>max(UB, IQR_max,STD_UB)) else x)\n"
   ]
  },
  {
   "cell_type": "code",
   "execution_count": 37,
   "metadata": {},
   "outputs": [
    {
     "data": {
      "text/plain": [
       "0"
      ]
     },
     "execution_count": 37,
     "metadata": {},
     "output_type": "execute_result"
    }
   ],
   "source": [
    "(df['4046']>max(UB, IQR_max,STD_UB)).sum()"
   ]
  },
  {
   "cell_type": "markdown",
   "metadata": {},
   "source": [
    "### 4225"
   ]
  },
  {
   "cell_type": "code",
   "execution_count": 38,
   "metadata": {},
   "outputs": [
    {
     "data": {
      "text/plain": [
       "<seaborn.axisgrid.FacetGrid at 0x14eb95c2948>"
      ]
     },
     "execution_count": 38,
     "metadata": {},
     "output_type": "execute_result"
    },
    {
     "data": {
      "image/png": "[encoded data removed]",
      "text/plain": [
       "<Figure size 360x360 with 1 Axes>"
      ]
     },
     "metadata": {},
     "output_type": "display_data"
    }
   ],
   "source": [
    "#4225\n",
    "sns.displot(df['4225'])"
   ]
  },
  {
   "cell_type": "code",
   "execution_count": 39,
   "metadata": {},
   "outputs": [
    {
     "data": {
      "text/plain": [
       "(7.7572, 785548.7654000019)"
      ]
     },
     "execution_count": 39,
     "metadata": {},
     "output_type": "execute_result"
    }
   ],
   "source": [
    "#Remove outliers\n",
    "UB = df['4225'].quantile(0.99)\n",
    "LB = df['4225'].quantile(0.01)\n",
    "LB, UB"
   ]
  },
  {
   "cell_type": "code",
   "execution_count": 40,
   "metadata": {},
   "outputs": [
    {
     "data": {
      "text/plain": [
       "(2105.455, 95584.625, 93479.17, -138113.30000000002, 235803.38)"
      ]
     },
     "execution_count": 40,
     "metadata": {},
     "output_type": "execute_result"
    }
   ],
   "source": [
    "Q3 = df['4225'].quantile(0.75)\n",
    "Q1 = df['4225'].quantile(0.25)\n",
    "IQR = Q3 - Q1\n",
    "IQR_min = Q1 - 1.5*IQR\n",
    "IQR_max = Q3 + 1.5*IQR\n",
    "Q1, Q3, IQR, IQR_min, IQR_max"
   ]
  },
  {
   "cell_type": "code",
   "execution_count": 41,
   "metadata": {},
   "outputs": [
    {
     "data": {
      "text/plain": [
       "(166767.1250610681, -411012.4050177195, 589590.3453486891)"
      ]
     },
     "execution_count": 41,
     "metadata": {},
     "output_type": "execute_result"
    }
   ],
   "source": [
    "STD = df['4225'].std()\n",
    "STD_UB = df['4225'].mean() + 3 * STD\n",
    "STD_LB = np.mean(df['4225']) - 3 * STD\n",
    "STD, STD_LB, STD_UB"
   ]
  },
  {
   "cell_type": "code",
   "execution_count": 42,
   "metadata": {},
   "outputs": [
    {
     "data": {
      "text/plain": [
       "148"
      ]
     },
     "execution_count": 42,
     "metadata": {},
     "output_type": "execute_result"
    }
   ],
   "source": [
    "#Count the number of outliers\n",
    "(df['4225']<min(LB, IQR_min,STD_LB)).sum() +  (df['4225']>max(UB, IQR_max,STD_UB)).sum()"
   ]
  },
  {
   "cell_type": "code",
   "execution_count": 43,
   "metadata": {},
   "outputs": [
    {
     "data": {
      "text/plain": [
       "148"
      ]
     },
     "execution_count": 43,
     "metadata": {},
     "output_type": "execute_result"
    }
   ],
   "source": [
    "(df['4225']>max(UB, IQR_max,STD_UB)).sum()"
   ]
  },
  {
   "cell_type": "markdown",
   "metadata": {},
   "source": [
    "Since all outlier values occurred by exceeding the upper bound of the obtained range, we replace all outlier values of 4225 by the upper bound of the range-1, so that these values are still high but not high enough to be identified as outliers."
   ]
  },
  {
   "cell_type": "code",
   "execution_count": 44,
   "metadata": {},
   "outputs": [
    {
     "data": {
      "text/plain": [
       "5616     101135.53\n",
       "5617      58592.23\n",
       "5618      50811.52\n",
       "5620     126551.00\n",
       "5621      49076.00\n",
       "           ...    \n",
       "18244      1529.20\n",
       "18245      3431.50\n",
       "18246      2452.79\n",
       "18247      2981.04\n",
       "18248      2356.13\n",
       "Name: 4225, Length: 14707, dtype: float64"
      ]
     },
     "execution_count": 44,
     "metadata": {},
     "output_type": "execute_result"
    }
   ],
   "source": [
    "df['4225'].apply(lambda x: df['4225'].replace(x, max(UB, IQR_max,STD_UB)-1, inplace =True) if (x>max(UB, IQR_max,STD_UB)) else x)"
   ]
  },
  {
   "cell_type": "code",
   "execution_count": 45,
   "metadata": {},
   "outputs": [
    {
     "data": {
      "text/plain": [
       "0"
      ]
     },
     "execution_count": 45,
     "metadata": {},
     "output_type": "execute_result"
    }
   ],
   "source": [
    "(df['4225']>max(UB, IQR_max,STD_UB)).sum()"
   ]
  },
  {
   "cell_type": "markdown",
   "metadata": {},
   "source": [
    "### 4770"
   ]
  },
  {
   "cell_type": "code",
   "execution_count": 46,
   "metadata": {},
   "outputs": [
    {
     "data": {
      "text/plain": [
       "<seaborn.axisgrid.FacetGrid at 0x14eb9946408>"
      ]
     },
     "execution_count": 46,
     "metadata": {},
     "output_type": "execute_result"
    },
    {
     "data": {
      "image/png": "[encoded data removed]",
      "text/plain": [
       "<Figure size 360x360 with 1 Axes>"
      ]
     },
     "metadata": {},
     "output_type": "display_data"
    }
   ],
   "source": [
    "sns.displot(df['4770'])"
   ]
  },
  {
   "cell_type": "code",
   "execution_count": 47,
   "metadata": {},
   "outputs": [
    {
     "data": {
      "text/plain": [
       "(0.0, 109360.98320000008)"
      ]
     },
     "execution_count": 47,
     "metadata": {},
     "output_type": "execute_result"
    }
   ],
   "source": [
    "#Remove outliers\n",
    "UB = df['4770'].quantile(0.99)\n",
    "LB = df['4770'].quantile(0.01)\n",
    "LB, UB"
   ]
  },
  {
   "cell_type": "code",
   "execution_count": 48,
   "metadata": {},
   "outputs": [
    {
     "data": {
      "text/plain": [
       "(0.0, 3406.805, 3406.805, -5110.2074999999995, 8517.012499999999)"
      ]
     },
     "execution_count": 48,
     "metadata": {},
     "output_type": "execute_result"
    }
   ],
   "source": [
    "Q3 = df['4770'].quantile(0.75)\n",
    "Q1 = df['4770'].quantile(0.25)\n",
    "IQR = Q3 - Q1\n",
    "IQR_min = Q1 - 1.5*IQR\n",
    "IQR_max = Q3 + 1.5*IQR\n",
    "Q1, Q3, IQR, IQR_min, IQR_max"
   ]
  },
  {
   "cell_type": "code",
   "execution_count": 49,
   "metadata": {},
   "outputs": [
    {
     "data": {
      "text/plain": [
       "(19823.67523518739, -52614.481773350744, 66327.56963777362)"
      ]
     },
     "execution_count": 49,
     "metadata": {},
     "output_type": "execute_result"
    }
   ],
   "source": [
    "STD = df['4770'].std()\n",
    "STD_UB = df['4770'].mean() + 3 * STD\n",
    "STD_LB = np.mean(df['4770']) - 3 * STD\n",
    "STD, STD_LB, STD_UB"
   ]
  },
  {
   "cell_type": "code",
   "execution_count": 50,
   "metadata": {},
   "outputs": [
    {
     "data": {
      "text/plain": [
       "148"
      ]
     },
     "execution_count": 50,
     "metadata": {},
     "output_type": "execute_result"
    }
   ],
   "source": [
    "#Count the number of outliers\n",
    "(df['4770']<min(LB, IQR_min,STD_LB)).sum() +  (df['4770']>max(UB, IQR_max,STD_UB)).sum()"
   ]
  },
  {
   "cell_type": "code",
   "execution_count": 51,
   "metadata": {},
   "outputs": [
    {
     "data": {
      "text/plain": [
       "148"
      ]
     },
     "execution_count": 51,
     "metadata": {},
     "output_type": "execute_result"
    }
   ],
   "source": [
    "(df['4770']>max(UB, IQR_max,STD_UB)).sum()"
   ]
  },
  {
   "cell_type": "markdown",
   "metadata": {},
   "source": [
    "Since all outlier values occurred by exceeding the upper bound of the obtained range, we replace all outlier values of 4770 by the upper bound of the range-1, so that these values are still high but not high enough to be identified as outliers."
   ]
  },
  {
   "cell_type": "code",
   "execution_count": 52,
   "metadata": {},
   "outputs": [
    {
     "data": {
      "text/plain": [
       "5616       20.250000\n",
       "5617       19.060000\n",
       "5618       79.180000\n",
       "5620      136.000000\n",
       "5621       62.000000\n",
       "            ...     \n",
       "18244       0.000000\n",
       "18245    5253.172174\n",
       "18246     727.940000\n",
       "18247     727.010000\n",
       "18248     224.530000\n",
       "Name: 4770, Length: 14707, dtype: float64"
      ]
     },
     "execution_count": 52,
     "metadata": {},
     "output_type": "execute_result"
    }
   ],
   "source": [
    "df['4770'].apply(lambda x: df['4770'].replace(x, max(UB, IQR_max,STD_UB)-1, inplace =True) if (x>max(UB, IQR_max,STD_UB)) else x)\n"
   ]
  },
  {
   "cell_type": "code",
   "execution_count": 53,
   "metadata": {},
   "outputs": [
    {
     "data": {
      "text/plain": [
       "0"
      ]
     },
     "execution_count": 53,
     "metadata": {},
     "output_type": "execute_result"
    }
   ],
   "source": [
    "(df['4770']>max(UB, IQR_max,STD_UB)).sum()"
   ]
  },
  {
   "cell_type": "markdown",
   "metadata": {},
   "source": [
    "### Small Bags"
   ]
  },
  {
   "cell_type": "code",
   "execution_count": 54,
   "metadata": {},
   "outputs": [
    {
     "data": {
      "text/plain": [
       "<seaborn.axisgrid.FacetGrid at 0x14eba2ddd08>"
      ]
     },
     "execution_count": 54,
     "metadata": {},
     "output_type": "execute_result"
    },
    {
     "data": {
      "image/png": "[encoded data removed]",
      "text/plain": [
       "<Figure size 360x360 with 1 Axes>"
      ]
     },
     "metadata": {},
     "output_type": "display_data"
    }
   ],
   "source": [
    "sns.displot(df['Small Bags'])"
   ]
  },
  {
   "cell_type": "code",
   "execution_count": 55,
   "metadata": {},
   "outputs": [
    {
     "data": {
      "text/plain": [
       "(0.0, 511612.67820000055)"
      ]
     },
     "execution_count": 55,
     "metadata": {},
     "output_type": "execute_result"
    }
   ],
   "source": [
    "#Remove outliers\n",
    "UB = df['Small Bags'].quantile(0.99)\n",
    "LB = df['Small Bags'].quantile(0.01)\n",
    "LB, UB"
   ]
  },
  {
   "cell_type": "code",
   "execution_count": 56,
   "metadata": {},
   "outputs": [
    {
     "data": {
      "text/plain": [
       "(1813.135, 63545.37, 61732.235, -90785.21750000001, 156143.7225)"
      ]
     },
     "execution_count": 56,
     "metadata": {},
     "output_type": "execute_result"
    }
   ],
   "source": [
    "Q3 = df['Small Bags'].quantile(0.75)\n",
    "Q1 = df['Small Bags'].quantile(0.25)\n",
    "IQR = Q3 - Q1\n",
    "IQR_min = Q1 - 1.5*IQR\n",
    "IQR_max = Q3 + 1.5*IQR\n",
    "Q1, Q3, IQR, IQR_min, IQR_max"
   ]
  },
  {
   "cell_type": "code",
   "execution_count": 57,
   "metadata": {},
   "outputs": [
    {
     "data": {
      "text/plain": [
       "(123223.66101541808, -314709.58349962597, 424632.38259288255)"
      ]
     },
     "execution_count": 57,
     "metadata": {},
     "output_type": "execute_result"
    }
   ],
   "source": [
    "STD = df['Small Bags'].std()\n",
    "STD_UB = df['Small Bags'].mean() + 3 * STD\n",
    "STD_LB = np.mean(df['Small Bags']) - 3 * STD\n",
    "STD, STD_LB, STD_UB"
   ]
  },
  {
   "cell_type": "code",
   "execution_count": 58,
   "metadata": {},
   "outputs": [
    {
     "data": {
      "text/plain": [
       "148"
      ]
     },
     "execution_count": 58,
     "metadata": {},
     "output_type": "execute_result"
    }
   ],
   "source": [
    "#Count the number of outliers\n",
    "(df['Small Bags']<min(LB, IQR_min,STD_LB)).sum() +  (df['Small Bags']>max(UB, IQR_max,STD_UB)).sum()"
   ]
  },
  {
   "cell_type": "code",
   "execution_count": 59,
   "metadata": {},
   "outputs": [
    {
     "data": {
      "text/plain": [
       "148"
      ]
     },
     "execution_count": 59,
     "metadata": {},
     "output_type": "execute_result"
    }
   ],
   "source": [
    "(df['Small Bags']>max(UB, IQR_max,STD_UB)).sum()"
   ]
  },
  {
   "cell_type": "markdown",
   "metadata": {},
   "source": [
    "Since all outlier values occurred by exceeding the upper bound of the obtained range, we replace all outlier values of Small Bags by the upper bound of the range-1, so that these values are still high but not high enough to be identified as outliers."
   ]
  },
  {
   "cell_type": "code",
   "execution_count": 60,
   "metadata": {},
   "outputs": [
    {
     "data": {
      "text/plain": [
       "5616      5556.98\n",
       "5617      6863.18\n",
       "5618      8914.13\n",
       "5620      7061.00\n",
       "5621      5059.00\n",
       "           ...   \n",
       "18244    13066.82\n",
       "18245     8940.04\n",
       "18246     9351.80\n",
       "18247    10919.54\n",
       "18248    11988.14\n",
       "Name: Small Bags, Length: 14707, dtype: float64"
      ]
     },
     "execution_count": 60,
     "metadata": {},
     "output_type": "execute_result"
    }
   ],
   "source": [
    "df['Small Bags'].apply(lambda x: df['Small Bags'].replace(x, max(UB, IQR_max,STD_UB)-1, inplace =True) if (x>max(UB, IQR_max,STD_UB)) else x)\n"
   ]
  },
  {
   "cell_type": "code",
   "execution_count": 61,
   "metadata": {},
   "outputs": [
    {
     "data": {
      "text/plain": [
       "0"
      ]
     },
     "execution_count": 61,
     "metadata": {},
     "output_type": "execute_result"
    }
   ],
   "source": [
    "(df['Small Bags']>max(UB, IQR_max,STD_UB)).sum()"
   ]
  },
  {
   "cell_type": "markdown",
   "metadata": {},
   "source": [
    "### Large Bags"
   ]
  },
  {
   "cell_type": "code",
   "execution_count": 62,
   "metadata": {},
   "outputs": [
    {
     "data": {
      "text/plain": [
       "<seaborn.axisgrid.FacetGrid at 0x14eb98bb748>"
      ]
     },
     "execution_count": 62,
     "metadata": {},
     "output_type": "execute_result"
    },
    {
     "data": {
      "image/png": "[encoded data removed]",
      "text/plain": [
       "<Figure size 360x360 with 1 Axes>"
      ]
     },
     "metadata": {},
     "output_type": "display_data"
    }
   ],
   "source": [
    "sns.displot(df['Large Bags'])"
   ]
  },
  {
   "cell_type": "code",
   "execution_count": 63,
   "metadata": {},
   "outputs": [
    {
     "data": {
      "text/plain": [
       "(0.0, 207609.2208000003)"
      ]
     },
     "execution_count": 63,
     "metadata": {},
     "output_type": "execute_result"
    }
   ],
   "source": [
    "#Remove outliers\n",
    "UB = df['Large Bags'].quantile(0.99)\n",
    "LB = df['Large Bags'].quantile(0.01)\n",
    "LB, UB"
   ]
  },
  {
   "cell_type": "code",
   "execution_count": 64,
   "metadata": {},
   "outputs": [
    {
     "data": {
      "text/plain": [
       "(45.75, 11089.75, 11044.0, -16520.25, 27655.75)"
      ]
     },
     "execution_count": 64,
     "metadata": {},
     "output_type": "execute_result"
    }
   ],
   "source": [
    "Q3 = df['Large Bags'].quantile(0.75)\n",
    "Q1 = df['Large Bags'].quantile(0.25)\n",
    "IQR = Q3 - Q1\n",
    "IQR_min = Q1 - 1.5*IQR\n",
    "IQR_max = Q3 + 1.5*IQR\n",
    "Q1, Q3, IQR, IQR_min, IQR_max"
   ]
  },
  {
   "cell_type": "code",
   "execution_count": 65,
   "metadata": {},
   "outputs": [
    {
     "data": {
      "text/plain": [
       "(42426.01926265604, -111151.6831657006, 143404.43241023563)"
      ]
     },
     "execution_count": 65,
     "metadata": {},
     "output_type": "execute_result"
    }
   ],
   "source": [
    "STD = df['Large Bags'].std()\n",
    "STD_UB = df['Large Bags'].mean() + 3 * STD\n",
    "STD_LB = np.mean(df['Large Bags']) - 3 * STD\n",
    "STD, STD_LB, STD_UB"
   ]
  },
  {
   "cell_type": "code",
   "execution_count": 66,
   "metadata": {},
   "outputs": [
    {
     "data": {
      "text/plain": [
       "148"
      ]
     },
     "execution_count": 66,
     "metadata": {},
     "output_type": "execute_result"
    }
   ],
   "source": [
    "#Count the number of outliers\n",
    "(df['Large Bags']<min(LB, IQR_min,STD_LB)).sum() +  (df['Large Bags']>max(UB, IQR_max,STD_UB)).sum()"
   ]
  },
  {
   "cell_type": "code",
   "execution_count": 67,
   "metadata": {},
   "outputs": [
    {
     "data": {
      "text/plain": [
       "148"
      ]
     },
     "execution_count": 67,
     "metadata": {},
     "output_type": "execute_result"
    }
   ],
   "source": [
    "(df['Large Bags']>max(UB, IQR_max,STD_UB)).sum()"
   ]
  },
  {
   "cell_type": "markdown",
   "metadata": {},
   "source": [
    "Since all outlier values occurred by exceeding the upper bound of the obtained range, we replace all outlier values of Large Bags by the upper bound of the range-1, so that these values are still high but not high enough to be identified as outliers."
   ]
  },
  {
   "cell_type": "code",
   "execution_count": 68,
   "metadata": {},
   "outputs": [
    {
     "data": {
      "text/plain": [
       "5616     4178.96\n",
       "5617     8752.91\n",
       "5618     8293.78\n",
       "5620     2450.00\n",
       "5621     6368.00\n",
       "          ...   \n",
       "18244     431.85\n",
       "18245     324.80\n",
       "18246      42.31\n",
       "18247      50.00\n",
       "18248      26.01\n",
       "Name: Large Bags, Length: 14707, dtype: float64"
      ]
     },
     "execution_count": 68,
     "metadata": {},
     "output_type": "execute_result"
    }
   ],
   "source": [
    "df['Large Bags'].apply(lambda x: df['Large Bags'].replace(x, max(UB, IQR_max,STD_UB)-1, inplace =True) if (x>max(UB, IQR_max,STD_UB)) else x)\n"
   ]
  },
  {
   "cell_type": "code",
   "execution_count": 69,
   "metadata": {},
   "outputs": [
    {
     "data": {
      "text/plain": [
       "0"
      ]
     },
     "execution_count": 69,
     "metadata": {},
     "output_type": "execute_result"
    }
   ],
   "source": [
    "(df['Large Bags']>max(UB, IQR_max,STD_UB)).sum()"
   ]
  },
  {
   "cell_type": "markdown",
   "metadata": {},
   "source": [
    "### XLarge Bags"
   ]
  },
  {
   "cell_type": "code",
   "execution_count": 70,
   "metadata": {},
   "outputs": [
    {
     "data": {
      "text/plain": [
       "<seaborn.axisgrid.FacetGrid at 0x14eb59598c8>"
      ]
     },
     "execution_count": 70,
     "metadata": {},
     "output_type": "execute_result"
    },
    {
     "data": {
      "image/png": "[encoded data removed]",
      "text/plain": [
       "<Figure size 360x360 with 1 Axes>"
      ]
     },
     "metadata": {},
     "output_type": "display_data"
    }
   ],
   "source": [
    "sns.displot(df['XLarge Bags'])"
   ]
  },
  {
   "cell_type": "code",
   "execution_count": 71,
   "metadata": {},
   "outputs": [
    {
     "data": {
      "text/plain": [
       "(0.0, 18095.284200000016)"
      ]
     },
     "execution_count": 71,
     "metadata": {},
     "output_type": "execute_result"
    }
   ],
   "source": [
    "#Remove outliers\n",
    "UB = df['XLarge Bags'].quantile(0.99)\n",
    "LB = df['XLarge Bags'].quantile(0.01)\n",
    "LB, UB"
   ]
  },
  {
   "cell_type": "code",
   "execution_count": 72,
   "metadata": {},
   "outputs": [
    {
     "data": {
      "text/plain": [
       "(0.0,\n",
       " 38.099999999999994,\n",
       " 38.099999999999994,\n",
       " -57.14999999999999,\n",
       " 95.24999999999999)"
      ]
     },
     "execution_count": 72,
     "metadata": {},
     "output_type": "execute_result"
    }
   ],
   "source": [
    "Q3 = df['XLarge Bags'].quantile(0.75)\n",
    "Q1 = df['XLarge Bags'].quantile(0.25)\n",
    "IQR = Q3 - Q1\n",
    "IQR_min = Q1 - 1.5*IQR\n",
    "IQR_max = Q3 + 1.5*IQR\n",
    "Q1, Q3, IQR, IQR_min, IQR_max"
   ]
  },
  {
   "cell_type": "code",
   "execution_count": 73,
   "metadata": {},
   "outputs": [
    {
     "data": {
      "text/plain": [
       "(3873.699421904778, -10718.901329412422, 12523.295202016247)"
      ]
     },
     "execution_count": 73,
     "metadata": {},
     "output_type": "execute_result"
    }
   ],
   "source": [
    "STD = df['XLarge Bags'].std()\n",
    "STD_UB = df['XLarge Bags'].mean() + 3 * STD\n",
    "STD_LB = np.mean(df['XLarge Bags']) - 3 * STD\n",
    "STD, STD_LB, STD_UB"
   ]
  },
  {
   "cell_type": "code",
   "execution_count": 74,
   "metadata": {},
   "outputs": [
    {
     "data": {
      "text/plain": [
       "148"
      ]
     },
     "execution_count": 74,
     "metadata": {},
     "output_type": "execute_result"
    }
   ],
   "source": [
    "#Count the number of outliers\n",
    "(df['XLarge Bags']<min(LB, IQR_min,STD_LB)).sum() +  (df['XLarge Bags']>max(UB, IQR_max,STD_UB)).sum()"
   ]
  },
  {
   "cell_type": "code",
   "execution_count": 75,
   "metadata": {},
   "outputs": [
    {
     "data": {
      "text/plain": [
       "148"
      ]
     },
     "execution_count": 75,
     "metadata": {},
     "output_type": "execute_result"
    }
   ],
   "source": [
    "(df['XLarge Bags']>max(UB, IQR_max,STD_UB)).sum()"
   ]
  },
  {
   "cell_type": "markdown",
   "metadata": {},
   "source": [
    "Since all outlier values occurred by exceeding the upper bound of the obtained range, we replace all outlier values of XLarge Bags by the upper bound of the range-1, so that these values are still high but not high enough to be identified as outliers."
   ]
  },
  {
   "cell_type": "code",
   "execution_count": 76,
   "metadata": {},
   "outputs": [
    {
     "data": {
      "text/plain": [
       "5616        0.000000\n",
       "5617        0.000000\n",
       "5618        0.000000\n",
       "5620        0.000000\n",
       "5621        0.000000\n",
       "            ...     \n",
       "18244       0.000000\n",
       "18245       0.000000\n",
       "18246    1102.973043\n",
       "18247       0.000000\n",
       "18248       0.000000\n",
       "Name: XLarge Bags, Length: 14707, dtype: float64"
      ]
     },
     "execution_count": 76,
     "metadata": {},
     "output_type": "execute_result"
    }
   ],
   "source": [
    "df['XLarge Bags'].apply(lambda x: df['XLarge Bags'].replace(x, max(UB, IQR_max,STD_UB)-1, inplace =True) if (x>max(UB, IQR_max,STD_UB)) else x)\n"
   ]
  },
  {
   "cell_type": "code",
   "execution_count": 77,
   "metadata": {
    "scrolled": true
   },
   "outputs": [
    {
     "data": {
      "text/plain": [
       "0"
      ]
     },
     "execution_count": 77,
     "metadata": {},
     "output_type": "execute_result"
    }
   ],
   "source": [
    "(df['XLarge Bags']>max(UB, IQR_max,STD_UB)).sum()"
   ]
  },
  {
   "cell_type": "markdown",
   "metadata": {},
   "source": [
    "##  Create dummy variables for categorical variables"
   ]
  },
  {
   "cell_type": "code",
   "execution_count": 78,
   "metadata": {},
   "outputs": [
    {
     "data": {
      "text/html": [
       "<div>\n",
       "<style scoped>\n",
       "    .dataframe tbody tr th:only-of-type {\n",
       "        vertical-align: middle;\n",
       "    }\n",
       "\n",
       "    .dataframe tbody tr th {\n",
       "        vertical-align: top;\n",
       "    }\n",
       "\n",
       "    .dataframe thead th {\n",
       "        text-align: right;\n",
       "    }\n",
       "</style>\n",
       "<table border=\"1\" class=\"dataframe\">\n",
       "  <thead>\n",
       "    <tr style=\"text-align: right;\">\n",
       "      <th></th>\n",
       "      <th>Date</th>\n",
       "      <th>Month</th>\n",
       "      <th>AveragePrice</th>\n",
       "      <th>4046</th>\n",
       "      <th>4225</th>\n",
       "      <th>4770</th>\n",
       "      <th>Small Bags</th>\n",
       "      <th>Large Bags</th>\n",
       "      <th>XLarge Bags</th>\n",
       "      <th>year</th>\n",
       "      <th>region</th>\n",
       "      <th>organic</th>\n",
       "    </tr>\n",
       "  </thead>\n",
       "  <tbody>\n",
       "    <tr>\n",
       "      <th>5616</th>\n",
       "      <td>2017-12-31</td>\n",
       "      <td>12</td>\n",
       "      <td>1.47</td>\n",
       "      <td>2622.70</td>\n",
       "      <td>101135.53</td>\n",
       "      <td>20.250000</td>\n",
       "      <td>5556.98</td>\n",
       "      <td>4178.96</td>\n",
       "      <td>0.000000</td>\n",
       "      <td>2017</td>\n",
       "      <td>Albany</td>\n",
       "      <td>0</td>\n",
       "    </tr>\n",
       "    <tr>\n",
       "      <th>5617</th>\n",
       "      <td>2017-12-24</td>\n",
       "      <td>12</td>\n",
       "      <td>1.45</td>\n",
       "      <td>2811.71</td>\n",
       "      <td>58592.23</td>\n",
       "      <td>19.060000</td>\n",
       "      <td>6863.18</td>\n",
       "      <td>8752.91</td>\n",
       "      <td>0.000000</td>\n",
       "      <td>2017</td>\n",
       "      <td>Albany</td>\n",
       "      <td>0</td>\n",
       "    </tr>\n",
       "    <tr>\n",
       "      <th>5618</th>\n",
       "      <td>2017-12-17</td>\n",
       "      <td>12</td>\n",
       "      <td>1.43</td>\n",
       "      <td>2578.95</td>\n",
       "      <td>50811.52</td>\n",
       "      <td>79.180000</td>\n",
       "      <td>8914.13</td>\n",
       "      <td>8293.78</td>\n",
       "      <td>0.000000</td>\n",
       "      <td>2017</td>\n",
       "      <td>Albany</td>\n",
       "      <td>0</td>\n",
       "    </tr>\n",
       "    <tr>\n",
       "      <th>5620</th>\n",
       "      <td>2017-12-03</td>\n",
       "      <td>12</td>\n",
       "      <td>1.39</td>\n",
       "      <td>3772.00</td>\n",
       "      <td>126551.00</td>\n",
       "      <td>136.000000</td>\n",
       "      <td>7061.00</td>\n",
       "      <td>2450.00</td>\n",
       "      <td>0.000000</td>\n",
       "      <td>2017</td>\n",
       "      <td>Albany</td>\n",
       "      <td>0</td>\n",
       "    </tr>\n",
       "    <tr>\n",
       "      <th>5621</th>\n",
       "      <td>2017-11-26</td>\n",
       "      <td>11</td>\n",
       "      <td>1.50</td>\n",
       "      <td>2413.00</td>\n",
       "      <td>49076.00</td>\n",
       "      <td>62.000000</td>\n",
       "      <td>5059.00</td>\n",
       "      <td>6368.00</td>\n",
       "      <td>0.000000</td>\n",
       "      <td>2017</td>\n",
       "      <td>Albany</td>\n",
       "      <td>0</td>\n",
       "    </tr>\n",
       "    <tr>\n",
       "      <th>...</th>\n",
       "      <td>...</td>\n",
       "      <td>...</td>\n",
       "      <td>...</td>\n",
       "      <td>...</td>\n",
       "      <td>...</td>\n",
       "      <td>...</td>\n",
       "      <td>...</td>\n",
       "      <td>...</td>\n",
       "      <td>...</td>\n",
       "      <td>...</td>\n",
       "      <td>...</td>\n",
       "      <td>...</td>\n",
       "    </tr>\n",
       "    <tr>\n",
       "      <th>18244</th>\n",
       "      <td>2018-02-04</td>\n",
       "      <td>2</td>\n",
       "      <td>1.63</td>\n",
       "      <td>2046.96</td>\n",
       "      <td>1529.20</td>\n",
       "      <td>0.000000</td>\n",
       "      <td>13066.82</td>\n",
       "      <td>431.85</td>\n",
       "      <td>0.000000</td>\n",
       "      <td>2018</td>\n",
       "      <td>WestTexNewMexico</td>\n",
       "      <td>1</td>\n",
       "    </tr>\n",
       "    <tr>\n",
       "      <th>18245</th>\n",
       "      <td>2018-01-28</td>\n",
       "      <td>1</td>\n",
       "      <td>1.71</td>\n",
       "      <td>1191.70</td>\n",
       "      <td>3431.50</td>\n",
       "      <td>5253.172174</td>\n",
       "      <td>8940.04</td>\n",
       "      <td>324.80</td>\n",
       "      <td>0.000000</td>\n",
       "      <td>2018</td>\n",
       "      <td>WestTexNewMexico</td>\n",
       "      <td>1</td>\n",
       "    </tr>\n",
       "    <tr>\n",
       "      <th>18246</th>\n",
       "      <td>2018-01-21</td>\n",
       "      <td>1</td>\n",
       "      <td>1.87</td>\n",
       "      <td>1191.92</td>\n",
       "      <td>2452.79</td>\n",
       "      <td>727.940000</td>\n",
       "      <td>9351.80</td>\n",
       "      <td>42.31</td>\n",
       "      <td>1102.973043</td>\n",
       "      <td>2018</td>\n",
       "      <td>WestTexNewMexico</td>\n",
       "      <td>1</td>\n",
       "    </tr>\n",
       "    <tr>\n",
       "      <th>18247</th>\n",
       "      <td>2018-01-14</td>\n",
       "      <td>1</td>\n",
       "      <td>1.93</td>\n",
       "      <td>1527.63</td>\n",
       "      <td>2981.04</td>\n",
       "      <td>727.010000</td>\n",
       "      <td>10919.54</td>\n",
       "      <td>50.00</td>\n",
       "      <td>0.000000</td>\n",
       "      <td>2018</td>\n",
       "      <td>WestTexNewMexico</td>\n",
       "      <td>1</td>\n",
       "    </tr>\n",
       "    <tr>\n",
       "      <th>18248</th>\n",
       "      <td>2018-01-07</td>\n",
       "      <td>1</td>\n",
       "      <td>1.62</td>\n",
       "      <td>2894.77</td>\n",
       "      <td>2356.13</td>\n",
       "      <td>224.530000</td>\n",
       "      <td>11988.14</td>\n",
       "      <td>26.01</td>\n",
       "      <td>0.000000</td>\n",
       "      <td>2018</td>\n",
       "      <td>WestTexNewMexico</td>\n",
       "      <td>0</td>\n",
       "    </tr>\n",
       "  </tbody>\n",
       "</table>\n",
       "<p>14707 rows × 12 columns</p>\n",
       "</div>"
      ],
      "text/plain": [
       "            Date  Month  AveragePrice     4046       4225         4770  \\\n",
       "5616  2017-12-31     12          1.47  2622.70  101135.53    20.250000   \n",
       "5617  2017-12-24     12          1.45  2811.71   58592.23    19.060000   \n",
       "5618  2017-12-17     12          1.43  2578.95   50811.52    79.180000   \n",
       "5620  2017-12-03     12          1.39  3772.00  126551.00   136.000000   \n",
       "5621  2017-11-26     11          1.50  2413.00   49076.00    62.000000   \n",
       "...          ...    ...           ...      ...        ...          ...   \n",
       "18244 2018-02-04      2          1.63  2046.96    1529.20     0.000000   \n",
       "18245 2018-01-28      1          1.71  1191.70    3431.50  5253.172174   \n",
       "18246 2018-01-21      1          1.87  1191.92    2452.79   727.940000   \n",
       "18247 2018-01-14      1          1.93  1527.63    2981.04   727.010000   \n",
       "18248 2018-01-07      1          1.62  2894.77    2356.13   224.530000   \n",
       "\n",
       "       Small Bags  Large Bags  XLarge Bags  year            region  organic  \n",
       "5616      5556.98     4178.96     0.000000  2017            Albany        0  \n",
       "5617      6863.18     8752.91     0.000000  2017            Albany        0  \n",
       "5618      8914.13     8293.78     0.000000  2017            Albany        0  \n",
       "5620      7061.00     2450.00     0.000000  2017            Albany        0  \n",
       "5621      5059.00     6368.00     0.000000  2017            Albany        0  \n",
       "...           ...         ...          ...   ...               ...      ...  \n",
       "18244    13066.82      431.85     0.000000  2018  WestTexNewMexico        1  \n",
       "18245     8940.04      324.80     0.000000  2018  WestTexNewMexico        1  \n",
       "18246     9351.80       42.31  1102.973043  2018  WestTexNewMexico        1  \n",
       "18247    10919.54       50.00     0.000000  2018  WestTexNewMexico        1  \n",
       "18248    11988.14       26.01     0.000000  2018  WestTexNewMexico        0  \n",
       "\n",
       "[14707 rows x 12 columns]"
      ]
     },
     "execution_count": 78,
     "metadata": {},
     "output_type": "execute_result"
    }
   ],
   "source": [
    "df"
   ]
  },
  {
   "cell_type": "code",
   "execution_count": 79,
   "metadata": {},
   "outputs": [],
   "source": [
    "transform_these_columns = ['region']\n",
    "dummy_columns = pd.get_dummies(df[transform_these_columns], drop_first=True)"
   ]
  },
  {
   "cell_type": "code",
   "execution_count": 80,
   "metadata": {},
   "outputs": [
    {
     "data": {
      "text/plain": [
       "Index(['region_Atlanta', 'region_BaltimoreWashington', 'region_Boise',\n",
       "       'region_Boston', 'region_BuffaloRochester', 'region_Charlotte',\n",
       "       'region_Chicago', 'region_CincinnatiDayton', 'region_Columbus',\n",
       "       'region_DallasFtWorth', 'region_Denver', 'region_Detroit',\n",
       "       'region_GrandRapids', 'region_HarrisburgScranton',\n",
       "       'region_HartfordSpringfield', 'region_Houston', 'region_Indianapolis',\n",
       "       'region_Jacksonville', 'region_LasVegas', 'region_LosAngeles',\n",
       "       'region_Louisville', 'region_MiamiFtLauderdale', 'region_Nashville',\n",
       "       'region_NewOrleansMobile', 'region_NewYork',\n",
       "       'region_NorthernNewEngland', 'region_Orlando', 'region_Philadelphia',\n",
       "       'region_PhoenixTucson', 'region_Pittsburgh', 'region_Portland',\n",
       "       'region_RaleighGreensboro', 'region_RichmondNorfolk', 'region_Roanoke',\n",
       "       'region_Sacramento', 'region_SanDiego', 'region_SanFrancisco',\n",
       "       'region_Seattle', 'region_SouthCarolina', 'region_Spokane',\n",
       "       'region_StLouis', 'region_Syracuse', 'region_Tampa',\n",
       "       'region_WestTexNewMexico'],\n",
       "      dtype='object')"
      ]
     },
     "execution_count": 80,
     "metadata": {},
     "output_type": "execute_result"
    }
   ],
   "source": [
    "#Display labels of all dummy columns\n",
    "dummy_columns.columns"
   ]
  },
  {
   "cell_type": "code",
   "execution_count": 81,
   "metadata": {},
   "outputs": [
    {
     "data": {
      "text/html": [
       "<div>\n",
       "<style scoped>\n",
       "    .dataframe tbody tr th:only-of-type {\n",
       "        vertical-align: middle;\n",
       "    }\n",
       "\n",
       "    .dataframe tbody tr th {\n",
       "        vertical-align: top;\n",
       "    }\n",
       "\n",
       "    .dataframe thead th {\n",
       "        text-align: right;\n",
       "    }\n",
       "</style>\n",
       "<table border=\"1\" class=\"dataframe\">\n",
       "  <thead>\n",
       "    <tr style=\"text-align: right;\">\n",
       "      <th></th>\n",
       "      <th>Date</th>\n",
       "      <th>Month</th>\n",
       "      <th>AveragePrice</th>\n",
       "      <th>4046</th>\n",
       "      <th>4225</th>\n",
       "      <th>4770</th>\n",
       "      <th>Small Bags</th>\n",
       "      <th>Large Bags</th>\n",
       "      <th>XLarge Bags</th>\n",
       "      <th>year</th>\n",
       "      <th>...</th>\n",
       "      <th>region_Sacramento</th>\n",
       "      <th>region_SanDiego</th>\n",
       "      <th>region_SanFrancisco</th>\n",
       "      <th>region_Seattle</th>\n",
       "      <th>region_SouthCarolina</th>\n",
       "      <th>region_Spokane</th>\n",
       "      <th>region_StLouis</th>\n",
       "      <th>region_Syracuse</th>\n",
       "      <th>region_Tampa</th>\n",
       "      <th>region_WestTexNewMexico</th>\n",
       "    </tr>\n",
       "  </thead>\n",
       "  <tbody>\n",
       "    <tr>\n",
       "      <th>5616</th>\n",
       "      <td>2017-12-31</td>\n",
       "      <td>12</td>\n",
       "      <td>1.47</td>\n",
       "      <td>2622.70</td>\n",
       "      <td>101135.53</td>\n",
       "      <td>20.25</td>\n",
       "      <td>5556.98</td>\n",
       "      <td>4178.96</td>\n",
       "      <td>0.0</td>\n",
       "      <td>2017</td>\n",
       "      <td>...</td>\n",
       "      <td>0</td>\n",
       "      <td>0</td>\n",
       "      <td>0</td>\n",
       "      <td>0</td>\n",
       "      <td>0</td>\n",
       "      <td>0</td>\n",
       "      <td>0</td>\n",
       "      <td>0</td>\n",
       "      <td>0</td>\n",
       "      <td>0</td>\n",
       "    </tr>\n",
       "    <tr>\n",
       "      <th>5617</th>\n",
       "      <td>2017-12-24</td>\n",
       "      <td>12</td>\n",
       "      <td>1.45</td>\n",
       "      <td>2811.71</td>\n",
       "      <td>58592.23</td>\n",
       "      <td>19.06</td>\n",
       "      <td>6863.18</td>\n",
       "      <td>8752.91</td>\n",
       "      <td>0.0</td>\n",
       "      <td>2017</td>\n",
       "      <td>...</td>\n",
       "      <td>0</td>\n",
       "      <td>0</td>\n",
       "      <td>0</td>\n",
       "      <td>0</td>\n",
       "      <td>0</td>\n",
       "      <td>0</td>\n",
       "      <td>0</td>\n",
       "      <td>0</td>\n",
       "      <td>0</td>\n",
       "      <td>0</td>\n",
       "    </tr>\n",
       "    <tr>\n",
       "      <th>5618</th>\n",
       "      <td>2017-12-17</td>\n",
       "      <td>12</td>\n",
       "      <td>1.43</td>\n",
       "      <td>2578.95</td>\n",
       "      <td>50811.52</td>\n",
       "      <td>79.18</td>\n",
       "      <td>8914.13</td>\n",
       "      <td>8293.78</td>\n",
       "      <td>0.0</td>\n",
       "      <td>2017</td>\n",
       "      <td>...</td>\n",
       "      <td>0</td>\n",
       "      <td>0</td>\n",
       "      <td>0</td>\n",
       "      <td>0</td>\n",
       "      <td>0</td>\n",
       "      <td>0</td>\n",
       "      <td>0</td>\n",
       "      <td>0</td>\n",
       "      <td>0</td>\n",
       "      <td>0</td>\n",
       "    </tr>\n",
       "    <tr>\n",
       "      <th>5620</th>\n",
       "      <td>2017-12-03</td>\n",
       "      <td>12</td>\n",
       "      <td>1.39</td>\n",
       "      <td>3772.00</td>\n",
       "      <td>126551.00</td>\n",
       "      <td>136.00</td>\n",
       "      <td>7061.00</td>\n",
       "      <td>2450.00</td>\n",
       "      <td>0.0</td>\n",
       "      <td>2017</td>\n",
       "      <td>...</td>\n",
       "      <td>0</td>\n",
       "      <td>0</td>\n",
       "      <td>0</td>\n",
       "      <td>0</td>\n",
       "      <td>0</td>\n",
       "      <td>0</td>\n",
       "      <td>0</td>\n",
       "      <td>0</td>\n",
       "      <td>0</td>\n",
       "      <td>0</td>\n",
       "    </tr>\n",
       "    <tr>\n",
       "      <th>5621</th>\n",
       "      <td>2017-11-26</td>\n",
       "      <td>11</td>\n",
       "      <td>1.50</td>\n",
       "      <td>2413.00</td>\n",
       "      <td>49076.00</td>\n",
       "      <td>62.00</td>\n",
       "      <td>5059.00</td>\n",
       "      <td>6368.00</td>\n",
       "      <td>0.0</td>\n",
       "      <td>2017</td>\n",
       "      <td>...</td>\n",
       "      <td>0</td>\n",
       "      <td>0</td>\n",
       "      <td>0</td>\n",
       "      <td>0</td>\n",
       "      <td>0</td>\n",
       "      <td>0</td>\n",
       "      <td>0</td>\n",
       "      <td>0</td>\n",
       "      <td>0</td>\n",
       "      <td>0</td>\n",
       "    </tr>\n",
       "  </tbody>\n",
       "</table>\n",
       "<p>5 rows × 56 columns</p>\n",
       "</div>"
      ],
      "text/plain": [
       "           Date  Month  AveragePrice     4046       4225    4770  Small Bags  \\\n",
       "5616 2017-12-31     12          1.47  2622.70  101135.53   20.25     5556.98   \n",
       "5617 2017-12-24     12          1.45  2811.71   58592.23   19.06     6863.18   \n",
       "5618 2017-12-17     12          1.43  2578.95   50811.52   79.18     8914.13   \n",
       "5620 2017-12-03     12          1.39  3772.00  126551.00  136.00     7061.00   \n",
       "5621 2017-11-26     11          1.50  2413.00   49076.00   62.00     5059.00   \n",
       "\n",
       "      Large Bags  XLarge Bags  year  ... region_Sacramento  region_SanDiego  \\\n",
       "5616     4178.96          0.0  2017  ...                 0                0   \n",
       "5617     8752.91          0.0  2017  ...                 0                0   \n",
       "5618     8293.78          0.0  2017  ...                 0                0   \n",
       "5620     2450.00          0.0  2017  ...                 0                0   \n",
       "5621     6368.00          0.0  2017  ...                 0                0   \n",
       "\n",
       "      region_SanFrancisco  region_Seattle  region_SouthCarolina  \\\n",
       "5616                    0               0                     0   \n",
       "5617                    0               0                     0   \n",
       "5618                    0               0                     0   \n",
       "5620                    0               0                     0   \n",
       "5621                    0               0                     0   \n",
       "\n",
       "      region_Spokane  region_StLouis  region_Syracuse  region_Tampa  \\\n",
       "5616               0               0                0             0   \n",
       "5617               0               0                0             0   \n",
       "5618               0               0                0             0   \n",
       "5620               0               0                0             0   \n",
       "5621               0               0                0             0   \n",
       "\n",
       "      region_WestTexNewMexico  \n",
       "5616                        0  \n",
       "5617                        0  \n",
       "5618                        0  \n",
       "5620                        0  \n",
       "5621                        0  \n",
       "\n",
       "[5 rows x 56 columns]"
      ]
     },
     "execution_count": 81,
     "metadata": {},
     "output_type": "execute_result"
    }
   ],
   "source": [
    "#Add created dummy columns into the original data set.\n",
    "df = pd.concat([df, dummy_columns], axis=1)\n",
    "df.head()"
   ]
  },
  {
   "cell_type": "code",
   "execution_count": 82,
   "metadata": {},
   "outputs": [
    {
     "data": {
      "text/html": [
       "<div>\n",
       "<style scoped>\n",
       "    .dataframe tbody tr th:only-of-type {\n",
       "        vertical-align: middle;\n",
       "    }\n",
       "\n",
       "    .dataframe tbody tr th {\n",
       "        vertical-align: top;\n",
       "    }\n",
       "\n",
       "    .dataframe thead th {\n",
       "        text-align: right;\n",
       "    }\n",
       "</style>\n",
       "<table border=\"1\" class=\"dataframe\">\n",
       "  <thead>\n",
       "    <tr style=\"text-align: right;\">\n",
       "      <th></th>\n",
       "      <th>Date</th>\n",
       "      <th>Month</th>\n",
       "      <th>AveragePrice</th>\n",
       "      <th>4046</th>\n",
       "      <th>4225</th>\n",
       "      <th>4770</th>\n",
       "      <th>Small Bags</th>\n",
       "      <th>Large Bags</th>\n",
       "      <th>XLarge Bags</th>\n",
       "      <th>year</th>\n",
       "      <th>...</th>\n",
       "      <th>region_Sacramento</th>\n",
       "      <th>region_SanDiego</th>\n",
       "      <th>region_SanFrancisco</th>\n",
       "      <th>region_Seattle</th>\n",
       "      <th>region_SouthCarolina</th>\n",
       "      <th>region_Spokane</th>\n",
       "      <th>region_StLouis</th>\n",
       "      <th>region_Syracuse</th>\n",
       "      <th>region_Tampa</th>\n",
       "      <th>region_WestTexNewMexico</th>\n",
       "    </tr>\n",
       "  </thead>\n",
       "  <tbody>\n",
       "    <tr>\n",
       "      <th>5616</th>\n",
       "      <td>2017-12-31</td>\n",
       "      <td>12</td>\n",
       "      <td>1.47</td>\n",
       "      <td>2622.70</td>\n",
       "      <td>101135.53</td>\n",
       "      <td>20.25</td>\n",
       "      <td>5556.98</td>\n",
       "      <td>4178.96</td>\n",
       "      <td>0.0</td>\n",
       "      <td>2017</td>\n",
       "      <td>...</td>\n",
       "      <td>0</td>\n",
       "      <td>0</td>\n",
       "      <td>0</td>\n",
       "      <td>0</td>\n",
       "      <td>0</td>\n",
       "      <td>0</td>\n",
       "      <td>0</td>\n",
       "      <td>0</td>\n",
       "      <td>0</td>\n",
       "      <td>0</td>\n",
       "    </tr>\n",
       "    <tr>\n",
       "      <th>5617</th>\n",
       "      <td>2017-12-24</td>\n",
       "      <td>12</td>\n",
       "      <td>1.45</td>\n",
       "      <td>2811.71</td>\n",
       "      <td>58592.23</td>\n",
       "      <td>19.06</td>\n",
       "      <td>6863.18</td>\n",
       "      <td>8752.91</td>\n",
       "      <td>0.0</td>\n",
       "      <td>2017</td>\n",
       "      <td>...</td>\n",
       "      <td>0</td>\n",
       "      <td>0</td>\n",
       "      <td>0</td>\n",
       "      <td>0</td>\n",
       "      <td>0</td>\n",
       "      <td>0</td>\n",
       "      <td>0</td>\n",
       "      <td>0</td>\n",
       "      <td>0</td>\n",
       "      <td>0</td>\n",
       "    </tr>\n",
       "    <tr>\n",
       "      <th>5618</th>\n",
       "      <td>2017-12-17</td>\n",
       "      <td>12</td>\n",
       "      <td>1.43</td>\n",
       "      <td>2578.95</td>\n",
       "      <td>50811.52</td>\n",
       "      <td>79.18</td>\n",
       "      <td>8914.13</td>\n",
       "      <td>8293.78</td>\n",
       "      <td>0.0</td>\n",
       "      <td>2017</td>\n",
       "      <td>...</td>\n",
       "      <td>0</td>\n",
       "      <td>0</td>\n",
       "      <td>0</td>\n",
       "      <td>0</td>\n",
       "      <td>0</td>\n",
       "      <td>0</td>\n",
       "      <td>0</td>\n",
       "      <td>0</td>\n",
       "      <td>0</td>\n",
       "      <td>0</td>\n",
       "    </tr>\n",
       "    <tr>\n",
       "      <th>5620</th>\n",
       "      <td>2017-12-03</td>\n",
       "      <td>12</td>\n",
       "      <td>1.39</td>\n",
       "      <td>3772.00</td>\n",
       "      <td>126551.00</td>\n",
       "      <td>136.00</td>\n",
       "      <td>7061.00</td>\n",
       "      <td>2450.00</td>\n",
       "      <td>0.0</td>\n",
       "      <td>2017</td>\n",
       "      <td>...</td>\n",
       "      <td>0</td>\n",
       "      <td>0</td>\n",
       "      <td>0</td>\n",
       "      <td>0</td>\n",
       "      <td>0</td>\n",
       "      <td>0</td>\n",
       "      <td>0</td>\n",
       "      <td>0</td>\n",
       "      <td>0</td>\n",
       "      <td>0</td>\n",
       "    </tr>\n",
       "    <tr>\n",
       "      <th>5621</th>\n",
       "      <td>2017-11-26</td>\n",
       "      <td>11</td>\n",
       "      <td>1.50</td>\n",
       "      <td>2413.00</td>\n",
       "      <td>49076.00</td>\n",
       "      <td>62.00</td>\n",
       "      <td>5059.00</td>\n",
       "      <td>6368.00</td>\n",
       "      <td>0.0</td>\n",
       "      <td>2017</td>\n",
       "      <td>...</td>\n",
       "      <td>0</td>\n",
       "      <td>0</td>\n",
       "      <td>0</td>\n",
       "      <td>0</td>\n",
       "      <td>0</td>\n",
       "      <td>0</td>\n",
       "      <td>0</td>\n",
       "      <td>0</td>\n",
       "      <td>0</td>\n",
       "      <td>0</td>\n",
       "    </tr>\n",
       "  </tbody>\n",
       "</table>\n",
       "<p>5 rows × 55 columns</p>\n",
       "</div>"
      ],
      "text/plain": [
       "           Date  Month  AveragePrice     4046       4225    4770  Small Bags  \\\n",
       "5616 2017-12-31     12          1.47  2622.70  101135.53   20.25     5556.98   \n",
       "5617 2017-12-24     12          1.45  2811.71   58592.23   19.06     6863.18   \n",
       "5618 2017-12-17     12          1.43  2578.95   50811.52   79.18     8914.13   \n",
       "5620 2017-12-03     12          1.39  3772.00  126551.00  136.00     7061.00   \n",
       "5621 2017-11-26     11          1.50  2413.00   49076.00   62.00     5059.00   \n",
       "\n",
       "      Large Bags  XLarge Bags  year  ...  region_Sacramento  region_SanDiego  \\\n",
       "5616     4178.96          0.0  2017  ...                  0                0   \n",
       "5617     8752.91          0.0  2017  ...                  0                0   \n",
       "5618     8293.78          0.0  2017  ...                  0                0   \n",
       "5620     2450.00          0.0  2017  ...                  0                0   \n",
       "5621     6368.00          0.0  2017  ...                  0                0   \n",
       "\n",
       "      region_SanFrancisco  region_Seattle  region_SouthCarolina  \\\n",
       "5616                    0               0                     0   \n",
       "5617                    0               0                     0   \n",
       "5618                    0               0                     0   \n",
       "5620                    0               0                     0   \n",
       "5621                    0               0                     0   \n",
       "\n",
       "      region_Spokane  region_StLouis  region_Syracuse  region_Tampa  \\\n",
       "5616               0               0                0             0   \n",
       "5617               0               0                0             0   \n",
       "5618               0               0                0             0   \n",
       "5620               0               0                0             0   \n",
       "5621               0               0                0             0   \n",
       "\n",
       "      region_WestTexNewMexico  \n",
       "5616                        0  \n",
       "5617                        0  \n",
       "5618                        0  \n",
       "5620                        0  \n",
       "5621                        0  \n",
       "\n",
       "[5 rows x 55 columns]"
      ]
     },
     "execution_count": 82,
     "metadata": {},
     "output_type": "execute_result"
    }
   ],
   "source": [
    "#Drop the original columns for which dummies are created.\n",
    "df.drop(transform_these_columns, axis=1, inplace=True)\n",
    "df.head()"
   ]
  },
  {
   "cell_type": "markdown",
   "metadata": {},
   "source": [
    "## Convert date to decimal date"
   ]
  },
  {
   "cell_type": "code",
   "execution_count": 83,
   "metadata": {},
   "outputs": [],
   "source": [
    "def year_fraction(date):\n",
    "    start = datetime.date(date.year, 1, 1).toordinal()\n",
    "    year_length = datetime.date(date.year+1, 1, 1).toordinal() - start\n",
    "    return date.year + float(date.toordinal() - start) / year_length"
   ]
  },
  {
   "cell_type": "code",
   "execution_count": 84,
   "metadata": {},
   "outputs": [],
   "source": [
    "df['Date'] = df['Date'].apply(lambda x:year_fraction(x))"
   ]
  },
  {
   "cell_type": "code",
   "execution_count": 85,
   "metadata": {},
   "outputs": [
    {
     "data": {
      "text/html": [
       "<div>\n",
       "<style scoped>\n",
       "    .dataframe tbody tr th:only-of-type {\n",
       "        vertical-align: middle;\n",
       "    }\n",
       "\n",
       "    .dataframe tbody tr th {\n",
       "        vertical-align: top;\n",
       "    }\n",
       "\n",
       "    .dataframe thead th {\n",
       "        text-align: right;\n",
       "    }\n",
       "</style>\n",
       "<table border=\"1\" class=\"dataframe\">\n",
       "  <thead>\n",
       "    <tr style=\"text-align: right;\">\n",
       "      <th></th>\n",
       "      <th>Date</th>\n",
       "      <th>Month</th>\n",
       "      <th>AveragePrice</th>\n",
       "      <th>4046</th>\n",
       "      <th>4225</th>\n",
       "      <th>4770</th>\n",
       "      <th>Small Bags</th>\n",
       "      <th>Large Bags</th>\n",
       "      <th>XLarge Bags</th>\n",
       "      <th>year</th>\n",
       "      <th>...</th>\n",
       "      <th>region_Sacramento</th>\n",
       "      <th>region_SanDiego</th>\n",
       "      <th>region_SanFrancisco</th>\n",
       "      <th>region_Seattle</th>\n",
       "      <th>region_SouthCarolina</th>\n",
       "      <th>region_Spokane</th>\n",
       "      <th>region_StLouis</th>\n",
       "      <th>region_Syracuse</th>\n",
       "      <th>region_Tampa</th>\n",
       "      <th>region_WestTexNewMexico</th>\n",
       "    </tr>\n",
       "  </thead>\n",
       "  <tbody>\n",
       "    <tr>\n",
       "      <th>5616</th>\n",
       "      <td>2017.997260</td>\n",
       "      <td>12</td>\n",
       "      <td>1.47</td>\n",
       "      <td>2622.70</td>\n",
       "      <td>101135.53</td>\n",
       "      <td>20.25</td>\n",
       "      <td>5556.98</td>\n",
       "      <td>4178.96</td>\n",
       "      <td>0.0</td>\n",
       "      <td>2017</td>\n",
       "      <td>...</td>\n",
       "      <td>0</td>\n",
       "      <td>0</td>\n",
       "      <td>0</td>\n",
       "      <td>0</td>\n",
       "      <td>0</td>\n",
       "      <td>0</td>\n",
       "      <td>0</td>\n",
       "      <td>0</td>\n",
       "      <td>0</td>\n",
       "      <td>0</td>\n",
       "    </tr>\n",
       "    <tr>\n",
       "      <th>5617</th>\n",
       "      <td>2017.978082</td>\n",
       "      <td>12</td>\n",
       "      <td>1.45</td>\n",
       "      <td>2811.71</td>\n",
       "      <td>58592.23</td>\n",
       "      <td>19.06</td>\n",
       "      <td>6863.18</td>\n",
       "      <td>8752.91</td>\n",
       "      <td>0.0</td>\n",
       "      <td>2017</td>\n",
       "      <td>...</td>\n",
       "      <td>0</td>\n",
       "      <td>0</td>\n",
       "      <td>0</td>\n",
       "      <td>0</td>\n",
       "      <td>0</td>\n",
       "      <td>0</td>\n",
       "      <td>0</td>\n",
       "      <td>0</td>\n",
       "      <td>0</td>\n",
       "      <td>0</td>\n",
       "    </tr>\n",
       "    <tr>\n",
       "      <th>5618</th>\n",
       "      <td>2017.958904</td>\n",
       "      <td>12</td>\n",
       "      <td>1.43</td>\n",
       "      <td>2578.95</td>\n",
       "      <td>50811.52</td>\n",
       "      <td>79.18</td>\n",
       "      <td>8914.13</td>\n",
       "      <td>8293.78</td>\n",
       "      <td>0.0</td>\n",
       "      <td>2017</td>\n",
       "      <td>...</td>\n",
       "      <td>0</td>\n",
       "      <td>0</td>\n",
       "      <td>0</td>\n",
       "      <td>0</td>\n",
       "      <td>0</td>\n",
       "      <td>0</td>\n",
       "      <td>0</td>\n",
       "      <td>0</td>\n",
       "      <td>0</td>\n",
       "      <td>0</td>\n",
       "    </tr>\n",
       "    <tr>\n",
       "      <th>5620</th>\n",
       "      <td>2017.920548</td>\n",
       "      <td>12</td>\n",
       "      <td>1.39</td>\n",
       "      <td>3772.00</td>\n",
       "      <td>126551.00</td>\n",
       "      <td>136.00</td>\n",
       "      <td>7061.00</td>\n",
       "      <td>2450.00</td>\n",
       "      <td>0.0</td>\n",
       "      <td>2017</td>\n",
       "      <td>...</td>\n",
       "      <td>0</td>\n",
       "      <td>0</td>\n",
       "      <td>0</td>\n",
       "      <td>0</td>\n",
       "      <td>0</td>\n",
       "      <td>0</td>\n",
       "      <td>0</td>\n",
       "      <td>0</td>\n",
       "      <td>0</td>\n",
       "      <td>0</td>\n",
       "    </tr>\n",
       "    <tr>\n",
       "      <th>5621</th>\n",
       "      <td>2017.901370</td>\n",
       "      <td>11</td>\n",
       "      <td>1.50</td>\n",
       "      <td>2413.00</td>\n",
       "      <td>49076.00</td>\n",
       "      <td>62.00</td>\n",
       "      <td>5059.00</td>\n",
       "      <td>6368.00</td>\n",
       "      <td>0.0</td>\n",
       "      <td>2017</td>\n",
       "      <td>...</td>\n",
       "      <td>0</td>\n",
       "      <td>0</td>\n",
       "      <td>0</td>\n",
       "      <td>0</td>\n",
       "      <td>0</td>\n",
       "      <td>0</td>\n",
       "      <td>0</td>\n",
       "      <td>0</td>\n",
       "      <td>0</td>\n",
       "      <td>0</td>\n",
       "    </tr>\n",
       "  </tbody>\n",
       "</table>\n",
       "<p>5 rows × 55 columns</p>\n",
       "</div>"
      ],
      "text/plain": [
       "             Date  Month  AveragePrice     4046       4225    4770  \\\n",
       "5616  2017.997260     12          1.47  2622.70  101135.53   20.25   \n",
       "5617  2017.978082     12          1.45  2811.71   58592.23   19.06   \n",
       "5618  2017.958904     12          1.43  2578.95   50811.52   79.18   \n",
       "5620  2017.920548     12          1.39  3772.00  126551.00  136.00   \n",
       "5621  2017.901370     11          1.50  2413.00   49076.00   62.00   \n",
       "\n",
       "      Small Bags  Large Bags  XLarge Bags  year  ...  region_Sacramento  \\\n",
       "5616     5556.98     4178.96          0.0  2017  ...                  0   \n",
       "5617     6863.18     8752.91          0.0  2017  ...                  0   \n",
       "5618     8914.13     8293.78          0.0  2017  ...                  0   \n",
       "5620     7061.00     2450.00          0.0  2017  ...                  0   \n",
       "5621     5059.00     6368.00          0.0  2017  ...                  0   \n",
       "\n",
       "      region_SanDiego  region_SanFrancisco  region_Seattle  \\\n",
       "5616                0                    0               0   \n",
       "5617                0                    0               0   \n",
       "5618                0                    0               0   \n",
       "5620                0                    0               0   \n",
       "5621                0                    0               0   \n",
       "\n",
       "      region_SouthCarolina  region_Spokane  region_StLouis  region_Syracuse  \\\n",
       "5616                     0               0               0                0   \n",
       "5617                     0               0               0                0   \n",
       "5618                     0               0               0                0   \n",
       "5620                     0               0               0                0   \n",
       "5621                     0               0               0                0   \n",
       "\n",
       "      region_Tampa  region_WestTexNewMexico  \n",
       "5616             0                        0  \n",
       "5617             0                        0  \n",
       "5618             0                        0  \n",
       "5620             0                        0  \n",
       "5621             0                        0  \n",
       "\n",
       "[5 rows x 55 columns]"
      ]
     },
     "execution_count": 85,
     "metadata": {},
     "output_type": "execute_result"
    }
   ],
   "source": [
    "df.head()"
   ]
  },
  {
   "cell_type": "code",
   "execution_count": 86,
   "metadata": {},
   "outputs": [],
   "source": [
    "# drop month and year\n",
    "df.drop(['Month','year'],axis=1, inplace=True)"
   ]
  },
  {
   "cell_type": "code",
   "execution_count": 87,
   "metadata": {},
   "outputs": [
    {
     "data": {
      "text/html": [
       "<div>\n",
       "<style scoped>\n",
       "    .dataframe tbody tr th:only-of-type {\n",
       "        vertical-align: middle;\n",
       "    }\n",
       "\n",
       "    .dataframe tbody tr th {\n",
       "        vertical-align: top;\n",
       "    }\n",
       "\n",
       "    .dataframe thead th {\n",
       "        text-align: right;\n",
       "    }\n",
       "</style>\n",
       "<table border=\"1\" class=\"dataframe\">\n",
       "  <thead>\n",
       "    <tr style=\"text-align: right;\">\n",
       "      <th></th>\n",
       "      <th>Date</th>\n",
       "      <th>AveragePrice</th>\n",
       "      <th>4046</th>\n",
       "      <th>4225</th>\n",
       "      <th>4770</th>\n",
       "      <th>Small Bags</th>\n",
       "      <th>Large Bags</th>\n",
       "      <th>XLarge Bags</th>\n",
       "      <th>organic</th>\n",
       "      <th>region_Atlanta</th>\n",
       "      <th>...</th>\n",
       "      <th>region_Sacramento</th>\n",
       "      <th>region_SanDiego</th>\n",
       "      <th>region_SanFrancisco</th>\n",
       "      <th>region_Seattle</th>\n",
       "      <th>region_SouthCarolina</th>\n",
       "      <th>region_Spokane</th>\n",
       "      <th>region_StLouis</th>\n",
       "      <th>region_Syracuse</th>\n",
       "      <th>region_Tampa</th>\n",
       "      <th>region_WestTexNewMexico</th>\n",
       "    </tr>\n",
       "  </thead>\n",
       "  <tbody>\n",
       "    <tr>\n",
       "      <th>5616</th>\n",
       "      <td>2017.997260</td>\n",
       "      <td>1.47</td>\n",
       "      <td>2622.70</td>\n",
       "      <td>101135.53</td>\n",
       "      <td>20.250000</td>\n",
       "      <td>5556.98</td>\n",
       "      <td>4178.96</td>\n",
       "      <td>0.000000</td>\n",
       "      <td>0</td>\n",
       "      <td>0</td>\n",
       "      <td>...</td>\n",
       "      <td>0</td>\n",
       "      <td>0</td>\n",
       "      <td>0</td>\n",
       "      <td>0</td>\n",
       "      <td>0</td>\n",
       "      <td>0</td>\n",
       "      <td>0</td>\n",
       "      <td>0</td>\n",
       "      <td>0</td>\n",
       "      <td>0</td>\n",
       "    </tr>\n",
       "    <tr>\n",
       "      <th>5617</th>\n",
       "      <td>2017.978082</td>\n",
       "      <td>1.45</td>\n",
       "      <td>2811.71</td>\n",
       "      <td>58592.23</td>\n",
       "      <td>19.060000</td>\n",
       "      <td>6863.18</td>\n",
       "      <td>8752.91</td>\n",
       "      <td>0.000000</td>\n",
       "      <td>0</td>\n",
       "      <td>0</td>\n",
       "      <td>...</td>\n",
       "      <td>0</td>\n",
       "      <td>0</td>\n",
       "      <td>0</td>\n",
       "      <td>0</td>\n",
       "      <td>0</td>\n",
       "      <td>0</td>\n",
       "      <td>0</td>\n",
       "      <td>0</td>\n",
       "      <td>0</td>\n",
       "      <td>0</td>\n",
       "    </tr>\n",
       "    <tr>\n",
       "      <th>5618</th>\n",
       "      <td>2017.958904</td>\n",
       "      <td>1.43</td>\n",
       "      <td>2578.95</td>\n",
       "      <td>50811.52</td>\n",
       "      <td>79.180000</td>\n",
       "      <td>8914.13</td>\n",
       "      <td>8293.78</td>\n",
       "      <td>0.000000</td>\n",
       "      <td>0</td>\n",
       "      <td>0</td>\n",
       "      <td>...</td>\n",
       "      <td>0</td>\n",
       "      <td>0</td>\n",
       "      <td>0</td>\n",
       "      <td>0</td>\n",
       "      <td>0</td>\n",
       "      <td>0</td>\n",
       "      <td>0</td>\n",
       "      <td>0</td>\n",
       "      <td>0</td>\n",
       "      <td>0</td>\n",
       "    </tr>\n",
       "    <tr>\n",
       "      <th>5620</th>\n",
       "      <td>2017.920548</td>\n",
       "      <td>1.39</td>\n",
       "      <td>3772.00</td>\n",
       "      <td>126551.00</td>\n",
       "      <td>136.000000</td>\n",
       "      <td>7061.00</td>\n",
       "      <td>2450.00</td>\n",
       "      <td>0.000000</td>\n",
       "      <td>0</td>\n",
       "      <td>0</td>\n",
       "      <td>...</td>\n",
       "      <td>0</td>\n",
       "      <td>0</td>\n",
       "      <td>0</td>\n",
       "      <td>0</td>\n",
       "      <td>0</td>\n",
       "      <td>0</td>\n",
       "      <td>0</td>\n",
       "      <td>0</td>\n",
       "      <td>0</td>\n",
       "      <td>0</td>\n",
       "    </tr>\n",
       "    <tr>\n",
       "      <th>5621</th>\n",
       "      <td>2017.901370</td>\n",
       "      <td>1.50</td>\n",
       "      <td>2413.00</td>\n",
       "      <td>49076.00</td>\n",
       "      <td>62.000000</td>\n",
       "      <td>5059.00</td>\n",
       "      <td>6368.00</td>\n",
       "      <td>0.000000</td>\n",
       "      <td>0</td>\n",
       "      <td>0</td>\n",
       "      <td>...</td>\n",
       "      <td>0</td>\n",
       "      <td>0</td>\n",
       "      <td>0</td>\n",
       "      <td>0</td>\n",
       "      <td>0</td>\n",
       "      <td>0</td>\n",
       "      <td>0</td>\n",
       "      <td>0</td>\n",
       "      <td>0</td>\n",
       "      <td>0</td>\n",
       "    </tr>\n",
       "    <tr>\n",
       "      <th>...</th>\n",
       "      <td>...</td>\n",
       "      <td>...</td>\n",
       "      <td>...</td>\n",
       "      <td>...</td>\n",
       "      <td>...</td>\n",
       "      <td>...</td>\n",
       "      <td>...</td>\n",
       "      <td>...</td>\n",
       "      <td>...</td>\n",
       "      <td>...</td>\n",
       "      <td>...</td>\n",
       "      <td>...</td>\n",
       "      <td>...</td>\n",
       "      <td>...</td>\n",
       "      <td>...</td>\n",
       "      <td>...</td>\n",
       "      <td>...</td>\n",
       "      <td>...</td>\n",
       "      <td>...</td>\n",
       "      <td>...</td>\n",
       "      <td>...</td>\n",
       "    </tr>\n",
       "    <tr>\n",
       "      <th>18244</th>\n",
       "      <td>2018.093151</td>\n",
       "      <td>1.63</td>\n",
       "      <td>2046.96</td>\n",
       "      <td>1529.20</td>\n",
       "      <td>0.000000</td>\n",
       "      <td>13066.82</td>\n",
       "      <td>431.85</td>\n",
       "      <td>0.000000</td>\n",
       "      <td>1</td>\n",
       "      <td>0</td>\n",
       "      <td>...</td>\n",
       "      <td>0</td>\n",
       "      <td>0</td>\n",
       "      <td>0</td>\n",
       "      <td>0</td>\n",
       "      <td>0</td>\n",
       "      <td>0</td>\n",
       "      <td>0</td>\n",
       "      <td>0</td>\n",
       "      <td>0</td>\n",
       "      <td>1</td>\n",
       "    </tr>\n",
       "    <tr>\n",
       "      <th>18245</th>\n",
       "      <td>2018.073973</td>\n",
       "      <td>1.71</td>\n",
       "      <td>1191.70</td>\n",
       "      <td>3431.50</td>\n",
       "      <td>5253.172174</td>\n",
       "      <td>8940.04</td>\n",
       "      <td>324.80</td>\n",
       "      <td>0.000000</td>\n",
       "      <td>1</td>\n",
       "      <td>0</td>\n",
       "      <td>...</td>\n",
       "      <td>0</td>\n",
       "      <td>0</td>\n",
       "      <td>0</td>\n",
       "      <td>0</td>\n",
       "      <td>0</td>\n",
       "      <td>0</td>\n",
       "      <td>0</td>\n",
       "      <td>0</td>\n",
       "      <td>0</td>\n",
       "      <td>1</td>\n",
       "    </tr>\n",
       "    <tr>\n",
       "      <th>18246</th>\n",
       "      <td>2018.054795</td>\n",
       "      <td>1.87</td>\n",
       "      <td>1191.92</td>\n",
       "      <td>2452.79</td>\n",
       "      <td>727.940000</td>\n",
       "      <td>9351.80</td>\n",
       "      <td>42.31</td>\n",
       "      <td>1102.973043</td>\n",
       "      <td>1</td>\n",
       "      <td>0</td>\n",
       "      <td>...</td>\n",
       "      <td>0</td>\n",
       "      <td>0</td>\n",
       "      <td>0</td>\n",
       "      <td>0</td>\n",
       "      <td>0</td>\n",
       "      <td>0</td>\n",
       "      <td>0</td>\n",
       "      <td>0</td>\n",
       "      <td>0</td>\n",
       "      <td>1</td>\n",
       "    </tr>\n",
       "    <tr>\n",
       "      <th>18247</th>\n",
       "      <td>2018.035616</td>\n",
       "      <td>1.93</td>\n",
       "      <td>1527.63</td>\n",
       "      <td>2981.04</td>\n",
       "      <td>727.010000</td>\n",
       "      <td>10919.54</td>\n",
       "      <td>50.00</td>\n",
       "      <td>0.000000</td>\n",
       "      <td>1</td>\n",
       "      <td>0</td>\n",
       "      <td>...</td>\n",
       "      <td>0</td>\n",
       "      <td>0</td>\n",
       "      <td>0</td>\n",
       "      <td>0</td>\n",
       "      <td>0</td>\n",
       "      <td>0</td>\n",
       "      <td>0</td>\n",
       "      <td>0</td>\n",
       "      <td>0</td>\n",
       "      <td>1</td>\n",
       "    </tr>\n",
       "    <tr>\n",
       "      <th>18248</th>\n",
       "      <td>2018.016438</td>\n",
       "      <td>1.62</td>\n",
       "      <td>2894.77</td>\n",
       "      <td>2356.13</td>\n",
       "      <td>224.530000</td>\n",
       "      <td>11988.14</td>\n",
       "      <td>26.01</td>\n",
       "      <td>0.000000</td>\n",
       "      <td>0</td>\n",
       "      <td>0</td>\n",
       "      <td>...</td>\n",
       "      <td>0</td>\n",
       "      <td>0</td>\n",
       "      <td>0</td>\n",
       "      <td>0</td>\n",
       "      <td>0</td>\n",
       "      <td>0</td>\n",
       "      <td>0</td>\n",
       "      <td>0</td>\n",
       "      <td>0</td>\n",
       "      <td>1</td>\n",
       "    </tr>\n",
       "  </tbody>\n",
       "</table>\n",
       "<p>14707 rows × 53 columns</p>\n",
       "</div>"
      ],
      "text/plain": [
       "              Date  AveragePrice     4046       4225         4770  Small Bags  \\\n",
       "5616   2017.997260          1.47  2622.70  101135.53    20.250000     5556.98   \n",
       "5617   2017.978082          1.45  2811.71   58592.23    19.060000     6863.18   \n",
       "5618   2017.958904          1.43  2578.95   50811.52    79.180000     8914.13   \n",
       "5620   2017.920548          1.39  3772.00  126551.00   136.000000     7061.00   \n",
       "5621   2017.901370          1.50  2413.00   49076.00    62.000000     5059.00   \n",
       "...            ...           ...      ...        ...          ...         ...   \n",
       "18244  2018.093151          1.63  2046.96    1529.20     0.000000    13066.82   \n",
       "18245  2018.073973          1.71  1191.70    3431.50  5253.172174     8940.04   \n",
       "18246  2018.054795          1.87  1191.92    2452.79   727.940000     9351.80   \n",
       "18247  2018.035616          1.93  1527.63    2981.04   727.010000    10919.54   \n",
       "18248  2018.016438          1.62  2894.77    2356.13   224.530000    11988.14   \n",
       "\n",
       "       Large Bags  XLarge Bags  organic  region_Atlanta  ...  \\\n",
       "5616      4178.96     0.000000        0               0  ...   \n",
       "5617      8752.91     0.000000        0               0  ...   \n",
       "5618      8293.78     0.000000        0               0  ...   \n",
       "5620      2450.00     0.000000        0               0  ...   \n",
       "5621      6368.00     0.000000        0               0  ...   \n",
       "...           ...          ...      ...             ...  ...   \n",
       "18244      431.85     0.000000        1               0  ...   \n",
       "18245      324.80     0.000000        1               0  ...   \n",
       "18246       42.31  1102.973043        1               0  ...   \n",
       "18247       50.00     0.000000        1               0  ...   \n",
       "18248       26.01     0.000000        0               0  ...   \n",
       "\n",
       "       region_Sacramento  region_SanDiego  region_SanFrancisco  \\\n",
       "5616                   0                0                    0   \n",
       "5617                   0                0                    0   \n",
       "5618                   0                0                    0   \n",
       "5620                   0                0                    0   \n",
       "5621                   0                0                    0   \n",
       "...                  ...              ...                  ...   \n",
       "18244                  0                0                    0   \n",
       "18245                  0                0                    0   \n",
       "18246                  0                0                    0   \n",
       "18247                  0                0                    0   \n",
       "18248                  0                0                    0   \n",
       "\n",
       "       region_Seattle  region_SouthCarolina  region_Spokane  region_StLouis  \\\n",
       "5616                0                     0               0               0   \n",
       "5617                0                     0               0               0   \n",
       "5618                0                     0               0               0   \n",
       "5620                0                     0               0               0   \n",
       "5621                0                     0               0               0   \n",
       "...               ...                   ...             ...             ...   \n",
       "18244               0                     0               0               0   \n",
       "18245               0                     0               0               0   \n",
       "18246               0                     0               0               0   \n",
       "18247               0                     0               0               0   \n",
       "18248               0                     0               0               0   \n",
       "\n",
       "       region_Syracuse  region_Tampa  region_WestTexNewMexico  \n",
       "5616                 0             0                        0  \n",
       "5617                 0             0                        0  \n",
       "5618                 0             0                        0  \n",
       "5620                 0             0                        0  \n",
       "5621                 0             0                        0  \n",
       "...                ...           ...                      ...  \n",
       "18244                0             0                        1  \n",
       "18245                0             0                        1  \n",
       "18246                0             0                        1  \n",
       "18247                0             0                        1  \n",
       "18248                0             0                        1  \n",
       "\n",
       "[14707 rows x 53 columns]"
      ]
     },
     "execution_count": 87,
     "metadata": {},
     "output_type": "execute_result"
    }
   ],
   "source": [
    "df"
   ]
  },
  {
   "cell_type": "markdown",
   "metadata": {},
   "source": [
    "## Data Scaling"
   ]
  },
  {
   "cell_type": "markdown",
   "metadata": {},
   "source": [
    "Do I scale the date??"
   ]
  },
  {
   "cell_type": "code",
   "execution_count": 88,
   "metadata": {},
   "outputs": [],
   "source": [
    "SS = StandardScaler() "
   ]
  },
  {
   "cell_type": "code",
   "execution_count": 89,
   "metadata": {},
   "outputs": [
    {
     "data": {
      "text/html": [
       "<div>\n",
       "<style scoped>\n",
       "    .dataframe tbody tr th:only-of-type {\n",
       "        vertical-align: middle;\n",
       "    }\n",
       "\n",
       "    .dataframe tbody tr th {\n",
       "        vertical-align: top;\n",
       "    }\n",
       "\n",
       "    .dataframe thead th {\n",
       "        text-align: right;\n",
       "    }\n",
       "</style>\n",
       "<table border=\"1\" class=\"dataframe\">\n",
       "  <thead>\n",
       "    <tr style=\"text-align: right;\">\n",
       "      <th></th>\n",
       "      <th>Date</th>\n",
       "      <th>AveragePrice</th>\n",
       "      <th>4046</th>\n",
       "      <th>4225</th>\n",
       "      <th>4770</th>\n",
       "      <th>Small Bags</th>\n",
       "      <th>Large Bags</th>\n",
       "      <th>XLarge Bags</th>\n",
       "      <th>organic</th>\n",
       "      <th>region_Atlanta</th>\n",
       "      <th>...</th>\n",
       "      <th>region_Sacramento</th>\n",
       "      <th>region_SanDiego</th>\n",
       "      <th>region_SanFrancisco</th>\n",
       "      <th>region_Seattle</th>\n",
       "      <th>region_SouthCarolina</th>\n",
       "      <th>region_Spokane</th>\n",
       "      <th>region_StLouis</th>\n",
       "      <th>region_Syracuse</th>\n",
       "      <th>region_Tampa</th>\n",
       "      <th>region_WestTexNewMexico</th>\n",
       "    </tr>\n",
       "  </thead>\n",
       "  <tbody>\n",
       "    <tr>\n",
       "      <th>5616</th>\n",
       "      <td>1.477180</td>\n",
       "      <td>0.131863</td>\n",
       "      <td>-0.442790</td>\n",
       "      <td>0.096581</td>\n",
       "      <td>-0.366810</td>\n",
       "      <td>-0.527178</td>\n",
       "      <td>-0.316487</td>\n",
       "      <td>-0.292752</td>\n",
       "      <td>0</td>\n",
       "      <td>0</td>\n",
       "      <td>...</td>\n",
       "      <td>0</td>\n",
       "      <td>0</td>\n",
       "      <td>0</td>\n",
       "      <td>0</td>\n",
       "      <td>0</td>\n",
       "      <td>0</td>\n",
       "      <td>0</td>\n",
       "      <td>0</td>\n",
       "      <td>0</td>\n",
       "      <td>0</td>\n",
       "    </tr>\n",
       "    <tr>\n",
       "      <th>5617</th>\n",
       "      <td>1.456640</td>\n",
       "      <td>0.083434</td>\n",
       "      <td>-0.441661</td>\n",
       "      <td>-0.186403</td>\n",
       "      <td>-0.366877</td>\n",
       "      <td>-0.511716</td>\n",
       "      <td>-0.183617</td>\n",
       "      <td>-0.292752</td>\n",
       "      <td>0</td>\n",
       "      <td>0</td>\n",
       "      <td>...</td>\n",
       "      <td>0</td>\n",
       "      <td>0</td>\n",
       "      <td>0</td>\n",
       "      <td>0</td>\n",
       "      <td>0</td>\n",
       "      <td>0</td>\n",
       "      <td>0</td>\n",
       "      <td>0</td>\n",
       "      <td>0</td>\n",
       "      <td>0</td>\n",
       "    </tr>\n",
       "    <tr>\n",
       "      <th>5618</th>\n",
       "      <td>1.436099</td>\n",
       "      <td>0.035004</td>\n",
       "      <td>-0.443051</td>\n",
       "      <td>-0.238157</td>\n",
       "      <td>-0.363509</td>\n",
       "      <td>-0.487438</td>\n",
       "      <td>-0.196955</td>\n",
       "      <td>-0.292752</td>\n",
       "      <td>0</td>\n",
       "      <td>0</td>\n",
       "      <td>...</td>\n",
       "      <td>0</td>\n",
       "      <td>0</td>\n",
       "      <td>0</td>\n",
       "      <td>0</td>\n",
       "      <td>0</td>\n",
       "      <td>0</td>\n",
       "      <td>0</td>\n",
       "      <td>0</td>\n",
       "      <td>0</td>\n",
       "      <td>0</td>\n",
       "    </tr>\n",
       "    <tr>\n",
       "      <th>5620</th>\n",
       "      <td>1.395018</td>\n",
       "      <td>-0.061855</td>\n",
       "      <td>-0.435928</td>\n",
       "      <td>0.265636</td>\n",
       "      <td>-0.360325</td>\n",
       "      <td>-0.509375</td>\n",
       "      <td>-0.366713</td>\n",
       "      <td>-0.292752</td>\n",
       "      <td>0</td>\n",
       "      <td>0</td>\n",
       "      <td>...</td>\n",
       "      <td>0</td>\n",
       "      <td>0</td>\n",
       "      <td>0</td>\n",
       "      <td>0</td>\n",
       "      <td>0</td>\n",
       "      <td>0</td>\n",
       "      <td>0</td>\n",
       "      <td>0</td>\n",
       "      <td>0</td>\n",
       "      <td>0</td>\n",
       "    </tr>\n",
       "    <tr>\n",
       "      <th>5621</th>\n",
       "      <td>1.374477</td>\n",
       "      <td>0.204508</td>\n",
       "      <td>-0.444042</td>\n",
       "      <td>-0.249701</td>\n",
       "      <td>-0.364471</td>\n",
       "      <td>-0.533073</td>\n",
       "      <td>-0.252897</td>\n",
       "      <td>-0.292752</td>\n",
       "      <td>0</td>\n",
       "      <td>0</td>\n",
       "      <td>...</td>\n",
       "      <td>0</td>\n",
       "      <td>0</td>\n",
       "      <td>0</td>\n",
       "      <td>0</td>\n",
       "      <td>0</td>\n",
       "      <td>0</td>\n",
       "      <td>0</td>\n",
       "      <td>0</td>\n",
       "      <td>0</td>\n",
       "      <td>0</td>\n",
       "    </tr>\n",
       "  </tbody>\n",
       "</table>\n",
       "<p>5 rows × 53 columns</p>\n",
       "</div>"
      ],
      "text/plain": [
       "          Date  AveragePrice      4046      4225      4770  Small Bags  \\\n",
       "5616  1.477180      0.131863 -0.442790  0.096581 -0.366810   -0.527178   \n",
       "5617  1.456640      0.083434 -0.441661 -0.186403 -0.366877   -0.511716   \n",
       "5618  1.436099      0.035004 -0.443051 -0.238157 -0.363509   -0.487438   \n",
       "5620  1.395018     -0.061855 -0.435928  0.265636 -0.360325   -0.509375   \n",
       "5621  1.374477      0.204508 -0.444042 -0.249701 -0.364471   -0.533073   \n",
       "\n",
       "      Large Bags  XLarge Bags  organic  region_Atlanta  ...  \\\n",
       "5616   -0.316487    -0.292752        0               0  ...   \n",
       "5617   -0.183617    -0.292752        0               0  ...   \n",
       "5618   -0.196955    -0.292752        0               0  ...   \n",
       "5620   -0.366713    -0.292752        0               0  ...   \n",
       "5621   -0.252897    -0.292752        0               0  ...   \n",
       "\n",
       "      region_Sacramento  region_SanDiego  region_SanFrancisco  region_Seattle  \\\n",
       "5616                  0                0                    0               0   \n",
       "5617                  0                0                    0               0   \n",
       "5618                  0                0                    0               0   \n",
       "5620                  0                0                    0               0   \n",
       "5621                  0                0                    0               0   \n",
       "\n",
       "      region_SouthCarolina  region_Spokane  region_StLouis  region_Syracuse  \\\n",
       "5616                     0               0               0                0   \n",
       "5617                     0               0               0                0   \n",
       "5618                     0               0               0                0   \n",
       "5620                     0               0               0                0   \n",
       "5621                     0               0               0                0   \n",
       "\n",
       "      region_Tampa  region_WestTexNewMexico  \n",
       "5616             0                        0  \n",
       "5617             0                        0  \n",
       "5618             0                        0  \n",
       "5620             0                        0  \n",
       "5621             0                        0  \n",
       "\n",
       "[5 rows x 53 columns]"
      ]
     },
     "execution_count": 89,
     "metadata": {},
     "output_type": "execute_result"
    }
   ],
   "source": [
    "dfn=df.copy()\n",
    "dfn[['Date','AveragePrice','4046','4046','4225','4770','Small Bags','Large Bags', 'XLarge Bags']] = SS.fit_transform(df[['Date','AveragePrice','4046','4046','4225','4770','Small Bags','Large Bags', 'XLarge Bags']])\n",
    "dfn.head()"
   ]
  },
  {
   "cell_type": "markdown",
   "metadata": {},
   "source": [
    "## Set up train/test data set (organic-classification)"
   ]
  },
  {
   "cell_type": "code",
   "execution_count": 90,
   "metadata": {},
   "outputs": [],
   "source": [
    "y_organic = dfn['organic']"
   ]
  },
  {
   "cell_type": "code",
   "execution_count": 91,
   "metadata": {},
   "outputs": [],
   "source": [
    "X_organic = dfn.drop(['organic'], axis=1)"
   ]
  },
  {
   "cell_type": "code",
   "execution_count": 92,
   "metadata": {},
   "outputs": [],
   "source": [
    "Xo_train, Xo_test, yo_train, yo_test = train_test_split(X_organic, y_organic, test_size=0.3, random_state=102)"
   ]
  },
  {
   "cell_type": "code",
   "execution_count": 93,
   "metadata": {},
   "outputs": [
    {
     "data": {
      "text/plain": [
       "49.8"
      ]
     },
     "execution_count": 93,
     "metadata": {},
     "output_type": "execute_result"
    }
   ],
   "source": [
    "round((sum(yo_train==1)/len(yo_train.index))*100 , 2) #Calculate the percentage of occurence 1. Data set is not inbalanced\n"
   ]
  },
  {
   "cell_type": "markdown",
   "metadata": {},
   "source": [
    "## Set up train/test data set (Price-regression)"
   ]
  },
  {
   "cell_type": "code",
   "execution_count": 94,
   "metadata": {},
   "outputs": [],
   "source": [
    "y_price = df['AveragePrice']"
   ]
  },
  {
   "cell_type": "code",
   "execution_count": 95,
   "metadata": {},
   "outputs": [],
   "source": [
    "X_price = dfn.drop(['AveragePrice'], axis=1)"
   ]
  },
  {
   "cell_type": "code",
   "execution_count": 96,
   "metadata": {},
   "outputs": [],
   "source": [
    "X_train, X_test, y_train, y_test = train_test_split(X_price, y_price, test_size=0.3, random_state=102)"
   ]
  },
  {
   "cell_type": "markdown",
   "metadata": {},
   "source": [
    " There are two sets of training and test sets.\n",
    " - For the organic-classification models, the data used are: Xo_train, Xo_test, yo_train, yo_test\n",
    " - For the price-regression models, the data used are: X_train, X_test, y_train, y_test"
   ]
  },
  {
   "cell_type": "code",
   "execution_count": null,
   "metadata": {},
   "outputs": [],
   "source": []
  },
  {
   "cell_type": "markdown",
   "metadata": {},
   "source": [
    "# Regression Model Application\n",
    "## Question 1"
   ]
  },
  {
   "cell_type": "markdown",
   "metadata": {},
   "source": [
    "### Correlation Analysis\n",
    "Evaluate correlation between different predictors, as well as between predictors and target 'AveragePrice'"
   ]
  },
  {
   "cell_type": "code",
   "execution_count": 97,
   "metadata": {},
   "outputs": [
    {
     "data": {
      "text/html": [
       "<div>\n",
       "<style scoped>\n",
       "    .dataframe tbody tr th:only-of-type {\n",
       "        vertical-align: middle;\n",
       "    }\n",
       "\n",
       "    .dataframe tbody tr th {\n",
       "        vertical-align: top;\n",
       "    }\n",
       "\n",
       "    .dataframe thead th {\n",
       "        text-align: right;\n",
       "    }\n",
       "</style>\n",
       "<table border=\"1\" class=\"dataframe\">\n",
       "  <thead>\n",
       "    <tr style=\"text-align: right;\">\n",
       "      <th></th>\n",
       "      <th>AveragePrice</th>\n",
       "      <th>Date</th>\n",
       "      <th>4046</th>\n",
       "      <th>4225</th>\n",
       "      <th>4770</th>\n",
       "      <th>Small Bags</th>\n",
       "      <th>Large Bags</th>\n",
       "      <th>XLarge Bags</th>\n",
       "      <th>organic</th>\n",
       "    </tr>\n",
       "  </thead>\n",
       "  <tbody>\n",
       "    <tr>\n",
       "      <th>AveragePrice</th>\n",
       "      <td>1.00</td>\n",
       "      <td>0.14</td>\n",
       "      <td>-0.46</td>\n",
       "      <td>-0.33</td>\n",
       "      <td>-0.27</td>\n",
       "      <td>-0.39</td>\n",
       "      <td>-0.37</td>\n",
       "      <td>-0.18</td>\n",
       "      <td>0.60</td>\n",
       "    </tr>\n",
       "    <tr>\n",
       "      <th>Date</th>\n",
       "      <td>0.14</td>\n",
       "      <td>1.00</td>\n",
       "      <td>0.00</td>\n",
       "      <td>-0.03</td>\n",
       "      <td>-0.08</td>\n",
       "      <td>0.12</td>\n",
       "      <td>0.15</td>\n",
       "      <td>0.11</td>\n",
       "      <td>-0.00</td>\n",
       "    </tr>\n",
       "    <tr>\n",
       "      <th>4046</th>\n",
       "      <td>-0.46</td>\n",
       "      <td>0.00</td>\n",
       "      <td>1.00</td>\n",
       "      <td>0.43</td>\n",
       "      <td>0.43</td>\n",
       "      <td>0.62</td>\n",
       "      <td>0.46</td>\n",
       "      <td>0.41</td>\n",
       "      <td>-0.44</td>\n",
       "    </tr>\n",
       "    <tr>\n",
       "      <th>4225</th>\n",
       "      <td>-0.33</td>\n",
       "      <td>-0.03</td>\n",
       "      <td>0.43</td>\n",
       "      <td>1.00</td>\n",
       "      <td>0.53</td>\n",
       "      <td>0.68</td>\n",
       "      <td>0.30</td>\n",
       "      <td>0.30</td>\n",
       "      <td>-0.54</td>\n",
       "    </tr>\n",
       "    <tr>\n",
       "      <th>4770</th>\n",
       "      <td>-0.27</td>\n",
       "      <td>-0.08</td>\n",
       "      <td>0.43</td>\n",
       "      <td>0.53</td>\n",
       "      <td>1.00</td>\n",
       "      <td>0.44</td>\n",
       "      <td>0.14</td>\n",
       "      <td>0.52</td>\n",
       "      <td>-0.36</td>\n",
       "    </tr>\n",
       "    <tr>\n",
       "      <th>Small Bags</th>\n",
       "      <td>-0.39</td>\n",
       "      <td>0.12</td>\n",
       "      <td>0.62</td>\n",
       "      <td>0.68</td>\n",
       "      <td>0.44</td>\n",
       "      <td>1.00</td>\n",
       "      <td>0.35</td>\n",
       "      <td>0.46</td>\n",
       "      <td>-0.53</td>\n",
       "    </tr>\n",
       "    <tr>\n",
       "      <th>Large Bags</th>\n",
       "      <td>-0.37</td>\n",
       "      <td>0.15</td>\n",
       "      <td>0.46</td>\n",
       "      <td>0.30</td>\n",
       "      <td>0.14</td>\n",
       "      <td>0.35</td>\n",
       "      <td>1.00</td>\n",
       "      <td>0.15</td>\n",
       "      <td>-0.37</td>\n",
       "    </tr>\n",
       "    <tr>\n",
       "      <th>XLarge Bags</th>\n",
       "      <td>-0.18</td>\n",
       "      <td>0.11</td>\n",
       "      <td>0.41</td>\n",
       "      <td>0.30</td>\n",
       "      <td>0.52</td>\n",
       "      <td>0.46</td>\n",
       "      <td>0.15</td>\n",
       "      <td>1.00</td>\n",
       "      <td>-0.29</td>\n",
       "    </tr>\n",
       "    <tr>\n",
       "      <th>organic</th>\n",
       "      <td>0.60</td>\n",
       "      <td>-0.00</td>\n",
       "      <td>-0.44</td>\n",
       "      <td>-0.54</td>\n",
       "      <td>-0.36</td>\n",
       "      <td>-0.53</td>\n",
       "      <td>-0.37</td>\n",
       "      <td>-0.29</td>\n",
       "      <td>1.00</td>\n",
       "    </tr>\n",
       "  </tbody>\n",
       "</table>\n",
       "</div>"
      ],
      "text/plain": [
       "              AveragePrice  Date  4046  4225  4770  Small Bags  Large Bags  \\\n",
       "AveragePrice          1.00  0.14 -0.46 -0.33 -0.27       -0.39       -0.37   \n",
       "Date                  0.14  1.00  0.00 -0.03 -0.08        0.12        0.15   \n",
       "4046                 -0.46  0.00  1.00  0.43  0.43        0.62        0.46   \n",
       "4225                 -0.33 -0.03  0.43  1.00  0.53        0.68        0.30   \n",
       "4770                 -0.27 -0.08  0.43  0.53  1.00        0.44        0.14   \n",
       "Small Bags           -0.39  0.12  0.62  0.68  0.44        1.00        0.35   \n",
       "Large Bags           -0.37  0.15  0.46  0.30  0.14        0.35        1.00   \n",
       "XLarge Bags          -0.18  0.11  0.41  0.30  0.52        0.46        0.15   \n",
       "organic               0.60 -0.00 -0.44 -0.54 -0.36       -0.53       -0.37   \n",
       "\n",
       "              XLarge Bags  organic  \n",
       "AveragePrice        -0.18     0.60  \n",
       "Date                 0.11    -0.00  \n",
       "4046                 0.41    -0.44  \n",
       "4225                 0.30    -0.54  \n",
       "4770                 0.52    -0.36  \n",
       "Small Bags           0.46    -0.53  \n",
       "Large Bags           0.15    -0.37  \n",
       "XLarge Bags          1.00    -0.29  \n",
       "organic             -0.29     1.00  "
      ]
     },
     "execution_count": 97,
     "metadata": {},
     "output_type": "execute_result"
    }
   ],
   "source": [
    "correlation_matrix = round(dfn[['AveragePrice','Date','4046',\n",
    "                               '4225','4770','Small Bags',\n",
    "                               'Large Bags', 'XLarge Bags',\n",
    "                               'organic']].corr(),2)\n",
    "correlation_matrix"
   ]
  },
  {
   "cell_type": "code",
   "execution_count": 98,
   "metadata": {},
   "outputs": [
    {
     "data": {
      "text/html": [
       "<div>\n",
       "<style scoped>\n",
       "    .dataframe tbody tr th:only-of-type {\n",
       "        vertical-align: middle;\n",
       "    }\n",
       "\n",
       "    .dataframe tbody tr th {\n",
       "        vertical-align: top;\n",
       "    }\n",
       "\n",
       "    .dataframe thead th {\n",
       "        text-align: right;\n",
       "    }\n",
       "</style>\n",
       "<table border=\"1\" class=\"dataframe\">\n",
       "  <thead>\n",
       "    <tr style=\"text-align: right;\">\n",
       "      <th></th>\n",
       "      <th>AveragePrice</th>\n",
       "      <th>Date</th>\n",
       "      <th>4046</th>\n",
       "      <th>4225</th>\n",
       "      <th>4770</th>\n",
       "      <th>Small Bags</th>\n",
       "      <th>Large Bags</th>\n",
       "      <th>XLarge Bags</th>\n",
       "      <th>organic</th>\n",
       "    </tr>\n",
       "  </thead>\n",
       "  <tbody>\n",
       "    <tr>\n",
       "      <th>AveragePrice</th>\n",
       "      <td>1.00</td>\n",
       "      <td>0.14</td>\n",
       "      <td>0.46</td>\n",
       "      <td>0.33</td>\n",
       "      <td>0.27</td>\n",
       "      <td>0.39</td>\n",
       "      <td>0.37</td>\n",
       "      <td>0.18</td>\n",
       "      <td>0.60</td>\n",
       "    </tr>\n",
       "    <tr>\n",
       "      <th>Date</th>\n",
       "      <td>0.14</td>\n",
       "      <td>1.00</td>\n",
       "      <td>0.00</td>\n",
       "      <td>0.03</td>\n",
       "      <td>0.08</td>\n",
       "      <td>0.12</td>\n",
       "      <td>0.15</td>\n",
       "      <td>0.11</td>\n",
       "      <td>0.00</td>\n",
       "    </tr>\n",
       "    <tr>\n",
       "      <th>4046</th>\n",
       "      <td>0.46</td>\n",
       "      <td>0.00</td>\n",
       "      <td>1.00</td>\n",
       "      <td>0.43</td>\n",
       "      <td>0.43</td>\n",
       "      <td>0.62</td>\n",
       "      <td>0.46</td>\n",
       "      <td>0.41</td>\n",
       "      <td>0.44</td>\n",
       "    </tr>\n",
       "    <tr>\n",
       "      <th>4225</th>\n",
       "      <td>0.33</td>\n",
       "      <td>0.03</td>\n",
       "      <td>0.43</td>\n",
       "      <td>1.00</td>\n",
       "      <td>0.53</td>\n",
       "      <td>0.68</td>\n",
       "      <td>0.30</td>\n",
       "      <td>0.30</td>\n",
       "      <td>0.54</td>\n",
       "    </tr>\n",
       "    <tr>\n",
       "      <th>4770</th>\n",
       "      <td>0.27</td>\n",
       "      <td>0.08</td>\n",
       "      <td>0.43</td>\n",
       "      <td>0.53</td>\n",
       "      <td>1.00</td>\n",
       "      <td>0.44</td>\n",
       "      <td>0.14</td>\n",
       "      <td>0.52</td>\n",
       "      <td>0.36</td>\n",
       "    </tr>\n",
       "    <tr>\n",
       "      <th>Small Bags</th>\n",
       "      <td>0.39</td>\n",
       "      <td>0.12</td>\n",
       "      <td>0.62</td>\n",
       "      <td>0.68</td>\n",
       "      <td>0.44</td>\n",
       "      <td>1.00</td>\n",
       "      <td>0.35</td>\n",
       "      <td>0.46</td>\n",
       "      <td>0.53</td>\n",
       "    </tr>\n",
       "    <tr>\n",
       "      <th>Large Bags</th>\n",
       "      <td>0.37</td>\n",
       "      <td>0.15</td>\n",
       "      <td>0.46</td>\n",
       "      <td>0.30</td>\n",
       "      <td>0.14</td>\n",
       "      <td>0.35</td>\n",
       "      <td>1.00</td>\n",
       "      <td>0.15</td>\n",
       "      <td>0.37</td>\n",
       "    </tr>\n",
       "    <tr>\n",
       "      <th>XLarge Bags</th>\n",
       "      <td>0.18</td>\n",
       "      <td>0.11</td>\n",
       "      <td>0.41</td>\n",
       "      <td>0.30</td>\n",
       "      <td>0.52</td>\n",
       "      <td>0.46</td>\n",
       "      <td>0.15</td>\n",
       "      <td>1.00</td>\n",
       "      <td>0.29</td>\n",
       "    </tr>\n",
       "    <tr>\n",
       "      <th>organic</th>\n",
       "      <td>0.60</td>\n",
       "      <td>0.00</td>\n",
       "      <td>0.44</td>\n",
       "      <td>0.54</td>\n",
       "      <td>0.36</td>\n",
       "      <td>0.53</td>\n",
       "      <td>0.37</td>\n",
       "      <td>0.29</td>\n",
       "      <td>1.00</td>\n",
       "    </tr>\n",
       "  </tbody>\n",
       "</table>\n",
       "</div>"
      ],
      "text/plain": [
       "              AveragePrice  Date  4046  4225  4770  Small Bags  Large Bags  \\\n",
       "AveragePrice          1.00  0.14  0.46  0.33  0.27        0.39        0.37   \n",
       "Date                  0.14  1.00  0.00  0.03  0.08        0.12        0.15   \n",
       "4046                  0.46  0.00  1.00  0.43  0.43        0.62        0.46   \n",
       "4225                  0.33  0.03  0.43  1.00  0.53        0.68        0.30   \n",
       "4770                  0.27  0.08  0.43  0.53  1.00        0.44        0.14   \n",
       "Small Bags            0.39  0.12  0.62  0.68  0.44        1.00        0.35   \n",
       "Large Bags            0.37  0.15  0.46  0.30  0.14        0.35        1.00   \n",
       "XLarge Bags           0.18  0.11  0.41  0.30  0.52        0.46        0.15   \n",
       "organic               0.60  0.00  0.44  0.54  0.36        0.53        0.37   \n",
       "\n",
       "              XLarge Bags  organic  \n",
       "AveragePrice         0.18     0.60  \n",
       "Date                 0.11     0.00  \n",
       "4046                 0.41     0.44  \n",
       "4225                 0.30     0.54  \n",
       "4770                 0.52     0.36  \n",
       "Small Bags           0.46     0.53  \n",
       "Large Bags           0.15     0.37  \n",
       "XLarge Bags          1.00     0.29  \n",
       "organic              0.29     1.00  "
      ]
     },
     "execution_count": 98,
     "metadata": {},
     "output_type": "execute_result"
    }
   ],
   "source": [
    "correlation_matrix_abs = abs(correlation_matrix)\n",
    "correlation_matrix_abs"
   ]
  },
  {
   "cell_type": "code",
   "execution_count": 99,
   "metadata": {},
   "outputs": [
    {
     "data": {
      "text/plain": [
       "<AxesSubplot:>"
      ]
     },
     "execution_count": 99,
     "metadata": {},
     "output_type": "execute_result"
    },
    {
     "data": {
      "image/png": "[encoded data removed]",
      "text/plain": [
       "<Figure size 432x288 with 2 Axes>"
      ]
     },
     "metadata": {},
     "output_type": "display_data"
    }
   ],
   "source": [
    "# Plot of correlation matrix\n",
    "sns.heatmap(data=correlation_matrix, annot=True, cmap=\"rocket_r\")"
   ]
  },
  {
   "cell_type": "code",
   "execution_count": 100,
   "metadata": {},
   "outputs": [
    {
     "data": {
      "text/plain": [
       "<AxesSubplot:>"
      ]
     },
     "execution_count": 100,
     "metadata": {},
     "output_type": "execute_result"
    },
    {
     "data": {
      "image/png": "[encoded data removed]",
      "text/plain": [
       "<Figure size 432x288 with 2 Axes>"
      ]
     },
     "metadata": {},
     "output_type": "display_data"
    }
   ],
   "source": [
    "# Plot of absolute values of correlation matrix\n",
    "sns.heatmap(data=correlation_matrix_abs, annot=True, cmap=\"rocket_r\")"
   ]
  },
  {
   "cell_type": "markdown",
   "metadata": {},
   "source": [
    "### Set up X's\n",
    "We will test regression models that include various combinations of predictors, starting with the ones that have the highest correlation to the target (i.e., 'organic' and '4046').  'Large Bags' and 'XLarge Bags' could be correlated to 'Small Bags', which is why we add them gradually.  Likewise '4225' and '4770' could be correlated to '4046', so we add them gradually as well.  The correlation matrix, however, does not indicate that these variables are highly correlated.  Finally, we will also try one model that includes all of the predictors, including all of the region variables."
   ]
  },
  {
   "cell_type": "code",
   "execution_count": 101,
   "metadata": {},
   "outputs": [],
   "source": [
    "features = []\n",
    "features.append (['organic'])\n",
    "features.append (['organic', '4046'])\n",
    "features.append (['organic', '4046', 'Small Bags'])\n",
    "features.append (['organic', '4046', 'Small Bags', '4225', 'Large Bags'])\n",
    "features.append (['organic', '4046', 'Small Bags', '4225', 'Large Bags', '4770', 'XLarge Bags'])\n",
    "features.append (['organic', '4046', 'Small Bags', '4225', 'Large Bags', '4770', 'XLarge Bags', 'Date'])\n",
    "features.append (list(X_train.columns))"
   ]
  },
  {
   "cell_type": "markdown",
   "metadata": {},
   "source": [
    "### Model Fitting and Predictions\n",
    "Here I optimize the evaluation of various models by looping over the different combinations of predictors created in the previous section, and calculate different metrics for each model, including Train R^2, Test R^2, Train Adjusted R^2, Test Adjusted R^2, Train RMSE, and Test RMSE."
   ]
  },
  {
   "cell_type": "code",
   "execution_count": 102,
   "metadata": {},
   "outputs": [],
   "source": [
    "from sklearn.linear_model import LinearRegression\n",
    "from sklearn import metrics"
   ]
  },
  {
   "cell_type": "code",
   "execution_count": 103,
   "metadata": {},
   "outputs": [],
   "source": [
    "results = pd.DataFrame(columns=['Independent Variables',\n",
    "        'Intercept', 'Coefficients',\n",
    "        'Train R^2', 'Test R^2', 'Train Adjusted R^2', \n",
    "        'Test Adjusted R^2', 'Train RMSE', 'Test RMSE'])\n",
    "for i in features:\n",
    "        \n",
    "    X_train_i = X_train[i]\n",
    "    X_test_i = X_test[i]\n",
    "\n",
    "    # Implement Regression\n",
    "    LR = LinearRegression()\n",
    "    LR.fit (X_train_i, y_train)\n",
    "\n",
    "    # Make Predictions\n",
    "    LR_Predictions_Train = LR.predict(X_train_i)\n",
    "    LR_Predictions_Test = LR.predict(X_test_i)\n",
    "\n",
    "    # Evaluate\n",
    "    RMSE_train = np.sqrt(metrics.mean_squared_error(y_train, LR_Predictions_Train))\n",
    "    RMSE_test = np.sqrt(metrics.mean_squared_error(y_test, LR_Predictions_Test))\n",
    "        \n",
    "    results = results.append({'Independent Variables':i,\n",
    "    'Intercept':LR.intercept_, 'Coefficients':LR.coef_.round(3),\n",
    "    'Train R^2':LR.score(X_train_i, y_train), \n",
    "    'Test R^2':LR.score(X_test_i, y_test), \n",
    "    'Train Adjusted R^2':1 - (1-LR.score(X_train_i, y_train))*(len(y_train)-1)/(len(y_train)-len(i)-1), \n",
    "    'Test Adjusted R^2':1 - (1-LR.score(X_test_i, y_test))*(len(y_test)-1)/(len(y_test)-len(i)-1), \n",
    "    'Train RMSE':RMSE_train, 'Test RMSE':RMSE_test},\n",
    "                        ignore_index = True)\n",
    "results = round(results,3)\n",
    "results.index.names = ['Model']"
   ]
  },
  {
   "cell_type": "markdown",
   "metadata": {},
   "source": [
    "### Evaluate Models\n",
    "Use Test Adjusted R^2 to choose best model"
   ]
  },
  {
   "cell_type": "code",
   "execution_count": 104,
   "metadata": {},
   "outputs": [
    {
     "data": {
      "text/html": [
       "<div>\n",
       "<style scoped>\n",
       "    .dataframe tbody tr th:only-of-type {\n",
       "        vertical-align: middle;\n",
       "    }\n",
       "\n",
       "    .dataframe tbody tr th {\n",
       "        vertical-align: top;\n",
       "    }\n",
       "\n",
       "    .dataframe thead th {\n",
       "        text-align: right;\n",
       "    }\n",
       "</style>\n",
       "<table border=\"1\" class=\"dataframe\">\n",
       "  <thead>\n",
       "    <tr style=\"text-align: right;\">\n",
       "      <th></th>\n",
       "      <th>Independent Variables</th>\n",
       "      <th>Train RMSE</th>\n",
       "      <th>Test RMSE</th>\n",
       "      <th>Train R^2</th>\n",
       "      <th>Test R^2</th>\n",
       "      <th>Train Adjusted R^2</th>\n",
       "      <th>Test Adjusted R^2</th>\n",
       "    </tr>\n",
       "    <tr>\n",
       "      <th>Model</th>\n",
       "      <th></th>\n",
       "      <th></th>\n",
       "      <th></th>\n",
       "      <th></th>\n",
       "      <th></th>\n",
       "      <th></th>\n",
       "      <th></th>\n",
       "    </tr>\n",
       "  </thead>\n",
       "  <tbody>\n",
       "    <tr>\n",
       "      <th>0</th>\n",
       "      <td>[organic]</td>\n",
       "      <td>0.330</td>\n",
       "      <td>0.330</td>\n",
       "      <td>0.364</td>\n",
       "      <td>0.354</td>\n",
       "      <td>0.364</td>\n",
       "      <td>0.354</td>\n",
       "    </tr>\n",
       "    <tr>\n",
       "      <th>1</th>\n",
       "      <td>[organic, 4046]</td>\n",
       "      <td>0.318</td>\n",
       "      <td>0.318</td>\n",
       "      <td>0.409</td>\n",
       "      <td>0.398</td>\n",
       "      <td>0.409</td>\n",
       "      <td>0.398</td>\n",
       "    </tr>\n",
       "    <tr>\n",
       "      <th>2</th>\n",
       "      <td>[organic, 4046, Small Bags]</td>\n",
       "      <td>0.318</td>\n",
       "      <td>0.318</td>\n",
       "      <td>0.409</td>\n",
       "      <td>0.399</td>\n",
       "      <td>0.409</td>\n",
       "      <td>0.399</td>\n",
       "    </tr>\n",
       "    <tr>\n",
       "      <th>3</th>\n",
       "      <td>[organic, 4046, Small Bags, 4225, Large Bags]</td>\n",
       "      <td>0.315</td>\n",
       "      <td>0.316</td>\n",
       "      <td>0.421</td>\n",
       "      <td>0.406</td>\n",
       "      <td>0.421</td>\n",
       "      <td>0.406</td>\n",
       "    </tr>\n",
       "    <tr>\n",
       "      <th>4</th>\n",
       "      <td>[organic, 4046, Small Bags, 4225, Large Bags, ...</td>\n",
       "      <td>0.314</td>\n",
       "      <td>0.315</td>\n",
       "      <td>0.426</td>\n",
       "      <td>0.413</td>\n",
       "      <td>0.425</td>\n",
       "      <td>0.412</td>\n",
       "    </tr>\n",
       "    <tr>\n",
       "      <th>5</th>\n",
       "      <td>[organic, 4046, Small Bags, 4225, Large Bags, ...</td>\n",
       "      <td>0.306</td>\n",
       "      <td>0.309</td>\n",
       "      <td>0.453</td>\n",
       "      <td>0.434</td>\n",
       "      <td>0.453</td>\n",
       "      <td>0.433</td>\n",
       "    </tr>\n",
       "    <tr>\n",
       "      <th>6</th>\n",
       "      <td>[Date, 4046, 4225, 4770, Small Bags, Large Bag...</td>\n",
       "      <td>0.269</td>\n",
       "      <td>0.269</td>\n",
       "      <td>0.577</td>\n",
       "      <td>0.571</td>\n",
       "      <td>0.574</td>\n",
       "      <td>0.566</td>\n",
       "    </tr>\n",
       "  </tbody>\n",
       "</table>\n",
       "</div>"
      ],
      "text/plain": [
       "                                   Independent Variables  Train RMSE  \\\n",
       "Model                                                                  \n",
       "0                                              [organic]       0.330   \n",
       "1                                        [organic, 4046]       0.318   \n",
       "2                            [organic, 4046, Small Bags]       0.318   \n",
       "3          [organic, 4046, Small Bags, 4225, Large Bags]       0.315   \n",
       "4      [organic, 4046, Small Bags, 4225, Large Bags, ...       0.314   \n",
       "5      [organic, 4046, Small Bags, 4225, Large Bags, ...       0.306   \n",
       "6      [Date, 4046, 4225, 4770, Small Bags, Large Bag...       0.269   \n",
       "\n",
       "       Test RMSE  Train R^2  Test R^2  Train Adjusted R^2  Test Adjusted R^2  \n",
       "Model                                                                         \n",
       "0          0.330      0.364     0.354               0.364              0.354  \n",
       "1          0.318      0.409     0.398               0.409              0.398  \n",
       "2          0.318      0.409     0.399               0.409              0.399  \n",
       "3          0.316      0.421     0.406               0.421              0.406  \n",
       "4          0.315      0.426     0.413               0.425              0.412  \n",
       "5          0.309      0.453     0.434               0.453              0.433  \n",
       "6          0.269      0.577     0.571               0.574              0.566  "
      ]
     },
     "execution_count": 104,
     "metadata": {},
     "output_type": "execute_result"
    }
   ],
   "source": [
    "results[['Independent Variables', 'Train RMSE', 'Test RMSE',\n",
    "        'Train R^2', 'Test R^2', 'Train Adjusted R^2', 'Test Adjusted R^2']]"
   ]
  },
  {
   "cell_type": "code",
   "execution_count": 105,
   "metadata": {},
   "outputs": [
    {
     "data": {
      "image/png": "[encoded data removed]",
      "text/plain": [
       "<Figure size 576x432 with 1 Axes>"
      ]
     },
     "metadata": {},
     "output_type": "display_data"
    }
   ],
   "source": [
    "sns.set_palette(\"Paired\")\n",
    "ax = results[['Independent Variables', 'Train RMSE', 'Test RMSE',\n",
    "        'Train R^2', 'Test R^2', 'Train Adjusted R^2', 'Test Adjusted R^2']].plot.barh(ylabel='Score', \n",
    "         xlim=(0,0.8), figsize=(8,6)).legend(loc='right')"
   ]
  },
  {
   "cell_type": "markdown",
   "metadata": {},
   "source": [
    "Based on all metrics calculated, including Test Adjusted R^2, the best performing model is Model 6 (i.e., the model that used all variables, including all of the different regions as dummy variables.)  This leads us to believe that region is an important variable into the model.\n",
    "\n",
    "We also notice that the performance of this model is not great.  The Test Adjusted R^2 is 0.567, which is not very high.  We noticed that there are large differences in the data between regions.  Hence, a better approach to predict price would probably be to create separate models for different regions.  However, this is beyond the scope of this project."
   ]
  },
  {
   "cell_type": "code",
   "execution_count": 106,
   "metadata": {},
   "outputs": [
    {
     "data": {
      "text/html": [
       "<div>\n",
       "<style scoped>\n",
       "    .dataframe tbody tr th:only-of-type {\n",
       "        vertical-align: middle;\n",
       "    }\n",
       "\n",
       "    .dataframe tbody tr th {\n",
       "        vertical-align: top;\n",
       "    }\n",
       "\n",
       "    .dataframe thead th {\n",
       "        text-align: right;\n",
       "    }\n",
       "</style>\n",
       "<table border=\"1\" class=\"dataframe\">\n",
       "  <thead>\n",
       "    <tr style=\"text-align: right;\">\n",
       "      <th></th>\n",
       "      <th>Intercept</th>\n",
       "      <th>Coefficients</th>\n",
       "    </tr>\n",
       "    <tr>\n",
       "      <th>Model</th>\n",
       "      <th></th>\n",
       "      <th></th>\n",
       "    </tr>\n",
       "  </thead>\n",
       "  <tbody>\n",
       "    <tr>\n",
       "      <th>0</th>\n",
       "      <td>1.166</td>\n",
       "      <td>[0.5]</td>\n",
       "    </tr>\n",
       "    <tr>\n",
       "      <th>1</th>\n",
       "      <td>1.209</td>\n",
       "      <td>[0.414, -0.097]</td>\n",
       "    </tr>\n",
       "    <tr>\n",
       "      <th>2</th>\n",
       "      <td>1.206</td>\n",
       "      <td>[0.419, -0.101, 0.008]</td>\n",
       "    </tr>\n",
       "    <tr>\n",
       "      <th>3</th>\n",
       "      <td>1.207</td>\n",
       "      <td>[0.417, -0.085, -0.01, 0.033, -0.045]</td>\n",
       "    </tr>\n",
       "    <tr>\n",
       "      <th>4</th>\n",
       "      <td>1.207</td>\n",
       "      <td>[0.418, -0.086, -0.02, 0.044, -0.046, -0.024, ...</td>\n",
       "    </tr>\n",
       "    <tr>\n",
       "      <th>5</th>\n",
       "      <td>1.211</td>\n",
       "      <td>[0.409, -0.073, -0.041, 0.055, -0.06, -0.014, ...</td>\n",
       "    </tr>\n",
       "    <tr>\n",
       "      <th>6</th>\n",
       "      <td>1.321</td>\n",
       "      <td>[0.066, -0.039, -0.045, 0.001, -0.038, -0.032,...</td>\n",
       "    </tr>\n",
       "  </tbody>\n",
       "</table>\n",
       "</div>"
      ],
      "text/plain": [
       "       Intercept                                       Coefficients\n",
       "Model                                                              \n",
       "0          1.166                                              [0.5]\n",
       "1          1.209                                    [0.414, -0.097]\n",
       "2          1.206                             [0.419, -0.101, 0.008]\n",
       "3          1.207              [0.417, -0.085, -0.01, 0.033, -0.045]\n",
       "4          1.207  [0.418, -0.086, -0.02, 0.044, -0.046, -0.024, ...\n",
       "5          1.211  [0.409, -0.073, -0.041, 0.055, -0.06, -0.014, ...\n",
       "6          1.321  [0.066, -0.039, -0.045, 0.001, -0.038, -0.032,..."
      ]
     },
     "execution_count": 106,
     "metadata": {},
     "output_type": "execute_result"
    }
   ],
   "source": [
    "results[['Intercept','Coefficients']]"
   ]
  },
  {
   "cell_type": "code",
   "execution_count": 107,
   "metadata": {},
   "outputs": [
    {
     "data": {
      "text/plain": [
       "[array([ 0.409, -0.073, -0.041,  0.055, -0.06 , -0.014,  0.024,  0.072])]"
      ]
     },
     "execution_count": 107,
     "metadata": {},
     "output_type": "execute_result"
    }
   ],
   "source": [
    "# Coefficients for Model 5. 'organic' is the most important variable.\n",
    "list(results.loc[5,['Coefficients']])"
   ]
  },
  {
   "cell_type": "code",
   "execution_count": 108,
   "metadata": {},
   "outputs": [
    {
     "data": {
      "text/plain": [
       "Index(['Date', '4046', '4225', '4770', 'Small Bags', 'Large Bags',\n",
       "       'XLarge Bags', 'organic', 'region_Atlanta',\n",
       "       'region_BaltimoreWashington', 'region_Boise', 'region_Boston',\n",
       "       'region_BuffaloRochester', 'region_Charlotte', 'region_Chicago',\n",
       "       'region_CincinnatiDayton', 'region_Columbus', 'region_DallasFtWorth',\n",
       "       'region_Denver', 'region_Detroit', 'region_GrandRapids',\n",
       "       'region_HarrisburgScranton', 'region_HartfordSpringfield',\n",
       "       'region_Houston', 'region_Indianapolis', 'region_Jacksonville',\n",
       "       'region_LasVegas', 'region_LosAngeles', 'region_Louisville',\n",
       "       'region_MiamiFtLauderdale', 'region_Nashville',\n",
       "       'region_NewOrleansMobile', 'region_NewYork',\n",
       "       'region_NorthernNewEngland', 'region_Orlando', 'region_Philadelphia',\n",
       "       'region_PhoenixTucson', 'region_Pittsburgh', 'region_Portland',\n",
       "       'region_RaleighGreensboro', 'region_RichmondNorfolk', 'region_Roanoke',\n",
       "       'region_Sacramento', 'region_SanDiego', 'region_SanFrancisco',\n",
       "       'region_Seattle', 'region_SouthCarolina', 'region_Spokane',\n",
       "       'region_StLouis', 'region_Syracuse', 'region_Tampa',\n",
       "       'region_WestTexNewMexico'],\n",
       "      dtype='object')"
      ]
     },
     "execution_count": 108,
     "metadata": {},
     "output_type": "execute_result"
    }
   ],
   "source": [
    "X_train.columns"
   ]
  },
  {
   "cell_type": "code",
   "execution_count": 109,
   "metadata": {},
   "outputs": [
    {
     "data": {
      "text/plain": [
       "[array([ 0.066, -0.039, -0.045,  0.001, -0.038, -0.032,  0.03 ,  0.371,\n",
       "        -0.159,  0.081, -0.185,  0.047, -0.025,  0.051,  0.089, -0.315,\n",
       "        -0.304, -0.317, -0.189, -0.291, -0.073, -0.029,  0.279, -0.347,\n",
       "        -0.248, -0.052, -0.146, -0.11 , -0.261, -0.055, -0.336, -0.247,\n",
       "         0.358, -0.039, -0.025,  0.132, -0.162, -0.198, -0.127,  0.026,\n",
       "        -0.246, -0.312,  0.111, -0.094,  0.334, -0.023, -0.109, -0.097,\n",
       "        -0.115, -0.058, -0.108, -0.17 ])]"
      ]
     },
     "execution_count": 109,
     "metadata": {},
     "output_type": "execute_result"
    }
   ],
   "source": [
    "# Coefficients for Model 6. 'organic' is now similarly important as many of the region variables\n",
    "list(results.loc[6,['Coefficients']])"
   ]
  },
  {
   "cell_type": "markdown",
   "metadata": {},
   "source": [
    "Regarding important features to predict avocado price, we notice that for all of the models that did not include regions (Models 1-5), the driving variable was always the variable for avocado type: 'organic'.  We make this conclusion by looking at the coefficients from each of these models, where the coefficient for 'organic' was always above 0.4, while the coefficients for the other variables was at or below 0.1.\n",
    "\n",
    "For our best model, Model 6 (the one that included all of the region variables), we notice that 'organic' is still the most important, with a coefficient equal to 0.367.  However, we notice that many of the region variables are also similarly important, with coefficients such as 0.362, 0.353, 0.343, 0.342, 0.33, 0.315, etc.  This is probably due to the very significant differences that we observed in the data between regions.\n",
    "\n",
    "Hence, we conclude that even though this model is good, it is not great, and probably a better approach to predict avocado prices would be to create different models for different regions.  This is beyond the scope of this project, but it is a recommendation that we would make for future steps."
   ]
  },
  {
   "cell_type": "markdown",
   "metadata": {},
   "source": [
    "# Classification Model Application\n",
    "## Question 2"
   ]
  },
  {
   "cell_type": "markdown",
   "metadata": {},
   "source": [
    "Logistic Regression"
   ]
  },
  {
   "cell_type": "code",
   "execution_count": 110,
   "metadata": {},
   "outputs": [
    {
     "name": "stdout",
     "output_type": "stream",
     "text": [
      "LR Test Set:\n",
      "[[2162   29]\n",
      " [   9 2213]]\n",
      "              precision    recall  f1-score   support\n",
      "\n",
      "           0       1.00      0.99      0.99      2191\n",
      "           1       0.99      1.00      0.99      2222\n",
      "\n",
      "    accuracy                           0.99      4413\n",
      "   macro avg       0.99      0.99      0.99      4413\n",
      "weighted avg       0.99      0.99      0.99      4413\n",
      "\n",
      "0.9913890777249037\n",
      "LR Training Set:\n",
      "[[5113   55]\n",
      " [  17 5109]]\n",
      "              precision    recall  f1-score   support\n",
      "\n",
      "           0       1.00      0.99      0.99      5168\n",
      "           1       0.99      1.00      0.99      5126\n",
      "\n",
      "    accuracy                           0.99     10294\n",
      "   macro avg       0.99      0.99      0.99     10294\n",
      "weighted avg       0.99      0.99      0.99     10294\n",
      "\n",
      "0.9930056343501069\n"
     ]
    },
    {
     "name": "stderr",
     "output_type": "stream",
     "text": [
      "C:\\Users\\Clash\\Anaconda3\\lib\\site-packages\\sklearn\\linear_model\\logistic.py:432: FutureWarning: Default solver will be changed to 'lbfgs' in 0.22. Specify a solver to silence this warning.\n",
      "  FutureWarning)\n"
     ]
    }
   ],
   "source": [
    "from sklearn.linear_model import LogisticRegression\n",
    "LR = LogisticRegression(max_iter=10000)\n",
    "\n",
    "LR.fit(Xo_train,yo_train)\n",
    "\n",
    "LR_Predictions_Train = LR.predict(Xo_train)\n",
    "LR_Predictions_Test = LR.predict(Xo_test)\n",
    "\n",
    "print(\"LR Test Set:\")\n",
    "print(confusion_matrix(yo_test, LR_Predictions_Test))\n",
    "print(classification_report(yo_test, LR_Predictions_Test))\n",
    "print(accuracy_score(yo_test, LR_Predictions_Test))\n",
    "\n",
    "print(\"LR Training Set:\")\n",
    "print(confusion_matrix(yo_train, LR_Predictions_Train))\n",
    "print(classification_report(yo_train, LR_Predictions_Train))\n",
    "print(accuracy_score(yo_train, LR_Predictions_Train))"
   ]
  },
  {
   "cell_type": "markdown",
   "metadata": {},
   "source": [
    "SVM"
   ]
  },
  {
   "cell_type": "code",
   "execution_count": 111,
   "metadata": {},
   "outputs": [
    {
     "name": "stderr",
     "output_type": "stream",
     "text": [
      "C:\\Users\\Clash\\Anaconda3\\lib\\site-packages\\sklearn\\svm\\base.py:193: FutureWarning: The default value of gamma will change from 'auto' to 'scale' in version 0.22 to account better for unscaled features. Set gamma explicitly to 'auto' or 'scale' to avoid this warning.\n",
      "  \"avoid this warning.\", FutureWarning)\n"
     ]
    },
    {
     "name": "stdout",
     "output_type": "stream",
     "text": [
      "SVM Test Set:\n",
      "[[2164   27]\n",
      " [  15 2207]]\n",
      "              precision    recall  f1-score   support\n",
      "\n",
      "           0       0.99      0.99      0.99      2191\n",
      "           1       0.99      0.99      0.99      2222\n",
      "\n",
      "    accuracy                           0.99      4413\n",
      "   macro avg       0.99      0.99      0.99      4413\n",
      "weighted avg       0.99      0.99      0.99      4413\n",
      "\n",
      "0.990482664853841\n",
      "SVM Training Set:\n",
      "[[5118   50]\n",
      " [  27 5099]]\n",
      "              precision    recall  f1-score   support\n",
      "\n",
      "           0       0.99      0.99      0.99      5168\n",
      "           1       0.99      0.99      0.99      5126\n",
      "\n",
      "    accuracy                           0.99     10294\n",
      "   macro avg       0.99      0.99      0.99     10294\n",
      "weighted avg       0.99      0.99      0.99     10294\n",
      "\n",
      "0.9925199145133087\n"
     ]
    }
   ],
   "source": [
    "from sklearn.svm import SVC\n",
    "SVM = SVC()\n",
    "\n",
    "SVM.fit(Xo_train,yo_train)\n",
    "\n",
    "SVM_Predictions_Train= SVM.predict(Xo_train)\n",
    "SVM_Predictions_Test= SVM.predict(Xo_test)\n",
    "\n",
    "print(\"SVM Test Set:\")\n",
    "print(confusion_matrix(yo_test, SVM_Predictions_Test))\n",
    "print(classification_report(yo_test, SVM_Predictions_Test))\n",
    "print(accuracy_score(yo_test, SVM_Predictions_Test))\n",
    "\n",
    "print(\"SVM Training Set:\")\n",
    "print(confusion_matrix(yo_train, SVM_Predictions_Train))\n",
    "print(classification_report(yo_train, SVM_Predictions_Train))\n",
    "print(accuracy_score(yo_train, SVM_Predictions_Train))"
   ]
  },
  {
   "cell_type": "markdown",
   "metadata": {},
   "source": [
    "KNN"
   ]
  },
  {
   "cell_type": "code",
   "execution_count": 112,
   "metadata": {},
   "outputs": [
    {
     "name": "stdout",
     "output_type": "stream",
     "text": [
      "KNN Test Set:\n",
      "[[2179   12]\n",
      " [   7 2215]]\n",
      "              precision    recall  f1-score   support\n",
      "\n",
      "           0       1.00      0.99      1.00      2191\n",
      "           1       0.99      1.00      1.00      2222\n",
      "\n",
      "    accuracy                           1.00      4413\n",
      "   macro avg       1.00      1.00      1.00      4413\n",
      "weighted avg       1.00      1.00      1.00      4413\n",
      "\n",
      "0.9956945388624519\n",
      "KNN Training Set:\n",
      "[[5168    0]\n",
      " [   0 5126]]\n",
      "              precision    recall  f1-score   support\n",
      "\n",
      "           0       1.00      1.00      1.00      5168\n",
      "           1       1.00      1.00      1.00      5126\n",
      "\n",
      "    accuracy                           1.00     10294\n",
      "   macro avg       1.00      1.00      1.00     10294\n",
      "weighted avg       1.00      1.00      1.00     10294\n",
      "\n",
      "1.0\n"
     ]
    }
   ],
   "source": [
    "from sklearn.neighbors import KNeighborsClassifier\n",
    "from sklearn.metrics import accuracy_score\n",
    "KNN = KNeighborsClassifier(n_neighbors=1)\n",
    "\n",
    "KNN.fit(Xo_train,yo_train)\n",
    "\n",
    "KNN_Predictions_Train= KNN.predict(Xo_train)\n",
    "KNN_Predictions_Test= KNN.predict(Xo_test)\n",
    "\n",
    "print(\"KNN Test Set:\")\n",
    "print(confusion_matrix(yo_test, KNN_Predictions_Test))\n",
    "print(classification_report(yo_test, KNN_Predictions_Test))\n",
    "print(accuracy_score(yo_test, KNN_Predictions_Test))\n",
    "\n",
    "print(\"KNN Training Set:\")\n",
    "print(confusion_matrix(yo_train, KNN_Predictions_Train))\n",
    "print(classification_report(yo_train, KNN_Predictions_Train))\n",
    "print(accuracy_score(yo_train, KNN_Predictions_Train))"
   ]
  },
  {
   "cell_type": "code",
   "execution_count": 113,
   "metadata": {},
   "outputs": [],
   "source": [
    "# Determining best K\n",
    "\n",
    "accuracy=[]\n",
    "\n",
    "for i in range(1,21):\n",
    "    KNN = KNeighborsClassifier(n_neighbors=i)\n",
    "    KNN.fit(Xo_train,yo_train)\n",
    "    KNN_Predictions_Test = KNN.predict(Xo_test)\n",
    "    Accuracy_Test = accuracy_score(yo_test, KNN_Predictions_Test)\n",
    "    accuracy.append(Accuracy_Test)    \n",
    "    \n",
    "    "
   ]
  },
  {
   "cell_type": "code",
   "execution_count": 114,
   "metadata": {},
   "outputs": [
    {
     "data": {
      "text/plain": [
       "Text(0, 0.5, 'Accuracy')"
      ]
     },
     "execution_count": 114,
     "metadata": {},
     "output_type": "execute_result"
    },
    {
     "data": {
      "image/png": "[encoded data removed]",
      "text/plain": [
       "<Figure size 432x288 with 1 Axes>"
      ]
     },
     "metadata": {},
     "output_type": "display_data"
    }
   ],
   "source": [
    "import matplotlib.pyplot as plt\n",
    "plt.plot(range(1,21),accuracy)\n",
    "plt.xlabel('k Value')\n",
    "plt.ylabel('Accuracy')"
   ]
  },
  {
   "cell_type": "code",
   "execution_count": 115,
   "metadata": {},
   "outputs": [
    {
     "name": "stdout",
     "output_type": "stream",
     "text": [
      "KNN Test Set:\n",
      "[[2174   17]\n",
      " [   8 2214]]\n",
      "              precision    recall  f1-score   support\n",
      "\n",
      "           0       1.00      0.99      0.99      2191\n",
      "           1       0.99      1.00      0.99      2222\n",
      "\n",
      "    accuracy                           0.99      4413\n",
      "   macro avg       0.99      0.99      0.99      4413\n",
      "weighted avg       0.99      0.99      0.99      4413\n",
      "\n",
      "0.9943349195558577\n",
      "KNN Training Set:\n",
      "[[5150   18]\n",
      " [  13 5113]]\n",
      "              precision    recall  f1-score   support\n",
      "\n",
      "           0       1.00      1.00      1.00      5168\n",
      "           1       1.00      1.00      1.00      5126\n",
      "\n",
      "    accuracy                           1.00     10294\n",
      "   macro avg       1.00      1.00      1.00     10294\n",
      "weighted avg       1.00      1.00      1.00     10294\n",
      "\n",
      "0.9969885370118515\n"
     ]
    }
   ],
   "source": [
    "from sklearn.neighbors import KNeighborsClassifier\n",
    "from sklearn.metrics import accuracy_score\n",
    "KNN = KNeighborsClassifier(n_neighbors=3)\n",
    "\n",
    "KNN.fit(Xo_train,yo_train)\n",
    "\n",
    "KNN_Predictions_Train= KNN.predict(Xo_train)\n",
    "KNN_Predictions_Test= KNN.predict(Xo_test)\n",
    "\n",
    "print(\"KNN Test Set:\")\n",
    "print(confusion_matrix(yo_test, KNN_Predictions_Test))\n",
    "print(classification_report(yo_test, KNN_Predictions_Test))\n",
    "print(accuracy_score(yo_test, KNN_Predictions_Test))\n",
    "\n",
    "print(\"KNN Training Set:\")\n",
    "print(confusion_matrix(yo_train, KNN_Predictions_Train))\n",
    "print(classification_report(yo_train, KNN_Predictions_Train))\n",
    "print(accuracy_score(yo_train, KNN_Predictions_Train))"
   ]
  },
  {
   "cell_type": "markdown",
   "metadata": {},
   "source": [
    "Decision Tree"
   ]
  },
  {
   "cell_type": "code",
   "execution_count": 116,
   "metadata": {},
   "outputs": [
    {
     "name": "stdout",
     "output_type": "stream",
     "text": [
      "DT Test Set:\n",
      "[[2177   14]\n",
      " [  22 2200]]\n",
      "              precision    recall  f1-score   support\n",
      "\n",
      "           0       0.99      0.99      0.99      2191\n",
      "           1       0.99      0.99      0.99      2222\n",
      "\n",
      "    accuracy                           0.99      4413\n",
      "   macro avg       0.99      0.99      0.99      4413\n",
      "weighted avg       0.99      0.99      0.99      4413\n",
      "\n",
      "0.9918422841604351\n",
      "DT Training Set:\n",
      "[[5168    0]\n",
      " [   0 5126]]\n",
      "              precision    recall  f1-score   support\n",
      "\n",
      "           0       1.00      1.00      1.00      5168\n",
      "           1       1.00      1.00      1.00      5126\n",
      "\n",
      "    accuracy                           1.00     10294\n",
      "   macro avg       1.00      1.00      1.00     10294\n",
      "weighted avg       1.00      1.00      1.00     10294\n",
      "\n",
      "1.0\n"
     ]
    }
   ],
   "source": [
    "from sklearn.tree import DecisionTreeClassifier\n",
    "DT = DecisionTreeClassifier()\n",
    "DT.fit(Xo_train,yo_train)\n",
    "\n",
    "DT_Predictions_Train= DT.predict(Xo_train)\n",
    "DT_Predictions_Test = DT.predict(Xo_test)\n",
    "\n",
    "print(\"DT Test Set:\")\n",
    "print(confusion_matrix(yo_test, DT_Predictions_Test))\n",
    "print(classification_report(yo_test, DT_Predictions_Test))\n",
    "print(accuracy_score(yo_test, DT_Predictions_Test))\n",
    "\n",
    "print(\"DT Training Set:\")\n",
    "print(confusion_matrix(yo_train, DT_Predictions_Train))\n",
    "print(classification_report(yo_train, DT_Predictions_Train))\n",
    "print(accuracy_score(yo_train, DT_Predictions_Train))"
   ]
  },
  {
   "cell_type": "markdown",
   "metadata": {},
   "source": [
    "Random Forests"
   ]
  },
  {
   "cell_type": "code",
   "execution_count": 117,
   "metadata": {},
   "outputs": [
    {
     "name": "stdout",
     "output_type": "stream",
     "text": [
      "RF Test Set:\n",
      "[[2180   11]\n",
      " [   6 2216]]\n",
      "              precision    recall  f1-score   support\n",
      "\n",
      "           0       1.00      0.99      1.00      2191\n",
      "           1       1.00      1.00      1.00      2222\n",
      "\n",
      "    accuracy                           1.00      4413\n",
      "   macro avg       1.00      1.00      1.00      4413\n",
      "weighted avg       1.00      1.00      1.00      4413\n",
      "\n",
      "0.9961477452979832\n",
      "RF Training Set:\n",
      "[[5168    0]\n",
      " [   0 5126]]\n",
      "              precision    recall  f1-score   support\n",
      "\n",
      "           0       1.00      1.00      1.00      5168\n",
      "           1       1.00      1.00      1.00      5126\n",
      "\n",
      "    accuracy                           1.00     10294\n",
      "   macro avg       1.00      1.00      1.00     10294\n",
      "weighted avg       1.00      1.00      1.00     10294\n",
      "\n",
      "1.0\n"
     ]
    }
   ],
   "source": [
    "from sklearn.ensemble import RandomForestClassifier\n",
    "RFC = RandomForestClassifier(n_estimators=100)\n",
    "RFC.fit(Xo_train,yo_train)\n",
    "\n",
    "RFC_Predictions_Train= RFC.predict(Xo_train)\n",
    "RFC_Predictions_Test = RFC.predict(Xo_test)\n",
    "\n",
    "print(\"RF Test Set:\")\n",
    "print(confusion_matrix(yo_test, RFC_Predictions_Test))\n",
    "print(classification_report(yo_test, RFC_Predictions_Test))\n",
    "print(accuracy_score(yo_test, RFC_Predictions_Test))\n",
    "\n",
    "print(\"RF Training Set:\")\n",
    "print(confusion_matrix(yo_train, RFC_Predictions_Train))\n",
    "print(classification_report(yo_train, RFC_Predictions_Train))\n",
    "print(accuracy_score(yo_train, RFC_Predictions_Train))"
   ]
  },
  {
   "cell_type": "code",
   "execution_count": 118,
   "metadata": {},
   "outputs": [],
   "source": [
    "# Determining best n\n",
    "\n",
    "accuracy1=[]\n",
    "\n",
    "for i in range(100,200):\n",
    "    RFC = RFC = RandomForestClassifier(n_estimators=100)\n",
    "    RFC.fit(Xo_train,yo_train)\n",
    "    RFC_Predictions_Test = RFC.predict(Xo_test)\n",
    "    Accuracy_Test = accuracy_score(yo_test, RFC_Predictions_Test)\n",
    "    accuracy1.append(Accuracy_Test)    \n",
    "    \n",
    "    "
   ]
  },
  {
   "cell_type": "code",
   "execution_count": 119,
   "metadata": {},
   "outputs": [
    {
     "data": {
      "text/plain": [
       "Text(0, 0.5, 'Accuracy')"
      ]
     },
     "execution_count": 119,
     "metadata": {},
     "output_type": "execute_result"
    },
    {
     "data": {
      "image/png": "[encoded data removed]",
      "text/plain": [
       "<Figure size 432x288 with 1 Axes>"
      ]
     },
     "metadata": {},
     "output_type": "display_data"
    }
   ],
   "source": [
    "plt.plot(range(100,200),accuracy1)\n",
    "plt.xlabel('n Value')\n",
    "plt.ylabel('Accuracy')"
   ]
  },
  {
   "cell_type": "code",
   "execution_count": 120,
   "metadata": {
    "scrolled": true
   },
   "outputs": [
    {
     "name": "stdout",
     "output_type": "stream",
     "text": [
      "RF Test Set:\n",
      "[[2180   11]\n",
      " [   7 2215]]\n",
      "              precision    recall  f1-score   support\n",
      "\n",
      "           0       1.00      0.99      1.00      2191\n",
      "           1       1.00      1.00      1.00      2222\n",
      "\n",
      "    accuracy                           1.00      4413\n",
      "   macro avg       1.00      1.00      1.00      4413\n",
      "weighted avg       1.00      1.00      1.00      4413\n",
      "\n",
      "0.9959211420802175\n",
      "RF Training Set:\n",
      "[[5168    0]\n",
      " [   0 5126]]\n",
      "              precision    recall  f1-score   support\n",
      "\n",
      "           0       1.00      1.00      1.00      5168\n",
      "           1       1.00      1.00      1.00      5126\n",
      "\n",
      "    accuracy                           1.00     10294\n",
      "   macro avg       1.00      1.00      1.00     10294\n",
      "weighted avg       1.00      1.00      1.00     10294\n",
      "\n",
      "1.0\n"
     ]
    }
   ],
   "source": [
    "from sklearn.ensemble import RandomForestClassifier\n",
    "RFC = RandomForestClassifier(n_estimators=108)\n",
    "RFC.fit(Xo_train,yo_train)\n",
    "\n",
    "RFC_Predictions_Train= RFC.predict(Xo_train)\n",
    "RFC_Predictions_Test = RFC.predict(Xo_test)\n",
    "\n",
    "print(\"RF Test Set:\")\n",
    "print(confusion_matrix(yo_test, RFC_Predictions_Test))\n",
    "print(classification_report(yo_test, RFC_Predictions_Test))\n",
    "print(accuracy_score(yo_test, RFC_Predictions_Test))\n",
    "\n",
    "print(\"RF Training Set:\")\n",
    "print(confusion_matrix(yo_train, RFC_Predictions_Train))\n",
    "print(classification_report(yo_train, RFC_Predictions_Train))\n",
    "print(accuracy_score(yo_train, RFC_Predictions_Train))"
   ]
  },
  {
   "cell_type": "markdown",
   "metadata": {},
   "source": [
    "## Use The Random Forests Model to Predict the Values for the Black Market Avocado Trader."
   ]
  },
  {
   "cell_type": "markdown",
   "metadata": {},
   "source": [
    "### Clean the Data using the previous methods"
   ]
  },
  {
   "cell_type": "code",
   "execution_count": 121,
   "metadata": {},
   "outputs": [],
   "source": [
    "transform_these_columns = ['region']\n",
    "dummy_columns = pd.get_dummies(black_market_avocados[transform_these_columns], drop_first=True)"
   ]
  },
  {
   "cell_type": "code",
   "execution_count": 122,
   "metadata": {},
   "outputs": [
    {
     "data": {
      "text/plain": [
       "Index(['region_Atlanta', 'region_BaltimoreWashington', 'region_Boise',\n",
       "       'region_Boston', 'region_BuffaloRochester', 'region_Charlotte',\n",
       "       'region_Chicago', 'region_CincinnatiDayton', 'region_Columbus',\n",
       "       'region_DallasFtWorth', 'region_Denver', 'region_Detroit',\n",
       "       'region_GrandRapids', 'region_HarrisburgScranton',\n",
       "       'region_HartfordSpringfield', 'region_Houston', 'region_Indianapolis',\n",
       "       'region_Jacksonville', 'region_LasVegas', 'region_LosAngeles',\n",
       "       'region_Louisville', 'region_MiamiFtLauderdale', 'region_Nashville',\n",
       "       'region_NewOrleansMobile', 'region_NewYork',\n",
       "       'region_NorthernNewEngland', 'region_Orlando', 'region_Philadelphia',\n",
       "       'region_PhoenixTucson', 'region_Pittsburgh', 'region_Portland',\n",
       "       'region_RaleighGreensboro', 'region_RichmondNorfolk', 'region_Roanoke',\n",
       "       'region_Sacramento', 'region_SanDiego', 'region_SanFrancisco',\n",
       "       'region_Seattle', 'region_SouthCarolina', 'region_Spokane',\n",
       "       'region_StLouis', 'region_Syracuse', 'region_Tampa',\n",
       "       'region_WestTexNewMexico'],\n",
       "      dtype='object')"
      ]
     },
     "execution_count": 122,
     "metadata": {},
     "output_type": "execute_result"
    }
   ],
   "source": [
    "#Display labels of all dummy columns\n",
    "dummy_columns.columns"
   ]
  },
  {
   "cell_type": "code",
   "execution_count": 123,
   "metadata": {},
   "outputs": [
    {
     "data": {
      "text/html": [
       "<div>\n",
       "<style scoped>\n",
       "    .dataframe tbody tr th:only-of-type {\n",
       "        vertical-align: middle;\n",
       "    }\n",
       "\n",
       "    .dataframe tbody tr th {\n",
       "        vertical-align: top;\n",
       "    }\n",
       "\n",
       "    .dataframe thead th {\n",
       "        text-align: right;\n",
       "    }\n",
       "</style>\n",
       "<table border=\"1\" class=\"dataframe\">\n",
       "  <thead>\n",
       "    <tr style=\"text-align: right;\">\n",
       "      <th></th>\n",
       "      <th>Date</th>\n",
       "      <th>Month</th>\n",
       "      <th>AveragePrice</th>\n",
       "      <th>4046</th>\n",
       "      <th>4225</th>\n",
       "      <th>4770</th>\n",
       "      <th>Small Bags</th>\n",
       "      <th>Large Bags</th>\n",
       "      <th>XLarge Bags</th>\n",
       "      <th>year</th>\n",
       "      <th>...</th>\n",
       "      <th>region_Sacramento</th>\n",
       "      <th>region_SanDiego</th>\n",
       "      <th>region_SanFrancisco</th>\n",
       "      <th>region_Seattle</th>\n",
       "      <th>region_SouthCarolina</th>\n",
       "      <th>region_Spokane</th>\n",
       "      <th>region_StLouis</th>\n",
       "      <th>region_Syracuse</th>\n",
       "      <th>region_Tampa</th>\n",
       "      <th>region_WestTexNewMexico</th>\n",
       "    </tr>\n",
       "  </thead>\n",
       "  <tbody>\n",
       "    <tr>\n",
       "      <th>12083</th>\n",
       "      <td>2016-02-07</td>\n",
       "      <td>2</td>\n",
       "      <td>1.66</td>\n",
       "      <td>643.01</td>\n",
       "      <td>7814.15</td>\n",
       "      <td>346.10</td>\n",
       "      <td>2034.08</td>\n",
       "      <td>6364.10</td>\n",
       "      <td>0.00</td>\n",
       "      <td>2016</td>\n",
       "      <td>...</td>\n",
       "      <td>0</td>\n",
       "      <td>0</td>\n",
       "      <td>0</td>\n",
       "      <td>0</td>\n",
       "      <td>0</td>\n",
       "      <td>0</td>\n",
       "      <td>0</td>\n",
       "      <td>0</td>\n",
       "      <td>0</td>\n",
       "      <td>0</td>\n",
       "    </tr>\n",
       "    <tr>\n",
       "      <th>10581</th>\n",
       "      <td>2015-01-04</td>\n",
       "      <td>1</td>\n",
       "      <td>1.41</td>\n",
       "      <td>220.61</td>\n",
       "      <td>23.64</td>\n",
       "      <td>0.00</td>\n",
       "      <td>2360.00</td>\n",
       "      <td>0.00</td>\n",
       "      <td>0.00</td>\n",
       "      <td>2015</td>\n",
       "      <td>...</td>\n",
       "      <td>0</td>\n",
       "      <td>0</td>\n",
       "      <td>0</td>\n",
       "      <td>0</td>\n",
       "      <td>0</td>\n",
       "      <td>0</td>\n",
       "      <td>0</td>\n",
       "      <td>0</td>\n",
       "      <td>0</td>\n",
       "      <td>0</td>\n",
       "    </tr>\n",
       "    <tr>\n",
       "      <th>2531</th>\n",
       "      <td>2015-04-26</td>\n",
       "      <td>4</td>\n",
       "      <td>1.37</td>\n",
       "      <td>86967.98</td>\n",
       "      <td>42320.51</td>\n",
       "      <td>15.07</td>\n",
       "      <td>48894.75</td>\n",
       "      <td>0.00</td>\n",
       "      <td>2.11</td>\n",
       "      <td>2015</td>\n",
       "      <td>...</td>\n",
       "      <td>0</td>\n",
       "      <td>0</td>\n",
       "      <td>0</td>\n",
       "      <td>0</td>\n",
       "      <td>0</td>\n",
       "      <td>0</td>\n",
       "      <td>1</td>\n",
       "      <td>0</td>\n",
       "      <td>0</td>\n",
       "      <td>0</td>\n",
       "    </tr>\n",
       "    <tr>\n",
       "      <th>3858</th>\n",
       "      <td>2016-10-16</td>\n",
       "      <td>10</td>\n",
       "      <td>1.12</td>\n",
       "      <td>48624.65</td>\n",
       "      <td>36096.39</td>\n",
       "      <td>228.23</td>\n",
       "      <td>11681.16</td>\n",
       "      <td>60621.20</td>\n",
       "      <td>77.78</td>\n",
       "      <td>2016</td>\n",
       "      <td>...</td>\n",
       "      <td>0</td>\n",
       "      <td>0</td>\n",
       "      <td>0</td>\n",
       "      <td>0</td>\n",
       "      <td>0</td>\n",
       "      <td>0</td>\n",
       "      <td>0</td>\n",
       "      <td>0</td>\n",
       "      <td>0</td>\n",
       "      <td>0</td>\n",
       "    </tr>\n",
       "    <tr>\n",
       "      <th>16656</th>\n",
       "      <td>2017-11-12</td>\n",
       "      <td>11</td>\n",
       "      <td>1.86</td>\n",
       "      <td>1791.82</td>\n",
       "      <td>2951.24</td>\n",
       "      <td>0.00</td>\n",
       "      <td>1655.19</td>\n",
       "      <td>12367.46</td>\n",
       "      <td>3.72</td>\n",
       "      <td>2017</td>\n",
       "      <td>...</td>\n",
       "      <td>0</td>\n",
       "      <td>0</td>\n",
       "      <td>0</td>\n",
       "      <td>0</td>\n",
       "      <td>0</td>\n",
       "      <td>0</td>\n",
       "      <td>0</td>\n",
       "      <td>0</td>\n",
       "      <td>0</td>\n",
       "      <td>0</td>\n",
       "    </tr>\n",
       "  </tbody>\n",
       "</table>\n",
       "<p>5 rows × 56 columns</p>\n",
       "</div>"
      ],
      "text/plain": [
       "            Date  Month  AveragePrice      4046      4225    4770  Small Bags  \\\n",
       "12083 2016-02-07      2          1.66    643.01   7814.15  346.10     2034.08   \n",
       "10581 2015-01-04      1          1.41    220.61     23.64    0.00     2360.00   \n",
       "2531  2015-04-26      4          1.37  86967.98  42320.51   15.07    48894.75   \n",
       "3858  2016-10-16     10          1.12  48624.65  36096.39  228.23    11681.16   \n",
       "16656 2017-11-12     11          1.86   1791.82   2951.24    0.00     1655.19   \n",
       "\n",
       "       Large Bags  XLarge Bags  year  ... region_Sacramento  region_SanDiego  \\\n",
       "12083     6364.10         0.00  2016  ...                 0                0   \n",
       "10581        0.00         0.00  2015  ...                 0                0   \n",
       "2531         0.00         2.11  2015  ...                 0                0   \n",
       "3858     60621.20        77.78  2016  ...                 0                0   \n",
       "16656    12367.46         3.72  2017  ...                 0                0   \n",
       "\n",
       "       region_SanFrancisco  region_Seattle  region_SouthCarolina  \\\n",
       "12083                    0               0                     0   \n",
       "10581                    0               0                     0   \n",
       "2531                     0               0                     0   \n",
       "3858                     0               0                     0   \n",
       "16656                    0               0                     0   \n",
       "\n",
       "       region_Spokane  region_StLouis  region_Syracuse  region_Tampa  \\\n",
       "12083               0               0                0             0   \n",
       "10581               0               0                0             0   \n",
       "2531                0               1                0             0   \n",
       "3858                0               0                0             0   \n",
       "16656               0               0                0             0   \n",
       "\n",
       "       region_WestTexNewMexico  \n",
       "12083                        0  \n",
       "10581                        0  \n",
       "2531                         0  \n",
       "3858                         0  \n",
       "16656                        0  \n",
       "\n",
       "[5 rows x 56 columns]"
      ]
     },
     "execution_count": 123,
     "metadata": {},
     "output_type": "execute_result"
    }
   ],
   "source": [
    "#Add created dummy columns into the original data set.\n",
    "black_market_avocados = pd.concat([black_market_avocados, dummy_columns], axis=1)\n",
    "black_market_avocados.head()"
   ]
  },
  {
   "cell_type": "code",
   "execution_count": 124,
   "metadata": {},
   "outputs": [
    {
     "data": {
      "text/html": [
       "<div>\n",
       "<style scoped>\n",
       "    .dataframe tbody tr th:only-of-type {\n",
       "        vertical-align: middle;\n",
       "    }\n",
       "\n",
       "    .dataframe tbody tr th {\n",
       "        vertical-align: top;\n",
       "    }\n",
       "\n",
       "    .dataframe thead th {\n",
       "        text-align: right;\n",
       "    }\n",
       "</style>\n",
       "<table border=\"1\" class=\"dataframe\">\n",
       "  <thead>\n",
       "    <tr style=\"text-align: right;\">\n",
       "      <th></th>\n",
       "      <th>Date</th>\n",
       "      <th>Month</th>\n",
       "      <th>AveragePrice</th>\n",
       "      <th>4046</th>\n",
       "      <th>4225</th>\n",
       "      <th>4770</th>\n",
       "      <th>Small Bags</th>\n",
       "      <th>Large Bags</th>\n",
       "      <th>XLarge Bags</th>\n",
       "      <th>year</th>\n",
       "      <th>...</th>\n",
       "      <th>region_Sacramento</th>\n",
       "      <th>region_SanDiego</th>\n",
       "      <th>region_SanFrancisco</th>\n",
       "      <th>region_Seattle</th>\n",
       "      <th>region_SouthCarolina</th>\n",
       "      <th>region_Spokane</th>\n",
       "      <th>region_StLouis</th>\n",
       "      <th>region_Syracuse</th>\n",
       "      <th>region_Tampa</th>\n",
       "      <th>region_WestTexNewMexico</th>\n",
       "    </tr>\n",
       "  </thead>\n",
       "  <tbody>\n",
       "    <tr>\n",
       "      <th>12083</th>\n",
       "      <td>2016-02-07</td>\n",
       "      <td>2</td>\n",
       "      <td>1.66</td>\n",
       "      <td>643.01</td>\n",
       "      <td>7814.15</td>\n",
       "      <td>346.10</td>\n",
       "      <td>2034.08</td>\n",
       "      <td>6364.10</td>\n",
       "      <td>0.00</td>\n",
       "      <td>2016</td>\n",
       "      <td>...</td>\n",
       "      <td>0</td>\n",
       "      <td>0</td>\n",
       "      <td>0</td>\n",
       "      <td>0</td>\n",
       "      <td>0</td>\n",
       "      <td>0</td>\n",
       "      <td>0</td>\n",
       "      <td>0</td>\n",
       "      <td>0</td>\n",
       "      <td>0</td>\n",
       "    </tr>\n",
       "    <tr>\n",
       "      <th>10581</th>\n",
       "      <td>2015-01-04</td>\n",
       "      <td>1</td>\n",
       "      <td>1.41</td>\n",
       "      <td>220.61</td>\n",
       "      <td>23.64</td>\n",
       "      <td>0.00</td>\n",
       "      <td>2360.00</td>\n",
       "      <td>0.00</td>\n",
       "      <td>0.00</td>\n",
       "      <td>2015</td>\n",
       "      <td>...</td>\n",
       "      <td>0</td>\n",
       "      <td>0</td>\n",
       "      <td>0</td>\n",
       "      <td>0</td>\n",
       "      <td>0</td>\n",
       "      <td>0</td>\n",
       "      <td>0</td>\n",
       "      <td>0</td>\n",
       "      <td>0</td>\n",
       "      <td>0</td>\n",
       "    </tr>\n",
       "    <tr>\n",
       "      <th>2531</th>\n",
       "      <td>2015-04-26</td>\n",
       "      <td>4</td>\n",
       "      <td>1.37</td>\n",
       "      <td>86967.98</td>\n",
       "      <td>42320.51</td>\n",
       "      <td>15.07</td>\n",
       "      <td>48894.75</td>\n",
       "      <td>0.00</td>\n",
       "      <td>2.11</td>\n",
       "      <td>2015</td>\n",
       "      <td>...</td>\n",
       "      <td>0</td>\n",
       "      <td>0</td>\n",
       "      <td>0</td>\n",
       "      <td>0</td>\n",
       "      <td>0</td>\n",
       "      <td>0</td>\n",
       "      <td>1</td>\n",
       "      <td>0</td>\n",
       "      <td>0</td>\n",
       "      <td>0</td>\n",
       "    </tr>\n",
       "    <tr>\n",
       "      <th>3858</th>\n",
       "      <td>2016-10-16</td>\n",
       "      <td>10</td>\n",
       "      <td>1.12</td>\n",
       "      <td>48624.65</td>\n",
       "      <td>36096.39</td>\n",
       "      <td>228.23</td>\n",
       "      <td>11681.16</td>\n",
       "      <td>60621.20</td>\n",
       "      <td>77.78</td>\n",
       "      <td>2016</td>\n",
       "      <td>...</td>\n",
       "      <td>0</td>\n",
       "      <td>0</td>\n",
       "      <td>0</td>\n",
       "      <td>0</td>\n",
       "      <td>0</td>\n",
       "      <td>0</td>\n",
       "      <td>0</td>\n",
       "      <td>0</td>\n",
       "      <td>0</td>\n",
       "      <td>0</td>\n",
       "    </tr>\n",
       "    <tr>\n",
       "      <th>16656</th>\n",
       "      <td>2017-11-12</td>\n",
       "      <td>11</td>\n",
       "      <td>1.86</td>\n",
       "      <td>1791.82</td>\n",
       "      <td>2951.24</td>\n",
       "      <td>0.00</td>\n",
       "      <td>1655.19</td>\n",
       "      <td>12367.46</td>\n",
       "      <td>3.72</td>\n",
       "      <td>2017</td>\n",
       "      <td>...</td>\n",
       "      <td>0</td>\n",
       "      <td>0</td>\n",
       "      <td>0</td>\n",
       "      <td>0</td>\n",
       "      <td>0</td>\n",
       "      <td>0</td>\n",
       "      <td>0</td>\n",
       "      <td>0</td>\n",
       "      <td>0</td>\n",
       "      <td>0</td>\n",
       "    </tr>\n",
       "  </tbody>\n",
       "</table>\n",
       "<p>5 rows × 55 columns</p>\n",
       "</div>"
      ],
      "text/plain": [
       "            Date  Month  AveragePrice      4046      4225    4770  Small Bags  \\\n",
       "12083 2016-02-07      2          1.66    643.01   7814.15  346.10     2034.08   \n",
       "10581 2015-01-04      1          1.41    220.61     23.64    0.00     2360.00   \n",
       "2531  2015-04-26      4          1.37  86967.98  42320.51   15.07    48894.75   \n",
       "3858  2016-10-16     10          1.12  48624.65  36096.39  228.23    11681.16   \n",
       "16656 2017-11-12     11          1.86   1791.82   2951.24    0.00     1655.19   \n",
       "\n",
       "       Large Bags  XLarge Bags  year  ...  region_Sacramento  region_SanDiego  \\\n",
       "12083     6364.10         0.00  2016  ...                  0                0   \n",
       "10581        0.00         0.00  2015  ...                  0                0   \n",
       "2531         0.00         2.11  2015  ...                  0                0   \n",
       "3858     60621.20        77.78  2016  ...                  0                0   \n",
       "16656    12367.46         3.72  2017  ...                  0                0   \n",
       "\n",
       "       region_SanFrancisco  region_Seattle  region_SouthCarolina  \\\n",
       "12083                    0               0                     0   \n",
       "10581                    0               0                     0   \n",
       "2531                     0               0                     0   \n",
       "3858                     0               0                     0   \n",
       "16656                    0               0                     0   \n",
       "\n",
       "       region_Spokane  region_StLouis  region_Syracuse  region_Tampa  \\\n",
       "12083               0               0                0             0   \n",
       "10581               0               0                0             0   \n",
       "2531                0               1                0             0   \n",
       "3858                0               0                0             0   \n",
       "16656               0               0                0             0   \n",
       "\n",
       "       region_WestTexNewMexico  \n",
       "12083                        0  \n",
       "10581                        0  \n",
       "2531                         0  \n",
       "3858                         0  \n",
       "16656                        0  \n",
       "\n",
       "[5 rows x 55 columns]"
      ]
     },
     "execution_count": 124,
     "metadata": {},
     "output_type": "execute_result"
    }
   ],
   "source": [
    "#Drop the original columns for which dummies are created.\n",
    "black_market_avocados.drop(transform_these_columns, axis=1, inplace=True)\n",
    "black_market_avocados.head()"
   ]
  },
  {
   "cell_type": "code",
   "execution_count": 125,
   "metadata": {},
   "outputs": [],
   "source": [
    "def year_fraction(date):\n",
    "    start = datetime.date(date.year, 1, 1).toordinal()\n",
    "    year_length = datetime.date(date.year+1, 1, 1).toordinal() - start\n",
    "    return date.year + float(date.toordinal() - start) / year_length"
   ]
  },
  {
   "cell_type": "code",
   "execution_count": 126,
   "metadata": {},
   "outputs": [],
   "source": [
    "black_market_avocados['Date'] = black_market_avocados['Date'].apply(lambda x:year_fraction(x))"
   ]
  },
  {
   "cell_type": "code",
   "execution_count": 127,
   "metadata": {},
   "outputs": [
    {
     "data": {
      "text/html": [
       "<div>\n",
       "<style scoped>\n",
       "    .dataframe tbody tr th:only-of-type {\n",
       "        vertical-align: middle;\n",
       "    }\n",
       "\n",
       "    .dataframe tbody tr th {\n",
       "        vertical-align: top;\n",
       "    }\n",
       "\n",
       "    .dataframe thead th {\n",
       "        text-align: right;\n",
       "    }\n",
       "</style>\n",
       "<table border=\"1\" class=\"dataframe\">\n",
       "  <thead>\n",
       "    <tr style=\"text-align: right;\">\n",
       "      <th></th>\n",
       "      <th>Date</th>\n",
       "      <th>Month</th>\n",
       "      <th>AveragePrice</th>\n",
       "      <th>4046</th>\n",
       "      <th>4225</th>\n",
       "      <th>4770</th>\n",
       "      <th>Small Bags</th>\n",
       "      <th>Large Bags</th>\n",
       "      <th>XLarge Bags</th>\n",
       "      <th>year</th>\n",
       "      <th>...</th>\n",
       "      <th>region_Sacramento</th>\n",
       "      <th>region_SanDiego</th>\n",
       "      <th>region_SanFrancisco</th>\n",
       "      <th>region_Seattle</th>\n",
       "      <th>region_SouthCarolina</th>\n",
       "      <th>region_Spokane</th>\n",
       "      <th>region_StLouis</th>\n",
       "      <th>region_Syracuse</th>\n",
       "      <th>region_Tampa</th>\n",
       "      <th>region_WestTexNewMexico</th>\n",
       "    </tr>\n",
       "  </thead>\n",
       "  <tbody>\n",
       "    <tr>\n",
       "      <th>12083</th>\n",
       "      <td>2016.101093</td>\n",
       "      <td>2</td>\n",
       "      <td>1.66</td>\n",
       "      <td>643.01</td>\n",
       "      <td>7814.15</td>\n",
       "      <td>346.10</td>\n",
       "      <td>2034.08</td>\n",
       "      <td>6364.10</td>\n",
       "      <td>0.00</td>\n",
       "      <td>2016</td>\n",
       "      <td>...</td>\n",
       "      <td>0</td>\n",
       "      <td>0</td>\n",
       "      <td>0</td>\n",
       "      <td>0</td>\n",
       "      <td>0</td>\n",
       "      <td>0</td>\n",
       "      <td>0</td>\n",
       "      <td>0</td>\n",
       "      <td>0</td>\n",
       "      <td>0</td>\n",
       "    </tr>\n",
       "    <tr>\n",
       "      <th>10581</th>\n",
       "      <td>2015.008219</td>\n",
       "      <td>1</td>\n",
       "      <td>1.41</td>\n",
       "      <td>220.61</td>\n",
       "      <td>23.64</td>\n",
       "      <td>0.00</td>\n",
       "      <td>2360.00</td>\n",
       "      <td>0.00</td>\n",
       "      <td>0.00</td>\n",
       "      <td>2015</td>\n",
       "      <td>...</td>\n",
       "      <td>0</td>\n",
       "      <td>0</td>\n",
       "      <td>0</td>\n",
       "      <td>0</td>\n",
       "      <td>0</td>\n",
       "      <td>0</td>\n",
       "      <td>0</td>\n",
       "      <td>0</td>\n",
       "      <td>0</td>\n",
       "      <td>0</td>\n",
       "    </tr>\n",
       "    <tr>\n",
       "      <th>2531</th>\n",
       "      <td>2015.315068</td>\n",
       "      <td>4</td>\n",
       "      <td>1.37</td>\n",
       "      <td>86967.98</td>\n",
       "      <td>42320.51</td>\n",
       "      <td>15.07</td>\n",
       "      <td>48894.75</td>\n",
       "      <td>0.00</td>\n",
       "      <td>2.11</td>\n",
       "      <td>2015</td>\n",
       "      <td>...</td>\n",
       "      <td>0</td>\n",
       "      <td>0</td>\n",
       "      <td>0</td>\n",
       "      <td>0</td>\n",
       "      <td>0</td>\n",
       "      <td>0</td>\n",
       "      <td>1</td>\n",
       "      <td>0</td>\n",
       "      <td>0</td>\n",
       "      <td>0</td>\n",
       "    </tr>\n",
       "    <tr>\n",
       "      <th>3858</th>\n",
       "      <td>2016.789617</td>\n",
       "      <td>10</td>\n",
       "      <td>1.12</td>\n",
       "      <td>48624.65</td>\n",
       "      <td>36096.39</td>\n",
       "      <td>228.23</td>\n",
       "      <td>11681.16</td>\n",
       "      <td>60621.20</td>\n",
       "      <td>77.78</td>\n",
       "      <td>2016</td>\n",
       "      <td>...</td>\n",
       "      <td>0</td>\n",
       "      <td>0</td>\n",
       "      <td>0</td>\n",
       "      <td>0</td>\n",
       "      <td>0</td>\n",
       "      <td>0</td>\n",
       "      <td>0</td>\n",
       "      <td>0</td>\n",
       "      <td>0</td>\n",
       "      <td>0</td>\n",
       "    </tr>\n",
       "    <tr>\n",
       "      <th>16656</th>\n",
       "      <td>2017.863014</td>\n",
       "      <td>11</td>\n",
       "      <td>1.86</td>\n",
       "      <td>1791.82</td>\n",
       "      <td>2951.24</td>\n",
       "      <td>0.00</td>\n",
       "      <td>1655.19</td>\n",
       "      <td>12367.46</td>\n",
       "      <td>3.72</td>\n",
       "      <td>2017</td>\n",
       "      <td>...</td>\n",
       "      <td>0</td>\n",
       "      <td>0</td>\n",
       "      <td>0</td>\n",
       "      <td>0</td>\n",
       "      <td>0</td>\n",
       "      <td>0</td>\n",
       "      <td>0</td>\n",
       "      <td>0</td>\n",
       "      <td>0</td>\n",
       "      <td>0</td>\n",
       "    </tr>\n",
       "  </tbody>\n",
       "</table>\n",
       "<p>5 rows × 55 columns</p>\n",
       "</div>"
      ],
      "text/plain": [
       "              Date  Month  AveragePrice      4046      4225    4770  \\\n",
       "12083  2016.101093      2          1.66    643.01   7814.15  346.10   \n",
       "10581  2015.008219      1          1.41    220.61     23.64    0.00   \n",
       "2531   2015.315068      4          1.37  86967.98  42320.51   15.07   \n",
       "3858   2016.789617     10          1.12  48624.65  36096.39  228.23   \n",
       "16656  2017.863014     11          1.86   1791.82   2951.24    0.00   \n",
       "\n",
       "       Small Bags  Large Bags  XLarge Bags  year  ...  region_Sacramento  \\\n",
       "12083     2034.08     6364.10         0.00  2016  ...                  0   \n",
       "10581     2360.00        0.00         0.00  2015  ...                  0   \n",
       "2531     48894.75        0.00         2.11  2015  ...                  0   \n",
       "3858     11681.16    60621.20        77.78  2016  ...                  0   \n",
       "16656     1655.19    12367.46         3.72  2017  ...                  0   \n",
       "\n",
       "       region_SanDiego  region_SanFrancisco  region_Seattle  \\\n",
       "12083                0                    0               0   \n",
       "10581                0                    0               0   \n",
       "2531                 0                    0               0   \n",
       "3858                 0                    0               0   \n",
       "16656                0                    0               0   \n",
       "\n",
       "       region_SouthCarolina  region_Spokane  region_StLouis  region_Syracuse  \\\n",
       "12083                     0               0               0                0   \n",
       "10581                     0               0               0                0   \n",
       "2531                      0               0               1                0   \n",
       "3858                      0               0               0                0   \n",
       "16656                     0               0               0                0   \n",
       "\n",
       "       region_Tampa  region_WestTexNewMexico  \n",
       "12083             0                        0  \n",
       "10581             0                        0  \n",
       "2531              0                        0  \n",
       "3858              0                        0  \n",
       "16656             0                        0  \n",
       "\n",
       "[5 rows x 55 columns]"
      ]
     },
     "execution_count": 127,
     "metadata": {},
     "output_type": "execute_result"
    }
   ],
   "source": [
    "black_market_avocados.head()"
   ]
  },
  {
   "cell_type": "code",
   "execution_count": 128,
   "metadata": {},
   "outputs": [],
   "source": [
    "# drop month and year\n",
    "black_market_avocados.drop(['Month','year'],axis=1, inplace=True)"
   ]
  },
  {
   "cell_type": "code",
   "execution_count": 129,
   "metadata": {},
   "outputs": [
    {
     "data": {
      "text/html": [
       "<div>\n",
       "<style scoped>\n",
       "    .dataframe tbody tr th:only-of-type {\n",
       "        vertical-align: middle;\n",
       "    }\n",
       "\n",
       "    .dataframe tbody tr th {\n",
       "        vertical-align: top;\n",
       "    }\n",
       "\n",
       "    .dataframe thead th {\n",
       "        text-align: right;\n",
       "    }\n",
       "</style>\n",
       "<table border=\"1\" class=\"dataframe\">\n",
       "  <thead>\n",
       "    <tr style=\"text-align: right;\">\n",
       "      <th></th>\n",
       "      <th>Date</th>\n",
       "      <th>AveragePrice</th>\n",
       "      <th>4046</th>\n",
       "      <th>4225</th>\n",
       "      <th>4770</th>\n",
       "      <th>Small Bags</th>\n",
       "      <th>Large Bags</th>\n",
       "      <th>XLarge Bags</th>\n",
       "      <th>organic</th>\n",
       "      <th>region_Atlanta</th>\n",
       "      <th>...</th>\n",
       "      <th>region_Sacramento</th>\n",
       "      <th>region_SanDiego</th>\n",
       "      <th>region_SanFrancisco</th>\n",
       "      <th>region_Seattle</th>\n",
       "      <th>region_SouthCarolina</th>\n",
       "      <th>region_Spokane</th>\n",
       "      <th>region_StLouis</th>\n",
       "      <th>region_Syracuse</th>\n",
       "      <th>region_Tampa</th>\n",
       "      <th>region_WestTexNewMexico</th>\n",
       "    </tr>\n",
       "  </thead>\n",
       "  <tbody>\n",
       "    <tr>\n",
       "      <th>12083</th>\n",
       "      <td>2016.101093</td>\n",
       "      <td>1.66</td>\n",
       "      <td>643.01</td>\n",
       "      <td>7814.15</td>\n",
       "      <td>346.10</td>\n",
       "      <td>2034.08</td>\n",
       "      <td>6364.10</td>\n",
       "      <td>0.00</td>\n",
       "      <td>1</td>\n",
       "      <td>0</td>\n",
       "      <td>...</td>\n",
       "      <td>0</td>\n",
       "      <td>0</td>\n",
       "      <td>0</td>\n",
       "      <td>0</td>\n",
       "      <td>0</td>\n",
       "      <td>0</td>\n",
       "      <td>0</td>\n",
       "      <td>0</td>\n",
       "      <td>0</td>\n",
       "      <td>0</td>\n",
       "    </tr>\n",
       "    <tr>\n",
       "      <th>10581</th>\n",
       "      <td>2015.008219</td>\n",
       "      <td>1.41</td>\n",
       "      <td>220.61</td>\n",
       "      <td>23.64</td>\n",
       "      <td>0.00</td>\n",
       "      <td>2360.00</td>\n",
       "      <td>0.00</td>\n",
       "      <td>0.00</td>\n",
       "      <td>1</td>\n",
       "      <td>0</td>\n",
       "      <td>...</td>\n",
       "      <td>0</td>\n",
       "      <td>0</td>\n",
       "      <td>0</td>\n",
       "      <td>0</td>\n",
       "      <td>0</td>\n",
       "      <td>0</td>\n",
       "      <td>0</td>\n",
       "      <td>0</td>\n",
       "      <td>0</td>\n",
       "      <td>0</td>\n",
       "    </tr>\n",
       "    <tr>\n",
       "      <th>2531</th>\n",
       "      <td>2015.315068</td>\n",
       "      <td>1.37</td>\n",
       "      <td>86967.98</td>\n",
       "      <td>42320.51</td>\n",
       "      <td>15.07</td>\n",
       "      <td>48894.75</td>\n",
       "      <td>0.00</td>\n",
       "      <td>2.11</td>\n",
       "      <td>0</td>\n",
       "      <td>0</td>\n",
       "      <td>...</td>\n",
       "      <td>0</td>\n",
       "      <td>0</td>\n",
       "      <td>0</td>\n",
       "      <td>0</td>\n",
       "      <td>0</td>\n",
       "      <td>0</td>\n",
       "      <td>1</td>\n",
       "      <td>0</td>\n",
       "      <td>0</td>\n",
       "      <td>0</td>\n",
       "    </tr>\n",
       "    <tr>\n",
       "      <th>3858</th>\n",
       "      <td>2016.789617</td>\n",
       "      <td>1.12</td>\n",
       "      <td>48624.65</td>\n",
       "      <td>36096.39</td>\n",
       "      <td>228.23</td>\n",
       "      <td>11681.16</td>\n",
       "      <td>60621.20</td>\n",
       "      <td>77.78</td>\n",
       "      <td>0</td>\n",
       "      <td>0</td>\n",
       "      <td>...</td>\n",
       "      <td>0</td>\n",
       "      <td>0</td>\n",
       "      <td>0</td>\n",
       "      <td>0</td>\n",
       "      <td>0</td>\n",
       "      <td>0</td>\n",
       "      <td>0</td>\n",
       "      <td>0</td>\n",
       "      <td>0</td>\n",
       "      <td>0</td>\n",
       "    </tr>\n",
       "    <tr>\n",
       "      <th>16656</th>\n",
       "      <td>2017.863014</td>\n",
       "      <td>1.86</td>\n",
       "      <td>1791.82</td>\n",
       "      <td>2951.24</td>\n",
       "      <td>0.00</td>\n",
       "      <td>1655.19</td>\n",
       "      <td>12367.46</td>\n",
       "      <td>3.72</td>\n",
       "      <td>1</td>\n",
       "      <td>0</td>\n",
       "      <td>...</td>\n",
       "      <td>0</td>\n",
       "      <td>0</td>\n",
       "      <td>0</td>\n",
       "      <td>0</td>\n",
       "      <td>0</td>\n",
       "      <td>0</td>\n",
       "      <td>0</td>\n",
       "      <td>0</td>\n",
       "      <td>0</td>\n",
       "      <td>0</td>\n",
       "    </tr>\n",
       "    <tr>\n",
       "      <th>...</th>\n",
       "      <td>...</td>\n",
       "      <td>...</td>\n",
       "      <td>...</td>\n",
       "      <td>...</td>\n",
       "      <td>...</td>\n",
       "      <td>...</td>\n",
       "      <td>...</td>\n",
       "      <td>...</td>\n",
       "      <td>...</td>\n",
       "      <td>...</td>\n",
       "      <td>...</td>\n",
       "      <td>...</td>\n",
       "      <td>...</td>\n",
       "      <td>...</td>\n",
       "      <td>...</td>\n",
       "      <td>...</td>\n",
       "      <td>...</td>\n",
       "      <td>...</td>\n",
       "      <td>...</td>\n",
       "      <td>...</td>\n",
       "      <td>...</td>\n",
       "    </tr>\n",
       "    <tr>\n",
       "      <th>12829</th>\n",
       "      <td>2016.751366</td>\n",
       "      <td>2.33</td>\n",
       "      <td>61.79</td>\n",
       "      <td>3168.72</td>\n",
       "      <td>6.91</td>\n",
       "      <td>3937.98</td>\n",
       "      <td>153.51</td>\n",
       "      <td>0.00</td>\n",
       "      <td>1</td>\n",
       "      <td>0</td>\n",
       "      <td>...</td>\n",
       "      <td>0</td>\n",
       "      <td>0</td>\n",
       "      <td>0</td>\n",
       "      <td>0</td>\n",
       "      <td>0</td>\n",
       "      <td>0</td>\n",
       "      <td>0</td>\n",
       "      <td>0</td>\n",
       "      <td>0</td>\n",
       "      <td>0</td>\n",
       "    </tr>\n",
       "    <tr>\n",
       "      <th>5081</th>\n",
       "      <td>2016.273224</td>\n",
       "      <td>0.93</td>\n",
       "      <td>125383.51</td>\n",
       "      <td>228654.14</td>\n",
       "      <td>9317.80</td>\n",
       "      <td>363375.18</td>\n",
       "      <td>150.02</td>\n",
       "      <td>1566.84</td>\n",
       "      <td>0</td>\n",
       "      <td>0</td>\n",
       "      <td>...</td>\n",
       "      <td>0</td>\n",
       "      <td>0</td>\n",
       "      <td>0</td>\n",
       "      <td>1</td>\n",
       "      <td>0</td>\n",
       "      <td>0</td>\n",
       "      <td>0</td>\n",
       "      <td>0</td>\n",
       "      <td>0</td>\n",
       "      <td>0</td>\n",
       "    </tr>\n",
       "    <tr>\n",
       "      <th>7893</th>\n",
       "      <td>2017.019178</td>\n",
       "      <td>1.22</td>\n",
       "      <td>196279.04</td>\n",
       "      <td>665608.45</td>\n",
       "      <td>2547.79</td>\n",
       "      <td>80425.68</td>\n",
       "      <td>6315.06</td>\n",
       "      <td>2594.44</td>\n",
       "      <td>0</td>\n",
       "      <td>0</td>\n",
       "      <td>...</td>\n",
       "      <td>0</td>\n",
       "      <td>0</td>\n",
       "      <td>1</td>\n",
       "      <td>0</td>\n",
       "      <td>0</td>\n",
       "      <td>0</td>\n",
       "      <td>0</td>\n",
       "      <td>0</td>\n",
       "      <td>0</td>\n",
       "      <td>0</td>\n",
       "    </tr>\n",
       "    <tr>\n",
       "      <th>7449</th>\n",
       "      <td>2017.402740</td>\n",
       "      <td>1.32</td>\n",
       "      <td>60061.87</td>\n",
       "      <td>29709.54</td>\n",
       "      <td>1890.54</td>\n",
       "      <td>44354.41</td>\n",
       "      <td>7658.58</td>\n",
       "      <td>0.00</td>\n",
       "      <td>0</td>\n",
       "      <td>0</td>\n",
       "      <td>...</td>\n",
       "      <td>0</td>\n",
       "      <td>0</td>\n",
       "      <td>0</td>\n",
       "      <td>0</td>\n",
       "      <td>0</td>\n",
       "      <td>0</td>\n",
       "      <td>0</td>\n",
       "      <td>0</td>\n",
       "      <td>0</td>\n",
       "      <td>0</td>\n",
       "    </tr>\n",
       "    <tr>\n",
       "      <th>8299</th>\n",
       "      <td>2017.364384</td>\n",
       "      <td>1.43</td>\n",
       "      <td>215699.35</td>\n",
       "      <td>42141.19</td>\n",
       "      <td>60.98</td>\n",
       "      <td>59447.45</td>\n",
       "      <td>25620.06</td>\n",
       "      <td>16.67</td>\n",
       "      <td>0</td>\n",
       "      <td>0</td>\n",
       "      <td>...</td>\n",
       "      <td>0</td>\n",
       "      <td>0</td>\n",
       "      <td>0</td>\n",
       "      <td>0</td>\n",
       "      <td>0</td>\n",
       "      <td>0</td>\n",
       "      <td>0</td>\n",
       "      <td>0</td>\n",
       "      <td>1</td>\n",
       "      <td>0</td>\n",
       "    </tr>\n",
       "  </tbody>\n",
       "</table>\n",
       "<p>500 rows × 53 columns</p>\n",
       "</div>"
      ],
      "text/plain": [
       "              Date  AveragePrice       4046       4225     4770  Small Bags  \\\n",
       "12083  2016.101093          1.66     643.01    7814.15   346.10     2034.08   \n",
       "10581  2015.008219          1.41     220.61      23.64     0.00     2360.00   \n",
       "2531   2015.315068          1.37   86967.98   42320.51    15.07    48894.75   \n",
       "3858   2016.789617          1.12   48624.65   36096.39   228.23    11681.16   \n",
       "16656  2017.863014          1.86    1791.82    2951.24     0.00     1655.19   \n",
       "...            ...           ...        ...        ...      ...         ...   \n",
       "12829  2016.751366          2.33      61.79    3168.72     6.91     3937.98   \n",
       "5081   2016.273224          0.93  125383.51  228654.14  9317.80   363375.18   \n",
       "7893   2017.019178          1.22  196279.04  665608.45  2547.79    80425.68   \n",
       "7449   2017.402740          1.32   60061.87   29709.54  1890.54    44354.41   \n",
       "8299   2017.364384          1.43  215699.35   42141.19    60.98    59447.45   \n",
       "\n",
       "       Large Bags  XLarge Bags  organic  region_Atlanta  ...  \\\n",
       "12083     6364.10         0.00        1               0  ...   \n",
       "10581        0.00         0.00        1               0  ...   \n",
       "2531         0.00         2.11        0               0  ...   \n",
       "3858     60621.20        77.78        0               0  ...   \n",
       "16656    12367.46         3.72        1               0  ...   \n",
       "...           ...          ...      ...             ...  ...   \n",
       "12829      153.51         0.00        1               0  ...   \n",
       "5081       150.02      1566.84        0               0  ...   \n",
       "7893      6315.06      2594.44        0               0  ...   \n",
       "7449      7658.58         0.00        0               0  ...   \n",
       "8299     25620.06        16.67        0               0  ...   \n",
       "\n",
       "       region_Sacramento  region_SanDiego  region_SanFrancisco  \\\n",
       "12083                  0                0                    0   \n",
       "10581                  0                0                    0   \n",
       "2531                   0                0                    0   \n",
       "3858                   0                0                    0   \n",
       "16656                  0                0                    0   \n",
       "...                  ...              ...                  ...   \n",
       "12829                  0                0                    0   \n",
       "5081                   0                0                    0   \n",
       "7893                   0                0                    1   \n",
       "7449                   0                0                    0   \n",
       "8299                   0                0                    0   \n",
       "\n",
       "       region_Seattle  region_SouthCarolina  region_Spokane  region_StLouis  \\\n",
       "12083               0                     0               0               0   \n",
       "10581               0                     0               0               0   \n",
       "2531                0                     0               0               1   \n",
       "3858                0                     0               0               0   \n",
       "16656               0                     0               0               0   \n",
       "...               ...                   ...             ...             ...   \n",
       "12829               0                     0               0               0   \n",
       "5081                1                     0               0               0   \n",
       "7893                0                     0               0               0   \n",
       "7449                0                     0               0               0   \n",
       "8299                0                     0               0               0   \n",
       "\n",
       "       region_Syracuse  region_Tampa  region_WestTexNewMexico  \n",
       "12083                0             0                        0  \n",
       "10581                0             0                        0  \n",
       "2531                 0             0                        0  \n",
       "3858                 0             0                        0  \n",
       "16656                0             0                        0  \n",
       "...                ...           ...                      ...  \n",
       "12829                0             0                        0  \n",
       "5081                 0             0                        0  \n",
       "7893                 0             0                        0  \n",
       "7449                 0             0                        0  \n",
       "8299                 0             1                        0  \n",
       "\n",
       "[500 rows x 53 columns]"
      ]
     },
     "execution_count": 129,
     "metadata": {},
     "output_type": "execute_result"
    }
   ],
   "source": [
    "black_market_avocados"
   ]
  },
  {
   "cell_type": "code",
   "execution_count": 130,
   "metadata": {},
   "outputs": [],
   "source": [
    "SS = StandardScaler() "
   ]
  },
  {
   "cell_type": "code",
   "execution_count": 131,
   "metadata": {},
   "outputs": [
    {
     "data": {
      "text/html": [
       "<div>\n",
       "<style scoped>\n",
       "    .dataframe tbody tr th:only-of-type {\n",
       "        vertical-align: middle;\n",
       "    }\n",
       "\n",
       "    .dataframe tbody tr th {\n",
       "        vertical-align: top;\n",
       "    }\n",
       "\n",
       "    .dataframe thead th {\n",
       "        text-align: right;\n",
       "    }\n",
       "</style>\n",
       "<table border=\"1\" class=\"dataframe\">\n",
       "  <thead>\n",
       "    <tr style=\"text-align: right;\">\n",
       "      <th></th>\n",
       "      <th>Date</th>\n",
       "      <th>AveragePrice</th>\n",
       "      <th>4046</th>\n",
       "      <th>4225</th>\n",
       "      <th>4770</th>\n",
       "      <th>Small Bags</th>\n",
       "      <th>Large Bags</th>\n",
       "      <th>XLarge Bags</th>\n",
       "      <th>organic</th>\n",
       "      <th>region_Atlanta</th>\n",
       "      <th>...</th>\n",
       "      <th>region_Sacramento</th>\n",
       "      <th>region_SanDiego</th>\n",
       "      <th>region_SanFrancisco</th>\n",
       "      <th>region_Seattle</th>\n",
       "      <th>region_SouthCarolina</th>\n",
       "      <th>region_Spokane</th>\n",
       "      <th>region_StLouis</th>\n",
       "      <th>region_Syracuse</th>\n",
       "      <th>region_Tampa</th>\n",
       "      <th>region_WestTexNewMexico</th>\n",
       "    </tr>\n",
       "  </thead>\n",
       "  <tbody>\n",
       "    <tr>\n",
       "      <th>12083</th>\n",
       "      <td>-0.525737</td>\n",
       "      <td>0.673480</td>\n",
       "      <td>-0.420164</td>\n",
       "      <td>-0.536446</td>\n",
       "      <td>-0.334600</td>\n",
       "      <td>-0.356474</td>\n",
       "      <td>-0.239893</td>\n",
       "      <td>-0.266608</td>\n",
       "      <td>1</td>\n",
       "      <td>0</td>\n",
       "      <td>...</td>\n",
       "      <td>0</td>\n",
       "      <td>0</td>\n",
       "      <td>0</td>\n",
       "      <td>0</td>\n",
       "      <td>0</td>\n",
       "      <td>0</td>\n",
       "      <td>0</td>\n",
       "      <td>0</td>\n",
       "      <td>0</td>\n",
       "      <td>0</td>\n",
       "    </tr>\n",
       "    <tr>\n",
       "      <th>10581</th>\n",
       "      <td>-1.666023</td>\n",
       "      <td>0.059663</td>\n",
       "      <td>-0.422018</td>\n",
       "      <td>-0.589795</td>\n",
       "      <td>-0.350930</td>\n",
       "      <td>-0.354454</td>\n",
       "      <td>-0.408215</td>\n",
       "      <td>-0.266608</td>\n",
       "      <td>1</td>\n",
       "      <td>0</td>\n",
       "      <td>...</td>\n",
       "      <td>0</td>\n",
       "      <td>0</td>\n",
       "      <td>0</td>\n",
       "      <td>0</td>\n",
       "      <td>0</td>\n",
       "      <td>0</td>\n",
       "      <td>0</td>\n",
       "      <td>0</td>\n",
       "      <td>0</td>\n",
       "      <td>0</td>\n",
       "    </tr>\n",
       "    <tr>\n",
       "      <th>2531</th>\n",
       "      <td>-1.345862</td>\n",
       "      <td>-0.038548</td>\n",
       "      <td>-0.041392</td>\n",
       "      <td>-0.300148</td>\n",
       "      <td>-0.350219</td>\n",
       "      <td>-0.065976</td>\n",
       "      <td>-0.408215</td>\n",
       "      <td>-0.266057</td>\n",
       "      <td>0</td>\n",
       "      <td>0</td>\n",
       "      <td>...</td>\n",
       "      <td>0</td>\n",
       "      <td>0</td>\n",
       "      <td>0</td>\n",
       "      <td>0</td>\n",
       "      <td>0</td>\n",
       "      <td>0</td>\n",
       "      <td>1</td>\n",
       "      <td>0</td>\n",
       "      <td>0</td>\n",
       "      <td>0</td>\n",
       "    </tr>\n",
       "    <tr>\n",
       "      <th>3858</th>\n",
       "      <td>0.192658</td>\n",
       "      <td>-0.652364</td>\n",
       "      <td>-0.209633</td>\n",
       "      <td>-0.342770</td>\n",
       "      <td>-0.340161</td>\n",
       "      <td>-0.296670</td>\n",
       "      <td>1.195130</td>\n",
       "      <td>-0.246270</td>\n",
       "      <td>0</td>\n",
       "      <td>0</td>\n",
       "      <td>...</td>\n",
       "      <td>0</td>\n",
       "      <td>0</td>\n",
       "      <td>0</td>\n",
       "      <td>0</td>\n",
       "      <td>0</td>\n",
       "      <td>0</td>\n",
       "      <td>0</td>\n",
       "      <td>0</td>\n",
       "      <td>0</td>\n",
       "      <td>0</td>\n",
       "    </tr>\n",
       "    <tr>\n",
       "      <th>16656</th>\n",
       "      <td>1.312622</td>\n",
       "      <td>1.164533</td>\n",
       "      <td>-0.415123</td>\n",
       "      <td>-0.569747</td>\n",
       "      <td>-0.350930</td>\n",
       "      <td>-0.358823</td>\n",
       "      <td>-0.081113</td>\n",
       "      <td>-0.265636</td>\n",
       "      <td>1</td>\n",
       "      <td>0</td>\n",
       "      <td>...</td>\n",
       "      <td>0</td>\n",
       "      <td>0</td>\n",
       "      <td>0</td>\n",
       "      <td>0</td>\n",
       "      <td>0</td>\n",
       "      <td>0</td>\n",
       "      <td>0</td>\n",
       "      <td>0</td>\n",
       "      <td>0</td>\n",
       "      <td>0</td>\n",
       "    </tr>\n",
       "  </tbody>\n",
       "</table>\n",
       "<p>5 rows × 53 columns</p>\n",
       "</div>"
      ],
      "text/plain": [
       "           Date  AveragePrice      4046      4225      4770  Small Bags  \\\n",
       "12083 -0.525737      0.673480 -0.420164 -0.536446 -0.334600   -0.356474   \n",
       "10581 -1.666023      0.059663 -0.422018 -0.589795 -0.350930   -0.354454   \n",
       "2531  -1.345862     -0.038548 -0.041392 -0.300148 -0.350219   -0.065976   \n",
       "3858   0.192658     -0.652364 -0.209633 -0.342770 -0.340161   -0.296670   \n",
       "16656  1.312622      1.164533 -0.415123 -0.569747 -0.350930   -0.358823   \n",
       "\n",
       "       Large Bags  XLarge Bags  organic  region_Atlanta  ...  \\\n",
       "12083   -0.239893    -0.266608        1               0  ...   \n",
       "10581   -0.408215    -0.266608        1               0  ...   \n",
       "2531    -0.408215    -0.266057        0               0  ...   \n",
       "3858     1.195130    -0.246270        0               0  ...   \n",
       "16656   -0.081113    -0.265636        1               0  ...   \n",
       "\n",
       "       region_Sacramento  region_SanDiego  region_SanFrancisco  \\\n",
       "12083                  0                0                    0   \n",
       "10581                  0                0                    0   \n",
       "2531                   0                0                    0   \n",
       "3858                   0                0                    0   \n",
       "16656                  0                0                    0   \n",
       "\n",
       "       region_Seattle  region_SouthCarolina  region_Spokane  region_StLouis  \\\n",
       "12083               0                     0               0               0   \n",
       "10581               0                     0               0               0   \n",
       "2531                0                     0               0               1   \n",
       "3858                0                     0               0               0   \n",
       "16656               0                     0               0               0   \n",
       "\n",
       "       region_Syracuse  region_Tampa  region_WestTexNewMexico  \n",
       "12083                0             0                        0  \n",
       "10581                0             0                        0  \n",
       "2531                 0             0                        0  \n",
       "3858                 0             0                        0  \n",
       "16656                0             0                        0  \n",
       "\n",
       "[5 rows x 53 columns]"
      ]
     },
     "execution_count": 131,
     "metadata": {},
     "output_type": "execute_result"
    }
   ],
   "source": [
    "black_market_avocados=black_market_avocados.copy()\n",
    "black_market_avocados[['Date','AveragePrice','4046','4046','4225','4770','Small Bags','Large Bags', 'XLarge Bags']] = SS.fit_transform(black_market_avocados[['Date','AveragePrice','4046','4046','4225','4770','Small Bags','Large Bags', 'XLarge Bags']])\n",
    "black_market_avocados.head()"
   ]
  },
  {
   "cell_type": "code",
   "execution_count": 132,
   "metadata": {},
   "outputs": [],
   "source": [
    "black_market_avocados.drop(['organic'],axis=1,inplace=True)"
   ]
  },
  {
   "cell_type": "markdown",
   "metadata": {},
   "source": [
    "## Prediction for whether the black market avocados are organic or not based on the given data."
   ]
  },
  {
   "cell_type": "code",
   "execution_count": 133,
   "metadata": {},
   "outputs": [
    {
     "data": {
      "text/html": [
       "<div>\n",
       "<style scoped>\n",
       "    .dataframe tbody tr th:only-of-type {\n",
       "        vertical-align: middle;\n",
       "    }\n",
       "\n",
       "    .dataframe tbody tr th {\n",
       "        vertical-align: top;\n",
       "    }\n",
       "\n",
       "    .dataframe thead th {\n",
       "        text-align: right;\n",
       "    }\n",
       "</style>\n",
       "<table border=\"1\" class=\"dataframe\">\n",
       "  <thead>\n",
       "    <tr style=\"text-align: right;\">\n",
       "      <th></th>\n",
       "      <th>Date</th>\n",
       "      <th>AveragePrice</th>\n",
       "      <th>4046</th>\n",
       "      <th>4225</th>\n",
       "      <th>4770</th>\n",
       "      <th>Small Bags</th>\n",
       "      <th>Large Bags</th>\n",
       "      <th>XLarge Bags</th>\n",
       "      <th>region_Atlanta</th>\n",
       "      <th>region_BaltimoreWashington</th>\n",
       "      <th>...</th>\n",
       "      <th>region_Sacramento</th>\n",
       "      <th>region_SanDiego</th>\n",
       "      <th>region_SanFrancisco</th>\n",
       "      <th>region_Seattle</th>\n",
       "      <th>region_SouthCarolina</th>\n",
       "      <th>region_Spokane</th>\n",
       "      <th>region_StLouis</th>\n",
       "      <th>region_Syracuse</th>\n",
       "      <th>region_Tampa</th>\n",
       "      <th>region_WestTexNewMexico</th>\n",
       "    </tr>\n",
       "  </thead>\n",
       "  <tbody>\n",
       "    <tr>\n",
       "      <th>12083</th>\n",
       "      <td>-0.525737</td>\n",
       "      <td>0.673480</td>\n",
       "      <td>-0.420164</td>\n",
       "      <td>-0.536446</td>\n",
       "      <td>-0.334600</td>\n",
       "      <td>-0.356474</td>\n",
       "      <td>-0.239893</td>\n",
       "      <td>-0.266608</td>\n",
       "      <td>0</td>\n",
       "      <td>1</td>\n",
       "      <td>...</td>\n",
       "      <td>0</td>\n",
       "      <td>0</td>\n",
       "      <td>0</td>\n",
       "      <td>0</td>\n",
       "      <td>0</td>\n",
       "      <td>0</td>\n",
       "      <td>0</td>\n",
       "      <td>0</td>\n",
       "      <td>0</td>\n",
       "      <td>0</td>\n",
       "    </tr>\n",
       "    <tr>\n",
       "      <th>10581</th>\n",
       "      <td>-1.666023</td>\n",
       "      <td>0.059663</td>\n",
       "      <td>-0.422018</td>\n",
       "      <td>-0.589795</td>\n",
       "      <td>-0.350930</td>\n",
       "      <td>-0.354454</td>\n",
       "      <td>-0.408215</td>\n",
       "      <td>-0.266608</td>\n",
       "      <td>0</td>\n",
       "      <td>0</td>\n",
       "      <td>...</td>\n",
       "      <td>0</td>\n",
       "      <td>0</td>\n",
       "      <td>0</td>\n",
       "      <td>0</td>\n",
       "      <td>0</td>\n",
       "      <td>0</td>\n",
       "      <td>0</td>\n",
       "      <td>0</td>\n",
       "      <td>0</td>\n",
       "      <td>0</td>\n",
       "    </tr>\n",
       "    <tr>\n",
       "      <th>2531</th>\n",
       "      <td>-1.345862</td>\n",
       "      <td>-0.038548</td>\n",
       "      <td>-0.041392</td>\n",
       "      <td>-0.300148</td>\n",
       "      <td>-0.350219</td>\n",
       "      <td>-0.065976</td>\n",
       "      <td>-0.408215</td>\n",
       "      <td>-0.266057</td>\n",
       "      <td>0</td>\n",
       "      <td>0</td>\n",
       "      <td>...</td>\n",
       "      <td>0</td>\n",
       "      <td>0</td>\n",
       "      <td>0</td>\n",
       "      <td>0</td>\n",
       "      <td>0</td>\n",
       "      <td>0</td>\n",
       "      <td>1</td>\n",
       "      <td>0</td>\n",
       "      <td>0</td>\n",
       "      <td>0</td>\n",
       "    </tr>\n",
       "    <tr>\n",
       "      <th>3858</th>\n",
       "      <td>0.192658</td>\n",
       "      <td>-0.652364</td>\n",
       "      <td>-0.209633</td>\n",
       "      <td>-0.342770</td>\n",
       "      <td>-0.340161</td>\n",
       "      <td>-0.296670</td>\n",
       "      <td>1.195130</td>\n",
       "      <td>-0.246270</td>\n",
       "      <td>0</td>\n",
       "      <td>0</td>\n",
       "      <td>...</td>\n",
       "      <td>0</td>\n",
       "      <td>0</td>\n",
       "      <td>0</td>\n",
       "      <td>0</td>\n",
       "      <td>0</td>\n",
       "      <td>0</td>\n",
       "      <td>0</td>\n",
       "      <td>0</td>\n",
       "      <td>0</td>\n",
       "      <td>0</td>\n",
       "    </tr>\n",
       "    <tr>\n",
       "      <th>16656</th>\n",
       "      <td>1.312622</td>\n",
       "      <td>1.164533</td>\n",
       "      <td>-0.415123</td>\n",
       "      <td>-0.569747</td>\n",
       "      <td>-0.350930</td>\n",
       "      <td>-0.358823</td>\n",
       "      <td>-0.081113</td>\n",
       "      <td>-0.265636</td>\n",
       "      <td>0</td>\n",
       "      <td>0</td>\n",
       "      <td>...</td>\n",
       "      <td>0</td>\n",
       "      <td>0</td>\n",
       "      <td>0</td>\n",
       "      <td>0</td>\n",
       "      <td>0</td>\n",
       "      <td>0</td>\n",
       "      <td>0</td>\n",
       "      <td>0</td>\n",
       "      <td>0</td>\n",
       "      <td>0</td>\n",
       "    </tr>\n",
       "    <tr>\n",
       "      <th>...</th>\n",
       "      <td>...</td>\n",
       "      <td>...</td>\n",
       "      <td>...</td>\n",
       "      <td>...</td>\n",
       "      <td>...</td>\n",
       "      <td>...</td>\n",
       "      <td>...</td>\n",
       "      <td>...</td>\n",
       "      <td>...</td>\n",
       "      <td>...</td>\n",
       "      <td>...</td>\n",
       "      <td>...</td>\n",
       "      <td>...</td>\n",
       "      <td>...</td>\n",
       "      <td>...</td>\n",
       "      <td>...</td>\n",
       "      <td>...</td>\n",
       "      <td>...</td>\n",
       "      <td>...</td>\n",
       "      <td>...</td>\n",
       "      <td>...</td>\n",
       "    </tr>\n",
       "    <tr>\n",
       "      <th>12829</th>\n",
       "      <td>0.152747</td>\n",
       "      <td>2.318508</td>\n",
       "      <td>-0.422714</td>\n",
       "      <td>-0.568258</td>\n",
       "      <td>-0.350604</td>\n",
       "      <td>-0.344671</td>\n",
       "      <td>-0.404154</td>\n",
       "      <td>-0.266608</td>\n",
       "      <td>0</td>\n",
       "      <td>0</td>\n",
       "      <td>...</td>\n",
       "      <td>0</td>\n",
       "      <td>0</td>\n",
       "      <td>0</td>\n",
       "      <td>0</td>\n",
       "      <td>0</td>\n",
       "      <td>0</td>\n",
       "      <td>0</td>\n",
       "      <td>0</td>\n",
       "      <td>0</td>\n",
       "      <td>0</td>\n",
       "    </tr>\n",
       "    <tr>\n",
       "      <th>5081</th>\n",
       "      <td>-0.346138</td>\n",
       "      <td>-1.118865</td>\n",
       "      <td>0.127166</td>\n",
       "      <td>0.975858</td>\n",
       "      <td>0.088707</td>\n",
       "      <td>1.883545</td>\n",
       "      <td>-0.404247</td>\n",
       "      <td>0.143105</td>\n",
       "      <td>0</td>\n",
       "      <td>0</td>\n",
       "      <td>...</td>\n",
       "      <td>0</td>\n",
       "      <td>0</td>\n",
       "      <td>0</td>\n",
       "      <td>1</td>\n",
       "      <td>0</td>\n",
       "      <td>0</td>\n",
       "      <td>0</td>\n",
       "      <td>0</td>\n",
       "      <td>0</td>\n",
       "      <td>0</td>\n",
       "    </tr>\n",
       "    <tr>\n",
       "      <th>7893</th>\n",
       "      <td>0.432178</td>\n",
       "      <td>-0.406838</td>\n",
       "      <td>0.438238</td>\n",
       "      <td>3.968105</td>\n",
       "      <td>-0.230719</td>\n",
       "      <td>0.129490</td>\n",
       "      <td>-0.241190</td>\n",
       "      <td>0.411813</td>\n",
       "      <td>0</td>\n",
       "      <td>0</td>\n",
       "      <td>...</td>\n",
       "      <td>0</td>\n",
       "      <td>0</td>\n",
       "      <td>1</td>\n",
       "      <td>0</td>\n",
       "      <td>0</td>\n",
       "      <td>0</td>\n",
       "      <td>0</td>\n",
       "      <td>0</td>\n",
       "      <td>0</td>\n",
       "      <td>0</td>\n",
       "    </tr>\n",
       "    <tr>\n",
       "      <th>7449</th>\n",
       "      <td>0.832380</td>\n",
       "      <td>-0.161311</td>\n",
       "      <td>-0.159449</td>\n",
       "      <td>-0.386507</td>\n",
       "      <td>-0.261729</td>\n",
       "      <td>-0.094123</td>\n",
       "      <td>-0.205656</td>\n",
       "      <td>-0.266608</td>\n",
       "      <td>0</td>\n",
       "      <td>0</td>\n",
       "      <td>...</td>\n",
       "      <td>0</td>\n",
       "      <td>0</td>\n",
       "      <td>0</td>\n",
       "      <td>0</td>\n",
       "      <td>0</td>\n",
       "      <td>0</td>\n",
       "      <td>0</td>\n",
       "      <td>0</td>\n",
       "      <td>0</td>\n",
       "      <td>0</td>\n",
       "    </tr>\n",
       "    <tr>\n",
       "      <th>8299</th>\n",
       "      <td>0.792359</td>\n",
       "      <td>0.108768</td>\n",
       "      <td>0.523450</td>\n",
       "      <td>-0.301376</td>\n",
       "      <td>-0.348053</td>\n",
       "      <td>-0.000558</td>\n",
       "      <td>0.269400</td>\n",
       "      <td>-0.262249</td>\n",
       "      <td>0</td>\n",
       "      <td>0</td>\n",
       "      <td>...</td>\n",
       "      <td>0</td>\n",
       "      <td>0</td>\n",
       "      <td>0</td>\n",
       "      <td>0</td>\n",
       "      <td>0</td>\n",
       "      <td>0</td>\n",
       "      <td>0</td>\n",
       "      <td>0</td>\n",
       "      <td>1</td>\n",
       "      <td>0</td>\n",
       "    </tr>\n",
       "  </tbody>\n",
       "</table>\n",
       "<p>500 rows × 52 columns</p>\n",
       "</div>"
      ],
      "text/plain": [
       "           Date  AveragePrice      4046      4225      4770  Small Bags  \\\n",
       "12083 -0.525737      0.673480 -0.420164 -0.536446 -0.334600   -0.356474   \n",
       "10581 -1.666023      0.059663 -0.422018 -0.589795 -0.350930   -0.354454   \n",
       "2531  -1.345862     -0.038548 -0.041392 -0.300148 -0.350219   -0.065976   \n",
       "3858   0.192658     -0.652364 -0.209633 -0.342770 -0.340161   -0.296670   \n",
       "16656  1.312622      1.164533 -0.415123 -0.569747 -0.350930   -0.358823   \n",
       "...         ...           ...       ...       ...       ...         ...   \n",
       "12829  0.152747      2.318508 -0.422714 -0.568258 -0.350604   -0.344671   \n",
       "5081  -0.346138     -1.118865  0.127166  0.975858  0.088707    1.883545   \n",
       "7893   0.432178     -0.406838  0.438238  3.968105 -0.230719    0.129490   \n",
       "7449   0.832380     -0.161311 -0.159449 -0.386507 -0.261729   -0.094123   \n",
       "8299   0.792359      0.108768  0.523450 -0.301376 -0.348053   -0.000558   \n",
       "\n",
       "       Large Bags  XLarge Bags  region_Atlanta  region_BaltimoreWashington  \\\n",
       "12083   -0.239893    -0.266608               0                           1   \n",
       "10581   -0.408215    -0.266608               0                           0   \n",
       "2531    -0.408215    -0.266057               0                           0   \n",
       "3858     1.195130    -0.246270               0                           0   \n",
       "16656   -0.081113    -0.265636               0                           0   \n",
       "...           ...          ...             ...                         ...   \n",
       "12829   -0.404154    -0.266608               0                           0   \n",
       "5081    -0.404247     0.143105               0                           0   \n",
       "7893    -0.241190     0.411813               0                           0   \n",
       "7449    -0.205656    -0.266608               0                           0   \n",
       "8299     0.269400    -0.262249               0                           0   \n",
       "\n",
       "       ...  region_Sacramento  region_SanDiego  region_SanFrancisco  \\\n",
       "12083  ...                  0                0                    0   \n",
       "10581  ...                  0                0                    0   \n",
       "2531   ...                  0                0                    0   \n",
       "3858   ...                  0                0                    0   \n",
       "16656  ...                  0                0                    0   \n",
       "...    ...                ...              ...                  ...   \n",
       "12829  ...                  0                0                    0   \n",
       "5081   ...                  0                0                    0   \n",
       "7893   ...                  0                0                    1   \n",
       "7449   ...                  0                0                    0   \n",
       "8299   ...                  0                0                    0   \n",
       "\n",
       "       region_Seattle  region_SouthCarolina  region_Spokane  region_StLouis  \\\n",
       "12083               0                     0               0               0   \n",
       "10581               0                     0               0               0   \n",
       "2531                0                     0               0               1   \n",
       "3858                0                     0               0               0   \n",
       "16656               0                     0               0               0   \n",
       "...               ...                   ...             ...             ...   \n",
       "12829               0                     0               0               0   \n",
       "5081                1                     0               0               0   \n",
       "7893                0                     0               0               0   \n",
       "7449                0                     0               0               0   \n",
       "8299                0                     0               0               0   \n",
       "\n",
       "       region_Syracuse  region_Tampa  region_WestTexNewMexico  \n",
       "12083                0             0                        0  \n",
       "10581                0             0                        0  \n",
       "2531                 0             0                        0  \n",
       "3858                 0             0                        0  \n",
       "16656                0             0                        0  \n",
       "...                ...           ...                      ...  \n",
       "12829                0             0                        0  \n",
       "5081                 0             0                        0  \n",
       "7893                 0             0                        0  \n",
       "7449                 0             0                        0  \n",
       "8299                 0             1                        0  \n",
       "\n",
       "[500 rows x 52 columns]"
      ]
     },
     "execution_count": 133,
     "metadata": {},
     "output_type": "execute_result"
    }
   ],
   "source": [
    "black_market_avocados"
   ]
  },
  {
   "cell_type": "code",
   "execution_count": 134,
   "metadata": {},
   "outputs": [
    {
     "name": "stdout",
     "output_type": "stream",
     "text": [
      "For the 'Black Market' Avocados data,\n",
      "The distribution of conventional and organic is as follows:\n",
      "0    315\n",
      "1    185\n",
      "dtype: int64\n"
     ]
    }
   ],
   "source": [
    "bmavocado_prediction = RFC.predict(black_market_avocados)\n",
    "\n",
    "bmavocado_prediction = pd.DataFrame(bmavocado_prediction)\n",
    "\n",
    "print(\"For the \\'Black Market\\' Avocados data,\")\n",
    "print(\"The distribution of conventional and organic is as follows:\")\n",
    "print(bmavocado_prediction.value_counts())\n"
   ]
  },
  {
   "cell_type": "markdown",
   "metadata": {},
   "source": [
    "##### 0 = conventional, 1 = organic. This shows that 315 of the rows were conventional, while 185 rows were organic."
   ]
  },
  {
   "cell_type": "code",
   "execution_count": null,
   "metadata": {},
   "outputs": [],
   "source": []
  }
 ],
 "metadata": {
  "kernelspec": {
   "display_name": "Python 3",
   "language": "python",
   "name": "python3"
  },
  "language_info": {
   "codemirror_mode": {
    "name": "ipython",
    "version": 3
   },
   "file_extension": ".py",
   "mimetype": "text/x-python",
   "name": "python",
   "nbconvert_exporter": "python",
   "pygments_lexer": "ipython3",
   "version": "3.7.4"
  }
 },
 "nbformat": 4,
 "nbformat_minor": 2
}
